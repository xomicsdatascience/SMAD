{
 "cells": [
  {
   "cell_type": "code",
   "execution_count": 40,
   "id": "8dc3dec1",
   "metadata": {},
   "outputs": [],
   "source": [
    "import pyteomics\n",
    "import lxml\n",
    "from pyteomics import mzml, mass\n",
    "import numpy as np\n",
    "import matplotlib.pyplot as plt\n",
    "import os\n",
    "import pandas as pd\n",
    "from matplotlib import pyplot\n",
    "import matplotlib\n",
    "import seaborn as sns\n",
    "import re\n",
    "import math\n",
    "import statsmodels\n",
    "from sklearn.preprocessing import StandardScaler\n",
    "from sklearn.cluster import KMeans\n",
    "from scipy.stats import f_oneway\n",
    "from scipy.stats import pearsonr\n",
    "from statsmodels.stats.multicomp import pairwise_tukeyhsd"
   ]
  },
  {
   "cell_type": "code",
   "execution_count": 2,
   "id": "6582c0ed",
   "metadata": {},
   "outputs": [],
   "source": [
    "df_pro=pd.read_csv(r'D:\\\\96_well\\\\csodiaq_results\\\\common_proteins.csv')\n",
    "df_meta=pd.read_csv(r'D:\\\\96_well\\\\mzmine\\\\all_metabolites_unscaled.csv')"
   ]
  },
  {
   "cell_type": "code",
   "execution_count": 3,
   "id": "baf19fb0",
   "metadata": {},
   "outputs": [],
   "source": [
    "df_meta=df_meta.drop_duplicates(subset=['mz'],keep='first')"
   ]
  },
  {
   "cell_type": "code",
   "execution_count": null,
   "id": "1f6cbf20",
   "metadata": {},
   "outputs": [],
   "source": [
    "df_pro=df_pro.iloc[:,:83]\n",
    "df_pro.set_index('Unnamed: 0',inplace=True)\n",
    "new_dfpro=np.log2(df_pro)\n",
    "new_dfpro"
   ]
  },
  {
   "cell_type": "code",
   "execution_count": 5,
   "id": "53b66005",
   "metadata": {},
   "outputs": [],
   "source": [
    "new_dfpro.columns=[item.split('/')[-1].split('.')[0] for item in new_dfpro.columns]"
   ]
  },
  {
   "cell_type": "code",
   "execution_count": null,
   "id": "de5725f1",
   "metadata": {},
   "outputs": [],
   "source": [
    "# apply standard scaler to the new dataframe \n",
    "\n",
    "ss = StandardScaler() \n",
    "df_ss = ss.fit_transform(new_dfpro)\n",
    "dfpro_std=pd.DataFrame(df_ss,index=new_dfpro.index,columns=new_dfpro.columns)\n",
    "dfpro_std"
   ]
  },
  {
   "cell_type": "code",
   "execution_count": 7,
   "id": "da66612d",
   "metadata": {},
   "outputs": [],
   "source": [
    "# function for oneway_ANOVA analysis \n",
    "def oneway_ANOVA(result=dfpro_std):\n",
    "    pval=[]\n",
    "    for i in range(len(result)):\n",
    "        aa=result.iloc[i,:11].tolist()\n",
    "        bb=result.iloc[i,11:23].tolist()\n",
    "        cc=result.iloc[i,23:35].tolist()\n",
    "        dd=result.iloc[i,35:46].tolist() \n",
    "        ee=result.iloc[i,46:58].tolist()\n",
    "        ff=result.iloc[i,58:70].tolist()\n",
    "        gg=result.iloc[i,70:82].tolist()\n",
    "        p_value=f_oneway(aa,bb,cc,dd,ee,ff,gg)[1]\n",
    "        pval.append([i,p_value])\n",
    "        fl = pd.DataFrame(pval)\n",
    "        fl.columns = ['number', 'p_value']\n",
    "    return(fl)"
   ]
  },
  {
   "cell_type": "code",
   "execution_count": null,
   "id": "06731865",
   "metadata": {},
   "outputs": [],
   "source": [
    "# make a dataframe for all p_values and corresponding protein name \n",
    "\n",
    "dfpro_pval=oneway_ANOVA(result=dfpro_std)\n",
    "dfpro_pval['index_name']=dfpro_std.index.values.tolist()\n",
    "dfpro_pval"
   ]
  },
  {
   "cell_type": "code",
   "execution_count": 9,
   "id": "791f3de2",
   "metadata": {},
   "outputs": [
    {
     "data": {
      "text/plain": [
       "306"
      ]
     },
     "execution_count": 9,
     "metadata": {},
     "output_type": "execute_result"
    }
   ],
   "source": [
    "len([item for item in dfpro_pval['p_value'].tolist() if item <0.05])"
   ]
  },
  {
   "cell_type": "code",
   "execution_count": 10,
   "id": "65d38837",
   "metadata": {},
   "outputs": [],
   "source": [
    "FDR_res=statsmodels.stats.multitest.fdrcorrection(dfpro_pval['p_value'].tolist(), alpha=0.05, method='indep', is_sorted=False)[0]\n"
   ]
  },
  {
   "cell_type": "code",
   "execution_count": null,
   "id": "0b3b5271",
   "metadata": {},
   "outputs": [],
   "source": [
    "# calculate the pvalues < 0.01 after FDR correction \n",
    "\n",
    "yuyu=[]\n",
    "for item in range(len(FDR_res)):\n",
    "    if FDR_res[item]== True:\n",
    "        yuyu.append(item)\n",
    "len(yuyu)"
   ]
  },
  {
   "cell_type": "code",
   "execution_count": null,
   "id": "952c3d57",
   "metadata": {},
   "outputs": [],
   "source": [
    "# locate the significant proteins from df_pval dataframe, aiming to find the protein names out \n",
    "\n",
    "sig_pros=dfpro_pval.loc[yuyu]\n",
    "sig_pros\n"
   ]
  },
  {
   "cell_type": "code",
   "execution_count": null,
   "id": "8f506426",
   "metadata": {},
   "outputs": [],
   "source": [
    "\n",
    "scaler=StandardScaler()\n",
    "dfpro_std2=dfpro_std\n",
    "proname=dfpro_std2.T.columns\n",
    "k=dfpro_std2.T\n",
    "dfdf_pro=ss.fit_transform(k)\n",
    "\n",
    "dfpro_stdbyrow=pd.DataFrame(dfdf_pro.T,index=dfpro_std2.index,columns=dfpro_std2.columns)\n",
    "dfpro_stdbyrow"
   ]
  },
  {
   "cell_type": "code",
   "execution_count": null,
   "id": "c65a85df",
   "metadata": {},
   "outputs": [],
   "source": [
    "prodf=dfpro_std\n",
    "#calculate the mean value of proteins from all repeats in each treatment\n",
    "con=prodf.iloc[:,:11].mean(axis=1).tolist()\n",
    "con_dmso=prodf.iloc[:,11:23].mean(axis=1).tolist()\n",
    "DFO=prodf.iloc[:,23:35].mean(axis=1).tolist()\n",
    "TORI2=prodf.iloc[:,35:46].mean(axis=1).tolist()\n",
    "IDRIB=prodf.iloc[:,46:58].mean(axis=1).tolist()\n",
    "N2356=prodf.iloc[:,58:70].mean(axis=1).tolist()\n",
    "M7449=prodf.iloc[:,70:82].mean(axis=1).tolist()\n",
    "\n",
    "\n",
    "newdict={'Con':con,'DMSO':con_dmso,'DFO':DFO,\n",
    "        'TORIN2':TORI2,'ISRIB':IDRIB,'A939572':N2356,\n",
    "        'MG-132':M7449}\n",
    "df_mean_pro=pd.DataFrame.from_dict(newdict)\n",
    "df_mean_pro.index=prodf.index\n",
    "df_mean_pro  # dataframe of mean value of proteins "
   ]
  },
  {
   "cell_type": "code",
   "execution_count": 19,
   "id": "15f32bf1",
   "metadata": {},
   "outputs": [],
   "source": [
    "# select significant proteins from the mean value dataframe of proteins \n",
    "\n",
    "dfpro_sig=df_mean_pro.loc[sig_pros['index_name'].tolist()]"
   ]
  },
  {
   "cell_type": "code",
   "execution_count": null,
   "id": "cf074f4d",
   "metadata": {},
   "outputs": [],
   "source": [
    "dfpro_sig.columns"
   ]
  },
  {
   "cell_type": "markdown",
   "id": "1d3388a2",
   "metadata": {},
   "source": [
    "# clustering analysis of metabolites of 96well plate starts from here"
   ]
  },
  {
   "cell_type": "code",
   "execution_count": null,
   "id": "ce0a41c3",
   "metadata": {},
   "outputs": [],
   "source": [
    "newdf_meta=df_meta.set_index('mz')\n",
    "newdf_meta"
   ]
  },
  {
   "cell_type": "code",
   "execution_count": 15,
   "id": "79fdb04e",
   "metadata": {},
   "outputs": [],
   "source": [
    "newdf_meta = newdf_meta.drop('D10', axis=1)"
   ]
  },
  {
   "cell_type": "code",
   "execution_count": null,
   "id": "5dcda7b2",
   "metadata": {},
   "outputs": [],
   "source": [
    "newdf_meta"
   ]
  },
  {
   "cell_type": "code",
   "execution_count": null,
   "id": "a11da4bb",
   "metadata": {},
   "outputs": [],
   "source": [
    "# apply standard scaler to the new dataframe of metabolites \n",
    "\n",
    "ss = StandardScaler() \n",
    "df_sss = ss.fit_transform(newdf_meta)\n",
    "df_std_meta=pd.DataFrame(df_sss,index=newdf_meta.index,columns=newdf_meta.columns)\n",
    "df_std_meta"
   ]
  },
  {
   "cell_type": "code",
   "execution_count": null,
   "id": "831e7789",
   "metadata": {},
   "outputs": [],
   "source": [
    "# make a dataframe for all p_values and corresponding metabolites m/z  \n",
    "\n",
    "df_pval_meta=oneway_ANOVA(result=df_std_meta)  # calculate p value of all metabolites \n",
    "df_pval_meta['index_name']=df_std_meta.index.values.tolist()\n",
    "df_pval_meta"
   ]
  },
  {
   "cell_type": "code",
   "execution_count": null,
   "id": "0405963d",
   "metadata": {},
   "outputs": [],
   "source": [
    "len([item for item in df_pval_meta['p_value'].tolist() if item <0.05])"
   ]
  },
  {
   "cell_type": "code",
   "execution_count": 20,
   "id": "b6f0d006",
   "metadata": {},
   "outputs": [],
   "source": [
    "# FDR correction for all p_values of metabolites from Standard scaler less than 0.05 \n",
    "\n",
    "FDR_res2=statsmodels.stats.multitest.fdrcorrection(df_pval_meta['p_value'].tolist(), alpha=0.01, method='indep', is_sorted=False)[0]\n"
   ]
  },
  {
   "cell_type": "code",
   "execution_count": null,
   "id": "6333d9c3",
   "metadata": {},
   "outputs": [],
   "source": [
    "# calculate the pvalues < 0.05 after FDR correction \n",
    "yuyu2=[]\n",
    "for item in range(len(FDR_res2)):\n",
    "    if FDR_res2[item]== True:\n",
    "        yuyu2.append(item)\n",
    "len(yuyu2)"
   ]
  },
  {
   "cell_type": "code",
   "execution_count": null,
   "id": "1a44ee9d",
   "metadata": {},
   "outputs": [],
   "source": [
    "# locate the significant proteins from df_pval dataframe, aiming to find the protein names out \n",
    "sig_meta=df_pval_meta.loc[yuyu2]\n",
    "sig_meta"
   ]
  },
  {
   "cell_type": "code",
   "execution_count": null,
   "id": "a1c047a4",
   "metadata": {},
   "outputs": [],
   "source": [
    "\n",
    "scaler=StandardScaler()\n",
    "df_std_meta2=df_std_meta\n",
    "metamz=df_std_meta2.T.columns\n",
    "kk2=df_std_meta2.T\n",
    "dfdf_meta=ss.fit_transform(kk2)\n",
    "\n",
    "df_meta_stdbyrow=pd.DataFrame(dfdf_meta.T,index=df_std_meta2.index,columns=df_std_meta2.columns)\n",
    "df_meta_stdbyrow\n"
   ]
  },
  {
   "cell_type": "code",
   "execution_count": null,
   "id": "137aa1e7",
   "metadata": {},
   "outputs": [],
   "source": [
    "\n",
    "#calculate the mean value of metabolites from all repeats in each treatment\n",
    "metadf=df_std_meta\n",
    "con_meta=metadf.iloc[:,:11].mean(axis=1).tolist()\n",
    "dmso_meta=metadf.iloc[:,11:23].mean(axis=1).tolist()\n",
    "DFO_meta=metadf.iloc[:,23:35].mean(axis=1).tolist()\n",
    "TORI2_meta=metadf.iloc[:,35:46].mean(axis=1).tolist()\n",
    "IDRIB_meta=metadf.iloc[:,46:58].mean(axis=1).tolist()\n",
    "N2356_meta=metadf.iloc[:,58:70].mean(axis=1).tolist()\n",
    "M7449_meta=metadf.iloc[:,70:82].mean(axis=1).tolist()\n",
    "\n",
    "\n",
    "newdict_meta={'Con':con_meta,'DMSO':dmso_meta,'DFO':DFO_meta,\n",
    "        'TORIN2':TORI2_meta,'ISRIB':IDRIB_meta,'A939572':N2356_meta,\n",
    "        'MG-132':M7449_meta}\n",
    "\n",
    "df_mean_meta=pd.DataFrame.from_dict(newdict_meta)\n",
    "df_mean_meta.index=metadf.index\n",
    "df_mean_meta  # dataframe of mean value of proteins "
   ]
  },
  {
   "cell_type": "code",
   "execution_count": 25,
   "id": "77cae056",
   "metadata": {},
   "outputs": [],
   "source": [
    "# select significant proteins from the mean value dataframe of proteins \n",
    "\n",
    "dfmeta_sig=df_mean_meta.loc[sig_meta['index_name'].tolist()]"
   ]
  },
  {
   "cell_type": "code",
   "execution_count": null,
   "id": "1c1defc1",
   "metadata": {},
   "outputs": [],
   "source": [
    "df_mean_pro"
   ]
  },
  {
   "cell_type": "code",
   "execution_count": 72,
   "id": "f5f2b1f6",
   "metadata": {},
   "outputs": [],
   "source": [
    "dfdf=df_mean_meta\n",
    "#dfdf=df_mean_pro\n",
    "\n",
    "list1 = dfdf['DMSO'].tolist()\n",
    "list2 = dfdf['DFO'].tolist()\n",
    "list3 = dfdf['TORIN2'].tolist()\n",
    "list4 = dfdf['ISRIB'].tolist()\n",
    "list5 = dfdf['A939572'].tolist()\n",
    "list6 = dfdf['MG-132'].tolist()\n",
    "list_con = dfdf['Con'].tolist()\n",
    "\n",
    "DMSO = [x - y for x, y in zip(list1, list_con)]\n",
    "DFO = [x - y for x, y in zip(list2, list_con)]\n",
    "TORIN2 = [x - y for x, y in zip(list3, list_con)]\n",
    "ISRIB = [x - y for x, y in zip(list4, list_con)]\n",
    "A939572 = [x - y for x, y in zip(list5, list_con)]\n",
    "MG_132 = [x - y for x, y in zip(list6, list_con)]\n",
    "\n",
    "lists=[DMSO,DFO,TORIN2,ISRIB,A939572,MG_132]"
   ]
  },
  {
   "cell_type": "code",
   "execution_count": 77,
   "id": "db722c91",
   "metadata": {},
   "outputs": [],
   "source": [
    "\n",
    "\n",
    "def pearson_correlation(list1, list2):\n",
    "    correlation_coefficient = np.corrcoef(list1, list2)[0, 1]\n",
    "    return correlation_coefficient\n",
    "\n",
    "def plot_jointplot(resultx=DMSO,resulty=DFO,xlabel='DMSO vs Con', ylabel='DFO vs Con'):\n",
    "    plt.rcParams['font.family'] = 'Arial'\n",
    "    plt.figure(figsize=(4,4))\n",
    "    g=sns.jointplot(x=resultx, \n",
    "                      y=resulty,\n",
    "                      #xlim = (13,26), ylim = (13,26),\n",
    "                      kind=\"reg\", truncate=False,\n",
    "                      color=\"deepskyblue\", height=6)\n",
    "                      #color=\"purple\", height=6)\n",
    "    g.ax_joint.tick_params(labelsize=22)\n",
    "    g.set_axis_labels(xlabel, ylabel, fontsize=22)\n",
    "    plt.savefig(r'D:\\\\project7_SMAD\\\\SI\\\\{}.svg'.format(xlabel+\"meta\"+ylabel),dpi=800,bbox_inches='tight')\n",
    "    print(pearson_correlation(resultx, resulty))\n",
    "    "
   ]
  },
  {
   "cell_type": "code",
   "execution_count": 78,
   "id": "e63e3cfc",
   "metadata": {},
   "outputs": [],
   "source": [
    "# calculate pearson correlation\n",
    "correlation_matrix = np.zeros((len(lists), len(lists)))\n",
    "\n",
    "for i in range(len(lists)):\n",
    "    for j in range(i+1, len(lists)):\n",
    "        corr, _ = pearsonr(lists[i], lists[j])\n",
    "        #corr=np.corrcoef(lists[i], lists[j])[0, 1]\n",
    "        correlation_matrix[i][j] = corr\n",
    "        correlation_matrix[j][i] = corr\n",
    "        \n",
    "for i in range(len(lists)):\n",
    "    corr,_=pearsonr(lists[i], lists[i])\n",
    "    correlation_matrix[i][i] = corr\n",
    "\n"
   ]
  },
  {
   "cell_type": "code",
   "execution_count": null,
   "id": "48d29c61",
   "metadata": {},
   "outputs": [],
   "source": [
    "\n",
    "plt.figure(figsize=(8, 6))\n",
    "plt.rcParams['font.family'] = 'Arial'\n",
    "sns.heatmap(correlation_matrix, annot=True, cmap='viridis', fmt=\".3f\",\n",
    "            xticklabels=['DMSO','DFO','TORIN2','ISRIB','A939572','MG_132'],\n",
    "            yticklabels=['DMSO','DFO','TORIN2','ISRIB','A939572','MG_132'])\n",
    "#plt.title(\"Pearson Correlation of Proteome\")\n",
    "#plt.xlabel(\"List Index\")\n",
    "#plt.ylabel(\"List Index\")\n",
    "plt.savefig(r'D:\\\\project7_SMAD\\\\SI\\\\meta_corre_heatmap.svg',dpi=800,bbox_inches='tight')\n",
    "\n",
    "plt.show()"
   ]
  },
  {
   "cell_type": "code",
   "execution_count": null,
   "id": "ae91d181",
   "metadata": {},
   "outputs": [],
   "source": [
    "plot_jointplot(resultx=TORIN2,resulty=MG_132,xlabel='TORIN2 vs Con', ylabel='MG-132 vs Con')"
   ]
  },
  {
   "cell_type": "code",
   "execution_count": null,
   "id": "f72e0754",
   "metadata": {},
   "outputs": [],
   "source": [
    "plot_jointplot(resultx=TORIN2,resulty=DMSO,xlabel='TORIN2 vs Con', ylabel='DMSO vs Con')"
   ]
  }
 ],
 "metadata": {
  "kernelspec": {
   "display_name": "Python 3 (ipykernel)",
   "language": "python",
   "name": "python3"
  },
  "language_info": {
   "codemirror_mode": {
    "name": "ipython",
    "version": 3
   },
   "file_extension": ".py",
   "mimetype": "text/x-python",
   "name": "python",
   "nbconvert_exporter": "python",
   "pygments_lexer": "ipython3",
   "version": "3.9.7"
  }
 },
 "nbformat": 4,
 "nbformat_minor": 5
}

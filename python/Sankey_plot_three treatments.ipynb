{
 "cells": [
  {
   "cell_type": "code",
   "execution_count": 11,
   "id": "46e9b3fb",
   "metadata": {},
   "outputs": [],
   "source": [
    "import pyteomics\n",
    "import lxml\n",
    "from pyteomics import mzml, mass\n",
    "import numpy as np\n",
    "import matplotlib.pyplot as plt\n",
    "import os\n",
    "import pandas as pd\n",
    "from matplotlib import pyplot\n",
    "import matplotlib\n",
    "import seaborn as sns\n",
    "import re\n",
    "import math\n",
    "import statsmodels\n",
    "from sklearn.preprocessing import StandardScaler\n",
    "from sklearn.cluster import KMeans\n",
    "from scipy.stats import f_oneway\n",
    "from statsmodels.stats.multicomp import pairwise_tukeyhsd\n",
    "from scipy.stats import mannwhitneyu\n",
    "import scipy.stats as stats"
   ]
  },
  {
   "cell_type": "code",
   "execution_count": 4,
   "id": "81498363",
   "metadata": {},
   "outputs": [],
   "source": [
    "dfsig_pro=pd.read_excel(r'D:\\\\project7_SMAD\\\\figure_3_macro_clustering_analysis\\\\macro_sigpro.xlsx',index_col=0)\n",
    "dfsig_meta=pd.read_excel(r'D:\\\\project7_SMAD\\\\figure_3_macro_clustering_analysis\\\\macro_sigmeta_identified.xlsx',index_col=0)"
   ]
  },
  {
   "cell_type": "code",
   "execution_count": 9,
   "id": "7cdea7b1",
   "metadata": {},
   "outputs": [],
   "source": [
    "dfsig_meta=dfsig_meta.iloc[:,:18]"
   ]
  },
  {
   "cell_type": "code",
   "execution_count": 73,
   "id": "4ebd02cc",
   "metadata": {},
   "outputs": [],
   "source": [
    "# function for oneway_ANOVA analysis \n",
    "def twosided_wilcoxon(result=dfsig_meta):\n",
    "    pval=[]\n",
    "    for i in range(len(result)):\n",
    "        aa=result.iloc[i,:6].tolist()\n",
    "        bb=result.iloc[i,6:12].tolist()\n",
    "        cc=result.iloc[i,12:18].tolist()  \n",
    "        p_value1=mannwhitneyu(aa, bb, alternative='two-sided')[1]\n",
    "        p_value2=mannwhitneyu(aa, cc, alternative='two-sided')[1]\n",
    "        pval.append([p_value1,p_value2])\n",
    "    fl = pd.DataFrame(pval)\n",
    "    fl.columns = ['pvalue1', 'pvalue2']\n",
    "    fl.index=result.index\n",
    "    return(fl)\n",
    "def ttest(result=dfsig_meta):\n",
    "    pval=[]\n",
    "    for i in range(len(result)):\n",
    "        aa=result.iloc[i,:6].tolist()\n",
    "        bb=result.iloc[i,6:12].tolist()\n",
    "        cc=result.iloc[i,12:18].tolist()  \n",
    "        p_value1=stats.ttest_ind(aa, bb, equal_var=False)[1]\n",
    "        p_value2=stats.ttest_ind(aa, cc, equal_var=False)[1]\n",
    "        pval.append([p_value1,p_value2])\n",
    "    fl = pd.DataFrame(pval)\n",
    "        #fl.index=dfsig_meta.index\n",
    "    fl.columns = ['pvalue1', 'pvalue2'] \n",
    "    fl.index=result.index\n",
    "    return(fl)"
   ]
  },
  {
   "cell_type": "code",
   "execution_count": 84,
   "id": "5b5a6637",
   "metadata": {},
   "outputs": [],
   "source": [
    "pval_meta=ttest(result=dfsig_meta)\n",
    "pval_pro=ttest(result=dfsig_pro)"
   ]
  },
  {
   "cell_type": "code",
   "execution_count": 82,
   "id": "5ad2f5fe",
   "metadata": {},
   "outputs": [
    {
     "data": {
      "text/html": [
       "<div>\n",
       "<style scoped>\n",
       "    .dataframe tbody tr th:only-of-type {\n",
       "        vertical-align: middle;\n",
       "    }\n",
       "\n",
       "    .dataframe tbody tr th {\n",
       "        vertical-align: top;\n",
       "    }\n",
       "\n",
       "    .dataframe thead th {\n",
       "        text-align: right;\n",
       "    }\n",
       "</style>\n",
       "<table border=\"1\" class=\"dataframe\">\n",
       "  <thead>\n",
       "    <tr style=\"text-align: right;\">\n",
       "      <th></th>\n",
       "      <th>Con</th>\n",
       "      <th>LPS</th>\n",
       "      <th>IL_4</th>\n",
       "    </tr>\n",
       "    <tr>\n",
       "      <th>mz</th>\n",
       "      <th></th>\n",
       "      <th></th>\n",
       "      <th></th>\n",
       "    </tr>\n",
       "  </thead>\n",
       "  <tbody>\n",
       "    <tr>\n",
       "      <th>120.08104</th>\n",
       "      <td>2.920519</td>\n",
       "      <td>2.736463</td>\n",
       "      <td>3.320613</td>\n",
       "    </tr>\n",
       "    <tr>\n",
       "      <th>132.07695</th>\n",
       "      <td>4.012366</td>\n",
       "      <td>3.457651</td>\n",
       "      <td>4.224620</td>\n",
       "    </tr>\n",
       "    <tr>\n",
       "      <th>104.10670</th>\n",
       "      <td>4.740895</td>\n",
       "      <td>4.005946</td>\n",
       "      <td>4.624932</td>\n",
       "    </tr>\n",
       "    <tr>\n",
       "      <th>129.13852</th>\n",
       "      <td>2.727060</td>\n",
       "      <td>2.191781</td>\n",
       "      <td>2.813514</td>\n",
       "    </tr>\n",
       "    <tr>\n",
       "      <th>137.13241</th>\n",
       "      <td>-0.350777</td>\n",
       "      <td>0.267748</td>\n",
       "      <td>0.151859</td>\n",
       "    </tr>\n",
       "    <tr>\n",
       "      <th>...</th>\n",
       "      <td>...</td>\n",
       "      <td>...</td>\n",
       "      <td>...</td>\n",
       "    </tr>\n",
       "    <tr>\n",
       "      <th>796.58281</th>\n",
       "      <td>3.129052</td>\n",
       "      <td>3.206101</td>\n",
       "      <td>2.997703</td>\n",
       "    </tr>\n",
       "    <tr>\n",
       "      <th>810.59830</th>\n",
       "      <td>4.580980</td>\n",
       "      <td>4.352467</td>\n",
       "      <td>4.475976</td>\n",
       "    </tr>\n",
       "    <tr>\n",
       "      <th>813.68401</th>\n",
       "      <td>4.072270</td>\n",
       "      <td>3.842545</td>\n",
       "      <td>4.204185</td>\n",
       "    </tr>\n",
       "    <tr>\n",
       "      <th>788.61480</th>\n",
       "      <td>3.951020</td>\n",
       "      <td>3.655097</td>\n",
       "      <td>3.952896</td>\n",
       "    </tr>\n",
       "    <tr>\n",
       "      <th>835.66601</th>\n",
       "      <td>4.357903</td>\n",
       "      <td>4.097339</td>\n",
       "      <td>4.154264</td>\n",
       "    </tr>\n",
       "  </tbody>\n",
       "</table>\n",
       "<p>61 rows × 3 columns</p>\n",
       "</div>"
      ],
      "text/plain": [
       "                Con       LPS      IL_4\n",
       "mz                                     \n",
       "120.08104  2.920519  2.736463  3.320613\n",
       "132.07695  4.012366  3.457651  4.224620\n",
       "104.10670  4.740895  4.005946  4.624932\n",
       "129.13852  2.727060  2.191781  2.813514\n",
       "137.13241 -0.350777  0.267748  0.151859\n",
       "...             ...       ...       ...\n",
       "796.58281  3.129052  3.206101  2.997703\n",
       "810.59830  4.580980  4.352467  4.475976\n",
       "813.68401  4.072270  3.842545  4.204185\n",
       "788.61480  3.951020  3.655097  3.952896\n",
       "835.66601  4.357903  4.097339  4.154264\n",
       "\n",
       "[61 rows x 3 columns]"
      ]
     },
     "execution_count": 82,
     "metadata": {},
     "output_type": "execute_result"
    }
   ],
   "source": [
    "dfmean_meta"
   ]
  },
  {
   "cell_type": "code",
   "execution_count": 86,
   "id": "2fcc3f3c",
   "metadata": {},
   "outputs": [
    {
     "data": {
      "text/html": [
       "<div>\n",
       "<style scoped>\n",
       "    .dataframe tbody tr th:only-of-type {\n",
       "        vertical-align: middle;\n",
       "    }\n",
       "\n",
       "    .dataframe tbody tr th {\n",
       "        vertical-align: top;\n",
       "    }\n",
       "\n",
       "    .dataframe thead th {\n",
       "        text-align: right;\n",
       "    }\n",
       "</style>\n",
       "<table border=\"1\" class=\"dataframe\">\n",
       "  <thead>\n",
       "    <tr style=\"text-align: right;\">\n",
       "      <th></th>\n",
       "      <th>Con</th>\n",
       "      <th>LPS</th>\n",
       "      <th>IL_4</th>\n",
       "    </tr>\n",
       "    <tr>\n",
       "      <th>Unnamed: 0</th>\n",
       "      <th></th>\n",
       "      <th></th>\n",
       "      <th></th>\n",
       "    </tr>\n",
       "  </thead>\n",
       "  <tbody>\n",
       "    <tr>\n",
       "      <th>2/tr|Q6PHC1|Q6PHC1_MOUSE/sp|P17182|ENOA_MOUSE</th>\n",
       "      <td>1.494483</td>\n",
       "      <td>1.167400</td>\n",
       "      <td>1.324621</td>\n",
       "    </tr>\n",
       "    <tr>\n",
       "      <th>9/tr|G5E846|G5E846_MOUSE/tr|G3X981|G3X981_MOUSE/tr|A0A2R8W6R6|A0A2R8W6R6_MOUSE/tr|A0A0A6YWC8|A0A0A6YWC8_MOUSE/sp|Q9DCV7|K2C7_MOUSE/sp|P31001|DESM_MOUSE/sp|P20152|VIME_MOUSE/sp|P15331|PERI_MOUSE/sp|P11679|K2C8_MOUSE</th>\n",
       "      <td>0.890127</td>\n",
       "      <td>1.072265</td>\n",
       "      <td>0.957413</td>\n",
       "    </tr>\n",
       "    <tr>\n",
       "      <th>2/tr|Q8BG13|Q8BG13_MOUSE/sp|O89086|RBM3_MOUSE</th>\n",
       "      <td>-0.824407</td>\n",
       "      <td>-0.644918</td>\n",
       "      <td>-0.811394</td>\n",
       "    </tr>\n",
       "    <tr>\n",
       "      <th>1/sp|Q9DBJ1|PGAM1_MOUSE</th>\n",
       "      <td>0.537080</td>\n",
       "      <td>0.229118</td>\n",
       "      <td>0.417063</td>\n",
       "    </tr>\n",
       "    <tr>\n",
       "      <th>2/tr|B8JKK2|B8JKK2_MOUSE/sp|Q9CZM2|RL15_MOUSE</th>\n",
       "      <td>0.559455</td>\n",
       "      <td>0.735947</td>\n",
       "      <td>0.658439</td>\n",
       "    </tr>\n",
       "    <tr>\n",
       "      <th>...</th>\n",
       "      <td>...</td>\n",
       "      <td>...</td>\n",
       "      <td>...</td>\n",
       "    </tr>\n",
       "    <tr>\n",
       "      <th>2/tr|H7BXC3|H7BXC3_MOUSE/sp|P17751|TPIS_MOUSE</th>\n",
       "      <td>1.401429</td>\n",
       "      <td>1.071745</td>\n",
       "      <td>1.284172</td>\n",
       "    </tr>\n",
       "    <tr>\n",
       "      <th>1/sp|P40142|TKT_MOUSE</th>\n",
       "      <td>-0.408229</td>\n",
       "      <td>-0.842282</td>\n",
       "      <td>-0.463867</td>\n",
       "    </tr>\n",
       "    <tr>\n",
       "      <th>1/sp|Q8K1T1|LRC25_MOUSE</th>\n",
       "      <td>-1.181898</td>\n",
       "      <td>-0.751399</td>\n",
       "      <td>-1.031430</td>\n",
       "    </tr>\n",
       "    <tr>\n",
       "      <th>2/tr|A0A286YEB7|A0A286YEB7_MOUSE/sp|P62849|RS24_MOUSE</th>\n",
       "      <td>0.223736</td>\n",
       "      <td>0.399867</td>\n",
       "      <td>0.370039</td>\n",
       "    </tr>\n",
       "    <tr>\n",
       "      <th>8/tr|H3BLJ9|H3BLJ9_MOUSE/tr|H3BL99|H3BL99_MOUSE/tr|H3BKH6|H3BKH6_MOUSE/tr|H3BK43|H3BK43_MOUSE/tr|H3BJP2|H3BJP2_MOUSE/tr|H3BJL6|H3BJL6_MOUSE/tr|H3BJC6|H3BJC6_MOUSE/sp|Q9R0P3|ESTD_MOUSE</th>\n",
       "      <td>-0.261889</td>\n",
       "      <td>-0.481331</td>\n",
       "      <td>-0.267968</td>\n",
       "    </tr>\n",
       "  </tbody>\n",
       "</table>\n",
       "<p>224 rows × 3 columns</p>\n",
       "</div>"
      ],
      "text/plain": [
       "                                                         Con       LPS  \\\n",
       "Unnamed: 0                                                               \n",
       "2/tr|Q6PHC1|Q6PHC1_MOUSE/sp|P17182|ENOA_MOUSE       1.494483  1.167400   \n",
       "9/tr|G5E846|G5E846_MOUSE/tr|G3X981|G3X981_MOUSE...  0.890127  1.072265   \n",
       "2/tr|Q8BG13|Q8BG13_MOUSE/sp|O89086|RBM3_MOUSE      -0.824407 -0.644918   \n",
       "1/sp|Q9DBJ1|PGAM1_MOUSE                             0.537080  0.229118   \n",
       "2/tr|B8JKK2|B8JKK2_MOUSE/sp|Q9CZM2|RL15_MOUSE       0.559455  0.735947   \n",
       "...                                                      ...       ...   \n",
       "2/tr|H7BXC3|H7BXC3_MOUSE/sp|P17751|TPIS_MOUSE       1.401429  1.071745   \n",
       "1/sp|P40142|TKT_MOUSE                              -0.408229 -0.842282   \n",
       "1/sp|Q8K1T1|LRC25_MOUSE                            -1.181898 -0.751399   \n",
       "2/tr|A0A286YEB7|A0A286YEB7_MOUSE/sp|P62849|RS24...  0.223736  0.399867   \n",
       "8/tr|H3BLJ9|H3BLJ9_MOUSE/tr|H3BL99|H3BL99_MOUSE... -0.261889 -0.481331   \n",
       "\n",
       "                                                        IL_4  \n",
       "Unnamed: 0                                                    \n",
       "2/tr|Q6PHC1|Q6PHC1_MOUSE/sp|P17182|ENOA_MOUSE       1.324621  \n",
       "9/tr|G5E846|G5E846_MOUSE/tr|G3X981|G3X981_MOUSE...  0.957413  \n",
       "2/tr|Q8BG13|Q8BG13_MOUSE/sp|O89086|RBM3_MOUSE      -0.811394  \n",
       "1/sp|Q9DBJ1|PGAM1_MOUSE                             0.417063  \n",
       "2/tr|B8JKK2|B8JKK2_MOUSE/sp|Q9CZM2|RL15_MOUSE       0.658439  \n",
       "...                                                      ...  \n",
       "2/tr|H7BXC3|H7BXC3_MOUSE/sp|P17751|TPIS_MOUSE       1.284172  \n",
       "1/sp|P40142|TKT_MOUSE                              -0.463867  \n",
       "1/sp|Q8K1T1|LRC25_MOUSE                            -1.031430  \n",
       "2/tr|A0A286YEB7|A0A286YEB7_MOUSE/sp|P62849|RS24...  0.370039  \n",
       "8/tr|H3BLJ9|H3BLJ9_MOUSE/tr|H3BL99|H3BL99_MOUSE... -0.267968  \n",
       "\n",
       "[224 rows x 3 columns]"
      ]
     },
     "execution_count": 86,
     "metadata": {},
     "output_type": "execute_result"
    }
   ],
   "source": [
    "dfmean_pro"
   ]
  },
  {
   "cell_type": "code",
   "execution_count": 49,
   "id": "387aa48b",
   "metadata": {},
   "outputs": [],
   "source": [
    "# FDR correction for all p_values from Standard scaler\n",
    "FDR_res=statsmodels.stats.multitest.fdrcorrection(twosided_wilcoxon(result=dfsig_pro)['pvalue1'].tolist(), alpha=0.05, method='indep', is_sorted=False)[0]"
   ]
  },
  {
   "cell_type": "code",
   "execution_count": 50,
   "id": "d95864a9",
   "metadata": {},
   "outputs": [],
   "source": [
    "FDR_res2=statsmodels.stats.multitest.fdrcorrection(ttest(result=dfsig_pro)['pvalue1'].tolist(), alpha=0.05, method='indep', is_sorted=False)[0]"
   ]
  },
  {
   "cell_type": "code",
   "execution_count": 52,
   "id": "9cf6e40d",
   "metadata": {},
   "outputs": [
    {
     "data": {
      "text/plain": [
       "193"
      ]
     },
     "execution_count": 52,
     "metadata": {},
     "output_type": "execute_result"
    }
   ],
   "source": [
    "yuyu=[]\n",
    "for item in range(len(FDR_res)):\n",
    "    if FDR_res[item]== True:\n",
    "        yuyu.append(item)\n",
    "len(yuyu)"
   ]
  },
  {
   "cell_type": "code",
   "execution_count": null,
   "id": "059f1aab",
   "metadata": {},
   "outputs": [],
   "source": [
    "#calculate the mean value from 6 repeats in each treatment of significant proteins\n",
    "con=dfsig_pro.iloc[:,:6].mean(axis=1).tolist()\n",
    "lps=dfsig_pro.iloc[:,6:12].mean(axis=1).tolist()\n",
    "IL_4=dfsig_pro.iloc[:,12:18].mean(axis=1).tolist()\n",
    "\n",
    "newdict={'Con':con,'LPS':lps,'IL_4':IL_4}\n",
    "\n",
    "dfmean_pro=pd.DataFrame.from_dict(newdict)\n",
    "dfmean_pro.index=dfsig_pro.index\n",
    "dfmean_pro\n",
    "\n",
    "#calculate the mean value from 6 repeats in each treatment of significant metabolites\n",
    "con=dfsig_meta.iloc[:,:6].mean(axis=1).tolist()\n",
    "lps=dfsig_meta.iloc[:,6:12].mean(axis=1).tolist()\n",
    "IL_4=dfsig_meta.iloc[:,12:18].mean(axis=1).tolist()\n",
    "\n",
    "newdict={'Con':con,'LPS':lps,'IL_4':IL_4}\n",
    "\n",
    "dfmean_meta=pd.DataFrame.from_dict(newdict)\n",
    "dfmean_meta.index=dfsig_meta.index\n",
    "dfmean_meta"
   ]
  },
  {
   "cell_type": "code",
   "execution_count": 95,
   "id": "d2c15729",
   "metadata": {},
   "outputs": [],
   "source": [
    "meta_final=pd.concat([dfmean_meta,pval_meta],axis=1)\n",
    "pro_final=pd.concat([dfmean_pro,pval_pro],axis=1)"
   ]
  },
  {
   "cell_type": "code",
   "execution_count": 90,
   "id": "a877e52c",
   "metadata": {},
   "outputs": [
    {
     "data": {
      "text/html": [
       "<div>\n",
       "<style scoped>\n",
       "    .dataframe tbody tr th:only-of-type {\n",
       "        vertical-align: middle;\n",
       "    }\n",
       "\n",
       "    .dataframe tbody tr th {\n",
       "        vertical-align: top;\n",
       "    }\n",
       "\n",
       "    .dataframe thead th {\n",
       "        text-align: right;\n",
       "    }\n",
       "</style>\n",
       "<table border=\"1\" class=\"dataframe\">\n",
       "  <thead>\n",
       "    <tr style=\"text-align: right;\">\n",
       "      <th></th>\n",
       "      <th>Con</th>\n",
       "      <th>LPS</th>\n",
       "      <th>IL_4</th>\n",
       "      <th>pvalue1</th>\n",
       "      <th>pvalue2</th>\n",
       "    </tr>\n",
       "    <tr>\n",
       "      <th>mz</th>\n",
       "      <th></th>\n",
       "      <th></th>\n",
       "      <th></th>\n",
       "      <th></th>\n",
       "      <th></th>\n",
       "    </tr>\n",
       "  </thead>\n",
       "  <tbody>\n",
       "    <tr>\n",
       "      <th>120.08104</th>\n",
       "      <td>2.920519</td>\n",
       "      <td>2.736463</td>\n",
       "      <td>3.320613</td>\n",
       "      <td>0.047343</td>\n",
       "      <td>0.001930</td>\n",
       "    </tr>\n",
       "    <tr>\n",
       "      <th>132.07695</th>\n",
       "      <td>4.012366</td>\n",
       "      <td>3.457651</td>\n",
       "      <td>4.224620</td>\n",
       "      <td>0.000246</td>\n",
       "      <td>0.018956</td>\n",
       "    </tr>\n",
       "    <tr>\n",
       "      <th>104.10670</th>\n",
       "      <td>4.740895</td>\n",
       "      <td>4.005946</td>\n",
       "      <td>4.624932</td>\n",
       "      <td>0.000146</td>\n",
       "      <td>0.185121</td>\n",
       "    </tr>\n",
       "    <tr>\n",
       "      <th>129.13852</th>\n",
       "      <td>2.727060</td>\n",
       "      <td>2.191781</td>\n",
       "      <td>2.813514</td>\n",
       "      <td>0.000073</td>\n",
       "      <td>0.420405</td>\n",
       "    </tr>\n",
       "    <tr>\n",
       "      <th>137.13241</th>\n",
       "      <td>-0.350777</td>\n",
       "      <td>0.267748</td>\n",
       "      <td>0.151859</td>\n",
       "      <td>0.000308</td>\n",
       "      <td>0.010492</td>\n",
       "    </tr>\n",
       "    <tr>\n",
       "      <th>...</th>\n",
       "      <td>...</td>\n",
       "      <td>...</td>\n",
       "      <td>...</td>\n",
       "      <td>...</td>\n",
       "      <td>...</td>\n",
       "    </tr>\n",
       "    <tr>\n",
       "      <th>796.58281</th>\n",
       "      <td>3.129052</td>\n",
       "      <td>3.206101</td>\n",
       "      <td>2.997703</td>\n",
       "      <td>0.089326</td>\n",
       "      <td>0.013301</td>\n",
       "    </tr>\n",
       "    <tr>\n",
       "      <th>810.59830</th>\n",
       "      <td>4.580980</td>\n",
       "      <td>4.352467</td>\n",
       "      <td>4.475976</td>\n",
       "      <td>0.004459</td>\n",
       "      <td>0.089080</td>\n",
       "    </tr>\n",
       "    <tr>\n",
       "      <th>813.68401</th>\n",
       "      <td>4.072270</td>\n",
       "      <td>3.842545</td>\n",
       "      <td>4.204185</td>\n",
       "      <td>0.041457</td>\n",
       "      <td>0.138709</td>\n",
       "    </tr>\n",
       "    <tr>\n",
       "      <th>788.61480</th>\n",
       "      <td>3.951020</td>\n",
       "      <td>3.655097</td>\n",
       "      <td>3.952896</td>\n",
       "      <td>0.000890</td>\n",
       "      <td>0.972979</td>\n",
       "    </tr>\n",
       "    <tr>\n",
       "      <th>835.66601</th>\n",
       "      <td>4.357903</td>\n",
       "      <td>4.097339</td>\n",
       "      <td>4.154264</td>\n",
       "      <td>0.000662</td>\n",
       "      <td>0.020142</td>\n",
       "    </tr>\n",
       "  </tbody>\n",
       "</table>\n",
       "<p>61 rows × 5 columns</p>\n",
       "</div>"
      ],
      "text/plain": [
       "                Con       LPS      IL_4   pvalue1   pvalue2\n",
       "mz                                                         \n",
       "120.08104  2.920519  2.736463  3.320613  0.047343  0.001930\n",
       "132.07695  4.012366  3.457651  4.224620  0.000246  0.018956\n",
       "104.10670  4.740895  4.005946  4.624932  0.000146  0.185121\n",
       "129.13852  2.727060  2.191781  2.813514  0.000073  0.420405\n",
       "137.13241 -0.350777  0.267748  0.151859  0.000308  0.010492\n",
       "...             ...       ...       ...       ...       ...\n",
       "796.58281  3.129052  3.206101  2.997703  0.089326  0.013301\n",
       "810.59830  4.580980  4.352467  4.475976  0.004459  0.089080\n",
       "813.68401  4.072270  3.842545  4.204185  0.041457  0.138709\n",
       "788.61480  3.951020  3.655097  3.952896  0.000890  0.972979\n",
       "835.66601  4.357903  4.097339  4.154264  0.000662  0.020142\n",
       "\n",
       "[61 rows x 5 columns]"
      ]
     },
     "execution_count": 90,
     "metadata": {},
     "output_type": "execute_result"
    }
   ],
   "source": [
    "meta_final"
   ]
  },
  {
   "cell_type": "code",
   "execution_count": 94,
   "id": "20734e3e",
   "metadata": {},
   "outputs": [
    {
     "data": {
      "text/plain": [
       "45"
      ]
     },
     "execution_count": 94,
     "metadata": {},
     "output_type": "execute_result"
    }
   ],
   "source": [
    "len(meta_final[meta_final['pvalue1']<0.05])"
   ]
  },
  {
   "cell_type": "code",
   "execution_count": 89,
   "id": "d516d97e",
   "metadata": {},
   "outputs": [],
   "source": []
  },
  {
   "cell_type": "code",
   "execution_count": 99,
   "id": "421e421d",
   "metadata": {},
   "outputs": [
    {
     "data": {
      "text/plain": [
       "[45, 16]"
      ]
     },
     "execution_count": 99,
     "metadata": {},
     "output_type": "execute_result"
    }
   ],
   "source": [
    "# significant meta between A and B\n",
    "woca=meta_final[meta_final['pvalue1']<0.05]\n",
    "wo=meta_final[meta_final['pvalue1']>0.05]\n",
    "[len(woca),len(wo)]"
   ]
  },
  {
   "cell_type": "code",
   "execution_count": 143,
   "id": "188635e4",
   "metadata": {},
   "outputs": [],
   "source": [
    "# select significant decreased ones between A and B\n",
    "\n",
    "def count_A_B(df=meta_final):\n",
    "    woca=df[df['pvalue1']<0.05] \n",
    "    wo=df[df['pvalue1']>0.05]\n",
    "    k1,k2,k3,k4,k5,k6,k7,k8=[],[],[],[],[],[],[],[]\n",
    "    for i in range(len(woca)):\n",
    "        if woca.iloc[i,0]>woca.iloc[i,1]:\n",
    "            k1.append(i)\n",
    "        if woca.iloc[i,0]<woca.iloc[i,1]:\n",
    "            k2.append(i)\n",
    "    AB_de=woca.iloc[k1]\n",
    "    AB_in=woca.iloc[k2]\n",
    "    sig=AB_de[AB_de['pvalue2']<0.05] \n",
    "    no_sig=AB_de[AB_de['pvalue2']>0.05]  \n",
    "    for i in range(len(sig)):\n",
    "        if sig.iloc[i,0]>sig.iloc[i,2]:\n",
    "            k3.append(i)\n",
    "        if sig.iloc[i,0]<sig.iloc[i,2]:\n",
    "            k4.append(i)\n",
    "    sig2=AB_in[AB_in['pvalue2']<0.05] \n",
    "    no_sig2=AB_in[AB_in['pvalue2']>0.05]\n",
    "    for i in range(len(sig2)):\n",
    "        if sig2.iloc[i,0]>sig2.iloc[i,2]:\n",
    "            k5.append(i)\n",
    "        if sig2.iloc[i,0]<sig2.iloc[i,2]:\n",
    "            k6.append(i)\n",
    "    sig3=wo[wo['pvalue2']<0.05] \n",
    "    no_sig3=wo[wo['pvalue2']>0.05]\n",
    "    for i in range(len(sig3)):\n",
    "        if sig3.iloc[i,0]>sig3.iloc[i,2]:\n",
    "            k7.append(i)\n",
    "        if sig3.iloc[i,0]<sig3.iloc[i,2]:\n",
    "            k8.append(i)\n",
    "    return([len(woca),len(wo),len(AB_in),len(AB_de)],  # from 0 to 1 [sig,no,sig_de,sig_in]\n",
    "           [len(sig2),len(no_sig2),len(k5),len(k6)], # sig_in to 2[]\n",
    "           [len(sig),len(no_sig),len(k3),len(k4)],  # sig_de to 2                                                   \n",
    "           [len(sig3),len(no_sig3),len(k7),len(k8)])   # no_change to 2 "
   ]
  },
  {
   "cell_type": "code",
   "execution_count": 144,
   "id": "bf83acdb",
   "metadata": {},
   "outputs": [
    {
     "data": {
      "text/plain": [
       "([45, 16, 4, 41], [2, 2, 0, 2], [21, 20, 13, 8], [15, 1, 4, 11])"
      ]
     },
     "execution_count": 144,
     "metadata": {},
     "output_type": "execute_result"
    }
   ],
   "source": [
    "count_A_B(df=meta_final)"
   ]
  },
  {
   "cell_type": "code",
   "execution_count": 147,
   "id": "9c3fca4a",
   "metadata": {},
   "outputs": [
    {
     "data": {
      "text/plain": [
       "([198, 26, 98, 100], [43, 55, 5, 38], [49, 51, 45, 4], [19, 7, 9, 10])"
      ]
     },
     "execution_count": 147,
     "metadata": {},
     "output_type": "execute_result"
    }
   ],
   "source": [
    "count_A_B(df=pro_final)"
   ]
  },
  {
   "cell_type": "code",
   "execution_count": 2,
   "id": "9a1a474e",
   "metadata": {},
   "outputs": [],
   "source": [
    "# sankey value for metabolites\n",
    "source = [0 , 0 , 0 , 1 , 1 , 1 , 2 , 2 , 2 , 3 , 3 , 3 ]\n",
    "target = [1 , 2 , 3 , 4 , 5 , 6 , 4 , 5 , 6 , 4 , 5 , 6 ]\n",
    "value =  [4, 41, 16,  0, 2 , 2 , 13, 8 , 20,  4, 11, 1 ]\n",
    "label = [\"Control\", \"Increase\", \"Decrease\", \"No Change\", \"Increase\", \"Decrease\", \"No Change\"]"
   ]
  },
  {
   "cell_type": "code",
   "execution_count": 3,
   "id": "d6c21d6a",
   "metadata": {},
   "outputs": [],
   "source": [
    "# sankey value for proteins\n",
    "source2 = [0 , 0 , 0 , 1 , 1 , 1 , 2 , 2 , 2 , 3 , 3 , 3 ]\n",
    "target2 = [1 , 2 , 3 , 4 , 5 , 6 , 4 , 5 , 6 , 4 , 5 , 6 ]\n",
    "value2 =  [98, 100, 26,5 ,38 ,55  ,45,4,51 , 9 ,10 ,7  ]\n",
    "label2 = [\"Control\", \"Increase\", \"Decrease\", \"No Change\", \"Increase\", \"Decrease\", \"No Change\"]"
   ]
  },
  {
   "cell_type": "code",
   "execution_count": null,
   "id": "93891ca3",
   "metadata": {},
   "outputs": [],
   "source": [
    "\n"
   ]
  },
  {
   "cell_type": "code",
   "execution_count": null,
   "id": "9d7492e7",
   "metadata": {},
   "outputs": [],
   "source": []
  },
  {
   "cell_type": "code",
   "execution_count": 12,
   "id": "ca08d17d",
   "metadata": {},
   "outputs": [
    {
     "data": {
      "application/vnd.plotly.v1+json": {
       "config": {
        "plotlyServerURL": "https://plot.ly"
       },
       "data": [
        {
         "link": {
          "color": [
           "#F9845B",
           "#83C0EC",
           "#BFBFBF",
           "#F9845B",
           "#F9845B",
           "#F9845B",
           "#83C0EC",
           "#83C0EC",
           "#83C0EC",
           "#BFBFBF",
           "#BFBFBF",
           "#BFBFBF"
          ],
          "source": [
           0,
           0,
           0,
           1,
           1,
           1,
           2,
           2,
           2,
           3,
           3,
           3
          ],
          "target": [
           1,
           2,
           3,
           4,
           5,
           6,
           4,
           5,
           6,
           4,
           5,
           6
          ],
          "value": [
           4,
           41,
           16,
           0,
           2,
           2,
           13,
           8,
           20,
           4,
           11,
           1
          ]
         },
         "node": {
          "label": [
           "",
           "",
           "",
           "",
           "",
           "",
           ""
          ],
          "line": {
           "color": "black",
           "width": 0.5
          },
          "pad": 5,
          "thickness": 85
         },
         "type": "sankey"
        }
       ],
       "layout": {
        "colorway": [
         "#D7E9E9",
         "#EB0E54",
         "#1F76B1",
         "#D7E9E9",
         "#EB0E54",
         "#1F76B1",
         "#D7E9E9"
        ],
        "font": {
         "size": 12
        },
        "height": 500,
        "margin": {
         "b": 50,
         "l": 50,
         "r": 50,
         "t": 50
        },
        "template": {
         "data": {
          "bar": [
           {
            "error_x": {
             "color": "#2a3f5f"
            },
            "error_y": {
             "color": "#2a3f5f"
            },
            "marker": {
             "line": {
              "color": "#E5ECF6",
              "width": 0.5
             },
             "pattern": {
              "fillmode": "overlay",
              "size": 10,
              "solidity": 0.2
             }
            },
            "type": "bar"
           }
          ],
          "barpolar": [
           {
            "marker": {
             "line": {
              "color": "#E5ECF6",
              "width": 0.5
             },
             "pattern": {
              "fillmode": "overlay",
              "size": 10,
              "solidity": 0.2
             }
            },
            "type": "barpolar"
           }
          ],
          "carpet": [
           {
            "aaxis": {
             "endlinecolor": "#2a3f5f",
             "gridcolor": "white",
             "linecolor": "white",
             "minorgridcolor": "white",
             "startlinecolor": "#2a3f5f"
            },
            "baxis": {
             "endlinecolor": "#2a3f5f",
             "gridcolor": "white",
             "linecolor": "white",
             "minorgridcolor": "white",
             "startlinecolor": "#2a3f5f"
            },
            "type": "carpet"
           }
          ],
          "choropleth": [
           {
            "colorbar": {
             "outlinewidth": 0,
             "ticks": ""
            },
            "type": "choropleth"
           }
          ],
          "contour": [
           {
            "colorbar": {
             "outlinewidth": 0,
             "ticks": ""
            },
            "colorscale": [
             [
              0,
              "#0d0887"
             ],
             [
              0.1111111111111111,
              "#46039f"
             ],
             [
              0.2222222222222222,
              "#7201a8"
             ],
             [
              0.3333333333333333,
              "#9c179e"
             ],
             [
              0.4444444444444444,
              "#bd3786"
             ],
             [
              0.5555555555555556,
              "#d8576b"
             ],
             [
              0.6666666666666666,
              "#ed7953"
             ],
             [
              0.7777777777777778,
              "#fb9f3a"
             ],
             [
              0.8888888888888888,
              "#fdca26"
             ],
             [
              1,
              "#f0f921"
             ]
            ],
            "type": "contour"
           }
          ],
          "contourcarpet": [
           {
            "colorbar": {
             "outlinewidth": 0,
             "ticks": ""
            },
            "type": "contourcarpet"
           }
          ],
          "heatmap": [
           {
            "colorbar": {
             "outlinewidth": 0,
             "ticks": ""
            },
            "colorscale": [
             [
              0,
              "#0d0887"
             ],
             [
              0.1111111111111111,
              "#46039f"
             ],
             [
              0.2222222222222222,
              "#7201a8"
             ],
             [
              0.3333333333333333,
              "#9c179e"
             ],
             [
              0.4444444444444444,
              "#bd3786"
             ],
             [
              0.5555555555555556,
              "#d8576b"
             ],
             [
              0.6666666666666666,
              "#ed7953"
             ],
             [
              0.7777777777777778,
              "#fb9f3a"
             ],
             [
              0.8888888888888888,
              "#fdca26"
             ],
             [
              1,
              "#f0f921"
             ]
            ],
            "type": "heatmap"
           }
          ],
          "heatmapgl": [
           {
            "colorbar": {
             "outlinewidth": 0,
             "ticks": ""
            },
            "colorscale": [
             [
              0,
              "#0d0887"
             ],
             [
              0.1111111111111111,
              "#46039f"
             ],
             [
              0.2222222222222222,
              "#7201a8"
             ],
             [
              0.3333333333333333,
              "#9c179e"
             ],
             [
              0.4444444444444444,
              "#bd3786"
             ],
             [
              0.5555555555555556,
              "#d8576b"
             ],
             [
              0.6666666666666666,
              "#ed7953"
             ],
             [
              0.7777777777777778,
              "#fb9f3a"
             ],
             [
              0.8888888888888888,
              "#fdca26"
             ],
             [
              1,
              "#f0f921"
             ]
            ],
            "type": "heatmapgl"
           }
          ],
          "histogram": [
           {
            "marker": {
             "pattern": {
              "fillmode": "overlay",
              "size": 10,
              "solidity": 0.2
             }
            },
            "type": "histogram"
           }
          ],
          "histogram2d": [
           {
            "colorbar": {
             "outlinewidth": 0,
             "ticks": ""
            },
            "colorscale": [
             [
              0,
              "#0d0887"
             ],
             [
              0.1111111111111111,
              "#46039f"
             ],
             [
              0.2222222222222222,
              "#7201a8"
             ],
             [
              0.3333333333333333,
              "#9c179e"
             ],
             [
              0.4444444444444444,
              "#bd3786"
             ],
             [
              0.5555555555555556,
              "#d8576b"
             ],
             [
              0.6666666666666666,
              "#ed7953"
             ],
             [
              0.7777777777777778,
              "#fb9f3a"
             ],
             [
              0.8888888888888888,
              "#fdca26"
             ],
             [
              1,
              "#f0f921"
             ]
            ],
            "type": "histogram2d"
           }
          ],
          "histogram2dcontour": [
           {
            "colorbar": {
             "outlinewidth": 0,
             "ticks": ""
            },
            "colorscale": [
             [
              0,
              "#0d0887"
             ],
             [
              0.1111111111111111,
              "#46039f"
             ],
             [
              0.2222222222222222,
              "#7201a8"
             ],
             [
              0.3333333333333333,
              "#9c179e"
             ],
             [
              0.4444444444444444,
              "#bd3786"
             ],
             [
              0.5555555555555556,
              "#d8576b"
             ],
             [
              0.6666666666666666,
              "#ed7953"
             ],
             [
              0.7777777777777778,
              "#fb9f3a"
             ],
             [
              0.8888888888888888,
              "#fdca26"
             ],
             [
              1,
              "#f0f921"
             ]
            ],
            "type": "histogram2dcontour"
           }
          ],
          "mesh3d": [
           {
            "colorbar": {
             "outlinewidth": 0,
             "ticks": ""
            },
            "type": "mesh3d"
           }
          ],
          "parcoords": [
           {
            "line": {
             "colorbar": {
              "outlinewidth": 0,
              "ticks": ""
             }
            },
            "type": "parcoords"
           }
          ],
          "pie": [
           {
            "automargin": true,
            "type": "pie"
           }
          ],
          "scatter": [
           {
            "fillpattern": {
             "fillmode": "overlay",
             "size": 10,
             "solidity": 0.2
            },
            "type": "scatter"
           }
          ],
          "scatter3d": [
           {
            "line": {
             "colorbar": {
              "outlinewidth": 0,
              "ticks": ""
             }
            },
            "marker": {
             "colorbar": {
              "outlinewidth": 0,
              "ticks": ""
             }
            },
            "type": "scatter3d"
           }
          ],
          "scattercarpet": [
           {
            "marker": {
             "colorbar": {
              "outlinewidth": 0,
              "ticks": ""
             }
            },
            "type": "scattercarpet"
           }
          ],
          "scattergeo": [
           {
            "marker": {
             "colorbar": {
              "outlinewidth": 0,
              "ticks": ""
             }
            },
            "type": "scattergeo"
           }
          ],
          "scattergl": [
           {
            "marker": {
             "colorbar": {
              "outlinewidth": 0,
              "ticks": ""
             }
            },
            "type": "scattergl"
           }
          ],
          "scattermapbox": [
           {
            "marker": {
             "colorbar": {
              "outlinewidth": 0,
              "ticks": ""
             }
            },
            "type": "scattermapbox"
           }
          ],
          "scatterpolar": [
           {
            "marker": {
             "colorbar": {
              "outlinewidth": 0,
              "ticks": ""
             }
            },
            "type": "scatterpolar"
           }
          ],
          "scatterpolargl": [
           {
            "marker": {
             "colorbar": {
              "outlinewidth": 0,
              "ticks": ""
             }
            },
            "type": "scatterpolargl"
           }
          ],
          "scatterternary": [
           {
            "marker": {
             "colorbar": {
              "outlinewidth": 0,
              "ticks": ""
             }
            },
            "type": "scatterternary"
           }
          ],
          "surface": [
           {
            "colorbar": {
             "outlinewidth": 0,
             "ticks": ""
            },
            "colorscale": [
             [
              0,
              "#0d0887"
             ],
             [
              0.1111111111111111,
              "#46039f"
             ],
             [
              0.2222222222222222,
              "#7201a8"
             ],
             [
              0.3333333333333333,
              "#9c179e"
             ],
             [
              0.4444444444444444,
              "#bd3786"
             ],
             [
              0.5555555555555556,
              "#d8576b"
             ],
             [
              0.6666666666666666,
              "#ed7953"
             ],
             [
              0.7777777777777778,
              "#fb9f3a"
             ],
             [
              0.8888888888888888,
              "#fdca26"
             ],
             [
              1,
              "#f0f921"
             ]
            ],
            "type": "surface"
           }
          ],
          "table": [
           {
            "cells": {
             "fill": {
              "color": "#EBF0F8"
             },
             "line": {
              "color": "white"
             }
            },
            "header": {
             "fill": {
              "color": "#C8D4E3"
             },
             "line": {
              "color": "white"
             }
            },
            "type": "table"
           }
          ]
         },
         "layout": {
          "annotationdefaults": {
           "arrowcolor": "#2a3f5f",
           "arrowhead": 0,
           "arrowwidth": 1
          },
          "autotypenumbers": "strict",
          "coloraxis": {
           "colorbar": {
            "outlinewidth": 0,
            "ticks": ""
           }
          },
          "colorscale": {
           "diverging": [
            [
             0,
             "#8e0152"
            ],
            [
             0.1,
             "#c51b7d"
            ],
            [
             0.2,
             "#de77ae"
            ],
            [
             0.3,
             "#f1b6da"
            ],
            [
             0.4,
             "#fde0ef"
            ],
            [
             0.5,
             "#f7f7f7"
            ],
            [
             0.6,
             "#e6f5d0"
            ],
            [
             0.7,
             "#b8e186"
            ],
            [
             0.8,
             "#7fbc41"
            ],
            [
             0.9,
             "#4d9221"
            ],
            [
             1,
             "#276419"
            ]
           ],
           "sequential": [
            [
             0,
             "#0d0887"
            ],
            [
             0.1111111111111111,
             "#46039f"
            ],
            [
             0.2222222222222222,
             "#7201a8"
            ],
            [
             0.3333333333333333,
             "#9c179e"
            ],
            [
             0.4444444444444444,
             "#bd3786"
            ],
            [
             0.5555555555555556,
             "#d8576b"
            ],
            [
             0.6666666666666666,
             "#ed7953"
            ],
            [
             0.7777777777777778,
             "#fb9f3a"
            ],
            [
             0.8888888888888888,
             "#fdca26"
            ],
            [
             1,
             "#f0f921"
            ]
           ],
           "sequentialminus": [
            [
             0,
             "#0d0887"
            ],
            [
             0.1111111111111111,
             "#46039f"
            ],
            [
             0.2222222222222222,
             "#7201a8"
            ],
            [
             0.3333333333333333,
             "#9c179e"
            ],
            [
             0.4444444444444444,
             "#bd3786"
            ],
            [
             0.5555555555555556,
             "#d8576b"
            ],
            [
             0.6666666666666666,
             "#ed7953"
            ],
            [
             0.7777777777777778,
             "#fb9f3a"
            ],
            [
             0.8888888888888888,
             "#fdca26"
            ],
            [
             1,
             "#f0f921"
            ]
           ]
          },
          "colorway": [
           "#636efa",
           "#EF553B",
           "#00cc96",
           "#ab63fa",
           "#FFA15A",
           "#19d3f3",
           "#FF6692",
           "#B6E880",
           "#FF97FF",
           "#FECB52"
          ],
          "font": {
           "color": "#2a3f5f"
          },
          "geo": {
           "bgcolor": "white",
           "lakecolor": "white",
           "landcolor": "#E5ECF6",
           "showlakes": true,
           "showland": true,
           "subunitcolor": "white"
          },
          "hoverlabel": {
           "align": "left"
          },
          "hovermode": "closest",
          "mapbox": {
           "style": "light"
          },
          "paper_bgcolor": "white",
          "plot_bgcolor": "#E5ECF6",
          "polar": {
           "angularaxis": {
            "gridcolor": "white",
            "linecolor": "white",
            "ticks": ""
           },
           "bgcolor": "#E5ECF6",
           "radialaxis": {
            "gridcolor": "white",
            "linecolor": "white",
            "ticks": ""
           }
          },
          "scene": {
           "xaxis": {
            "backgroundcolor": "#E5ECF6",
            "gridcolor": "white",
            "gridwidth": 2,
            "linecolor": "white",
            "showbackground": true,
            "ticks": "",
            "zerolinecolor": "white"
           },
           "yaxis": {
            "backgroundcolor": "#E5ECF6",
            "gridcolor": "white",
            "gridwidth": 2,
            "linecolor": "white",
            "showbackground": true,
            "ticks": "",
            "zerolinecolor": "white"
           },
           "zaxis": {
            "backgroundcolor": "#E5ECF6",
            "gridcolor": "white",
            "gridwidth": 2,
            "linecolor": "white",
            "showbackground": true,
            "ticks": "",
            "zerolinecolor": "white"
           }
          },
          "shapedefaults": {
           "line": {
            "color": "#2a3f5f"
           }
          },
          "ternary": {
           "aaxis": {
            "gridcolor": "white",
            "linecolor": "white",
            "ticks": ""
           },
           "baxis": {
            "gridcolor": "white",
            "linecolor": "white",
            "ticks": ""
           },
           "bgcolor": "#E5ECF6",
           "caxis": {
            "gridcolor": "white",
            "linecolor": "white",
            "ticks": ""
           }
          },
          "title": {
           "x": 0.05
          },
          "xaxis": {
           "automargin": true,
           "gridcolor": "white",
           "linecolor": "white",
           "ticks": "",
           "title": {
            "standoff": 15
           },
           "zerolinecolor": "white",
           "zerolinewidth": 2
          },
          "yaxis": {
           "automargin": true,
           "gridcolor": "white",
           "linecolor": "white",
           "ticks": "",
           "title": {
            "standoff": 15
           },
           "zerolinecolor": "white",
           "zerolinewidth": 2
          }
         }
        },
        "title": {
         "text": "Sankey Plot Example"
        },
        "width": 700
       }
      },
      "text/html": [
       "<div>                            <div id=\"bb410df4-6e32-4845-a5b5-39cad526e944\" class=\"plotly-graph-div\" style=\"height:500px; width:700px;\"></div>            <script type=\"text/javascript\">                require([\"plotly\"], function(Plotly) {                    window.PLOTLYENV=window.PLOTLYENV || {};                                    if (document.getElementById(\"bb410df4-6e32-4845-a5b5-39cad526e944\")) {                    Plotly.newPlot(                        \"bb410df4-6e32-4845-a5b5-39cad526e944\",                        [{\"link\":{\"color\":[\"#F9845B\",\"#83C0EC\",\"#BFBFBF\",\"#F9845B\",\"#F9845B\",\"#F9845B\",\"#83C0EC\",\"#83C0EC\",\"#83C0EC\",\"#BFBFBF\",\"#BFBFBF\",\"#BFBFBF\"],\"source\":[0,0,0,1,1,1,2,2,2,3,3,3],\"target\":[1,2,3,4,5,6,4,5,6,4,5,6],\"value\":[4,41,16,0,2,2,13,8,20,4,11,1]},\"node\":{\"label\":[\"\",\"\",\"\",\"\",\"\",\"\",\"\"],\"line\":{\"color\":\"black\",\"width\":0.5},\"pad\":5,\"thickness\":85},\"type\":\"sankey\"}],                        {\"template\":{\"data\":{\"histogram2dcontour\":[{\"type\":\"histogram2dcontour\",\"colorbar\":{\"outlinewidth\":0,\"ticks\":\"\"},\"colorscale\":[[0.0,\"#0d0887\"],[0.1111111111111111,\"#46039f\"],[0.2222222222222222,\"#7201a8\"],[0.3333333333333333,\"#9c179e\"],[0.4444444444444444,\"#bd3786\"],[0.5555555555555556,\"#d8576b\"],[0.6666666666666666,\"#ed7953\"],[0.7777777777777778,\"#fb9f3a\"],[0.8888888888888888,\"#fdca26\"],[1.0,\"#f0f921\"]]}],\"choropleth\":[{\"type\":\"choropleth\",\"colorbar\":{\"outlinewidth\":0,\"ticks\":\"\"}}],\"histogram2d\":[{\"type\":\"histogram2d\",\"colorbar\":{\"outlinewidth\":0,\"ticks\":\"\"},\"colorscale\":[[0.0,\"#0d0887\"],[0.1111111111111111,\"#46039f\"],[0.2222222222222222,\"#7201a8\"],[0.3333333333333333,\"#9c179e\"],[0.4444444444444444,\"#bd3786\"],[0.5555555555555556,\"#d8576b\"],[0.6666666666666666,\"#ed7953\"],[0.7777777777777778,\"#fb9f3a\"],[0.8888888888888888,\"#fdca26\"],[1.0,\"#f0f921\"]]}],\"heatmap\":[{\"type\":\"heatmap\",\"colorbar\":{\"outlinewidth\":0,\"ticks\":\"\"},\"colorscale\":[[0.0,\"#0d0887\"],[0.1111111111111111,\"#46039f\"],[0.2222222222222222,\"#7201a8\"],[0.3333333333333333,\"#9c179e\"],[0.4444444444444444,\"#bd3786\"],[0.5555555555555556,\"#d8576b\"],[0.6666666666666666,\"#ed7953\"],[0.7777777777777778,\"#fb9f3a\"],[0.8888888888888888,\"#fdca26\"],[1.0,\"#f0f921\"]]}],\"heatmapgl\":[{\"type\":\"heatmapgl\",\"colorbar\":{\"outlinewidth\":0,\"ticks\":\"\"},\"colorscale\":[[0.0,\"#0d0887\"],[0.1111111111111111,\"#46039f\"],[0.2222222222222222,\"#7201a8\"],[0.3333333333333333,\"#9c179e\"],[0.4444444444444444,\"#bd3786\"],[0.5555555555555556,\"#d8576b\"],[0.6666666666666666,\"#ed7953\"],[0.7777777777777778,\"#fb9f3a\"],[0.8888888888888888,\"#fdca26\"],[1.0,\"#f0f921\"]]}],\"contourcarpet\":[{\"type\":\"contourcarpet\",\"colorbar\":{\"outlinewidth\":0,\"ticks\":\"\"}}],\"contour\":[{\"type\":\"contour\",\"colorbar\":{\"outlinewidth\":0,\"ticks\":\"\"},\"colorscale\":[[0.0,\"#0d0887\"],[0.1111111111111111,\"#46039f\"],[0.2222222222222222,\"#7201a8\"],[0.3333333333333333,\"#9c179e\"],[0.4444444444444444,\"#bd3786\"],[0.5555555555555556,\"#d8576b\"],[0.6666666666666666,\"#ed7953\"],[0.7777777777777778,\"#fb9f3a\"],[0.8888888888888888,\"#fdca26\"],[1.0,\"#f0f921\"]]}],\"surface\":[{\"type\":\"surface\",\"colorbar\":{\"outlinewidth\":0,\"ticks\":\"\"},\"colorscale\":[[0.0,\"#0d0887\"],[0.1111111111111111,\"#46039f\"],[0.2222222222222222,\"#7201a8\"],[0.3333333333333333,\"#9c179e\"],[0.4444444444444444,\"#bd3786\"],[0.5555555555555556,\"#d8576b\"],[0.6666666666666666,\"#ed7953\"],[0.7777777777777778,\"#fb9f3a\"],[0.8888888888888888,\"#fdca26\"],[1.0,\"#f0f921\"]]}],\"mesh3d\":[{\"type\":\"mesh3d\",\"colorbar\":{\"outlinewidth\":0,\"ticks\":\"\"}}],\"scatter\":[{\"fillpattern\":{\"fillmode\":\"overlay\",\"size\":10,\"solidity\":0.2},\"type\":\"scatter\"}],\"parcoords\":[{\"type\":\"parcoords\",\"line\":{\"colorbar\":{\"outlinewidth\":0,\"ticks\":\"\"}}}],\"scatterpolargl\":[{\"type\":\"scatterpolargl\",\"marker\":{\"colorbar\":{\"outlinewidth\":0,\"ticks\":\"\"}}}],\"bar\":[{\"error_x\":{\"color\":\"#2a3f5f\"},\"error_y\":{\"color\":\"#2a3f5f\"},\"marker\":{\"line\":{\"color\":\"#E5ECF6\",\"width\":0.5},\"pattern\":{\"fillmode\":\"overlay\",\"size\":10,\"solidity\":0.2}},\"type\":\"bar\"}],\"scattergeo\":[{\"type\":\"scattergeo\",\"marker\":{\"colorbar\":{\"outlinewidth\":0,\"ticks\":\"\"}}}],\"scatterpolar\":[{\"type\":\"scatterpolar\",\"marker\":{\"colorbar\":{\"outlinewidth\":0,\"ticks\":\"\"}}}],\"histogram\":[{\"marker\":{\"pattern\":{\"fillmode\":\"overlay\",\"size\":10,\"solidity\":0.2}},\"type\":\"histogram\"}],\"scattergl\":[{\"type\":\"scattergl\",\"marker\":{\"colorbar\":{\"outlinewidth\":0,\"ticks\":\"\"}}}],\"scatter3d\":[{\"type\":\"scatter3d\",\"line\":{\"colorbar\":{\"outlinewidth\":0,\"ticks\":\"\"}},\"marker\":{\"colorbar\":{\"outlinewidth\":0,\"ticks\":\"\"}}}],\"scattermapbox\":[{\"type\":\"scattermapbox\",\"marker\":{\"colorbar\":{\"outlinewidth\":0,\"ticks\":\"\"}}}],\"scatterternary\":[{\"type\":\"scatterternary\",\"marker\":{\"colorbar\":{\"outlinewidth\":0,\"ticks\":\"\"}}}],\"scattercarpet\":[{\"type\":\"scattercarpet\",\"marker\":{\"colorbar\":{\"outlinewidth\":0,\"ticks\":\"\"}}}],\"carpet\":[{\"aaxis\":{\"endlinecolor\":\"#2a3f5f\",\"gridcolor\":\"white\",\"linecolor\":\"white\",\"minorgridcolor\":\"white\",\"startlinecolor\":\"#2a3f5f\"},\"baxis\":{\"endlinecolor\":\"#2a3f5f\",\"gridcolor\":\"white\",\"linecolor\":\"white\",\"minorgridcolor\":\"white\",\"startlinecolor\":\"#2a3f5f\"},\"type\":\"carpet\"}],\"table\":[{\"cells\":{\"fill\":{\"color\":\"#EBF0F8\"},\"line\":{\"color\":\"white\"}},\"header\":{\"fill\":{\"color\":\"#C8D4E3\"},\"line\":{\"color\":\"white\"}},\"type\":\"table\"}],\"barpolar\":[{\"marker\":{\"line\":{\"color\":\"#E5ECF6\",\"width\":0.5},\"pattern\":{\"fillmode\":\"overlay\",\"size\":10,\"solidity\":0.2}},\"type\":\"barpolar\"}],\"pie\":[{\"automargin\":true,\"type\":\"pie\"}]},\"layout\":{\"autotypenumbers\":\"strict\",\"colorway\":[\"#636efa\",\"#EF553B\",\"#00cc96\",\"#ab63fa\",\"#FFA15A\",\"#19d3f3\",\"#FF6692\",\"#B6E880\",\"#FF97FF\",\"#FECB52\"],\"font\":{\"color\":\"#2a3f5f\"},\"hovermode\":\"closest\",\"hoverlabel\":{\"align\":\"left\"},\"paper_bgcolor\":\"white\",\"plot_bgcolor\":\"#E5ECF6\",\"polar\":{\"bgcolor\":\"#E5ECF6\",\"angularaxis\":{\"gridcolor\":\"white\",\"linecolor\":\"white\",\"ticks\":\"\"},\"radialaxis\":{\"gridcolor\":\"white\",\"linecolor\":\"white\",\"ticks\":\"\"}},\"ternary\":{\"bgcolor\":\"#E5ECF6\",\"aaxis\":{\"gridcolor\":\"white\",\"linecolor\":\"white\",\"ticks\":\"\"},\"baxis\":{\"gridcolor\":\"white\",\"linecolor\":\"white\",\"ticks\":\"\"},\"caxis\":{\"gridcolor\":\"white\",\"linecolor\":\"white\",\"ticks\":\"\"}},\"coloraxis\":{\"colorbar\":{\"outlinewidth\":0,\"ticks\":\"\"}},\"colorscale\":{\"sequential\":[[0.0,\"#0d0887\"],[0.1111111111111111,\"#46039f\"],[0.2222222222222222,\"#7201a8\"],[0.3333333333333333,\"#9c179e\"],[0.4444444444444444,\"#bd3786\"],[0.5555555555555556,\"#d8576b\"],[0.6666666666666666,\"#ed7953\"],[0.7777777777777778,\"#fb9f3a\"],[0.8888888888888888,\"#fdca26\"],[1.0,\"#f0f921\"]],\"sequentialminus\":[[0.0,\"#0d0887\"],[0.1111111111111111,\"#46039f\"],[0.2222222222222222,\"#7201a8\"],[0.3333333333333333,\"#9c179e\"],[0.4444444444444444,\"#bd3786\"],[0.5555555555555556,\"#d8576b\"],[0.6666666666666666,\"#ed7953\"],[0.7777777777777778,\"#fb9f3a\"],[0.8888888888888888,\"#fdca26\"],[1.0,\"#f0f921\"]],\"diverging\":[[0,\"#8e0152\"],[0.1,\"#c51b7d\"],[0.2,\"#de77ae\"],[0.3,\"#f1b6da\"],[0.4,\"#fde0ef\"],[0.5,\"#f7f7f7\"],[0.6,\"#e6f5d0\"],[0.7,\"#b8e186\"],[0.8,\"#7fbc41\"],[0.9,\"#4d9221\"],[1,\"#276419\"]]},\"xaxis\":{\"gridcolor\":\"white\",\"linecolor\":\"white\",\"ticks\":\"\",\"title\":{\"standoff\":15},\"zerolinecolor\":\"white\",\"automargin\":true,\"zerolinewidth\":2},\"yaxis\":{\"gridcolor\":\"white\",\"linecolor\":\"white\",\"ticks\":\"\",\"title\":{\"standoff\":15},\"zerolinecolor\":\"white\",\"automargin\":true,\"zerolinewidth\":2},\"scene\":{\"xaxis\":{\"backgroundcolor\":\"#E5ECF6\",\"gridcolor\":\"white\",\"linecolor\":\"white\",\"showbackground\":true,\"ticks\":\"\",\"zerolinecolor\":\"white\",\"gridwidth\":2},\"yaxis\":{\"backgroundcolor\":\"#E5ECF6\",\"gridcolor\":\"white\",\"linecolor\":\"white\",\"showbackground\":true,\"ticks\":\"\",\"zerolinecolor\":\"white\",\"gridwidth\":2},\"zaxis\":{\"backgroundcolor\":\"#E5ECF6\",\"gridcolor\":\"white\",\"linecolor\":\"white\",\"showbackground\":true,\"ticks\":\"\",\"zerolinecolor\":\"white\",\"gridwidth\":2}},\"shapedefaults\":{\"line\":{\"color\":\"#2a3f5f\"}},\"annotationdefaults\":{\"arrowcolor\":\"#2a3f5f\",\"arrowhead\":0,\"arrowwidth\":1},\"geo\":{\"bgcolor\":\"white\",\"landcolor\":\"#E5ECF6\",\"subunitcolor\":\"white\",\"showland\":true,\"showlakes\":true,\"lakecolor\":\"white\"},\"title\":{\"x\":0.05},\"mapbox\":{\"style\":\"light\"}}},\"font\":{\"size\":12},\"margin\":{\"l\":50,\"r\":50,\"t\":50,\"b\":50},\"title\":{\"text\":\"Sankey Plot Example\"},\"height\":500,\"width\":700,\"colorway\":[\"#D7E9E9\",\"#EB0E54\",\"#1F76B1\",\"#D7E9E9\",\"#EB0E54\",\"#1F76B1\",\"#D7E9E9\"]},                        {\"responsive\": true}                    ).then(function(){\n",
       "                            \n",
       "var gd = document.getElementById('bb410df4-6e32-4845-a5b5-39cad526e944');\n",
       "var x = new MutationObserver(function (mutations, observer) {{\n",
       "        var display = window.getComputedStyle(gd).display;\n",
       "        if (!display || display === 'none') {{\n",
       "            console.log([gd, 'removed!']);\n",
       "            Plotly.purge(gd);\n",
       "            observer.disconnect();\n",
       "        }}\n",
       "}});\n",
       "\n",
       "// Listen for the removal of the full notebook cells\n",
       "var notebookContainer = gd.closest('#notebook-container');\n",
       "if (notebookContainer) {{\n",
       "    x.observe(notebookContainer, {childList: true});\n",
       "}}\n",
       "\n",
       "// Listen for the clearing of the current output cell\n",
       "var outputEl = gd.closest('.output');\n",
       "if (outputEl) {{\n",
       "    x.observe(outputEl, {childList: true});\n",
       "}}\n",
       "\n",
       "                        })                };                });            </script>        </div>"
      ]
     },
     "metadata": {},
     "output_type": "display_data"
    }
   ],
   "source": [
    "# sankey plots of metabolites\n",
    "\n",
    "import plotly.graph_objects as go\n",
    "\n",
    "# Define the nodes and links of the Sankey plot\n",
    "label = [\"Control\", \"Increase\", \"Decrease\", \"No Change\", \"Increase\", \"Decrease\", \"No Change\"]\n",
    "\n",
    "link_colors = [\"#F9845B\", \"#83C0EC\", \"#BFBFBF\", \"#F9845B\", \"#F9845B\", \"#F9845B\", \"#83C0EC\", \"#83C0EC\", \"#83C0EC\", \"#BFBFBF\", \"#BFBFBF\", \"#BFBFBF\"]\n",
    "# Create the Sankey plot\n",
    "fig = go.Figure(data=[go.Sankey(\n",
    "    node=dict(\n",
    "        pad=5,\n",
    "        thickness=85,\n",
    "        line=dict(color=\"black\", width=0.5),\n",
    "        label=[\"\", \"\", \"\", \"\",\"\", \"\", \"\"]\n",
    "    ),\n",
    "    link=dict(\n",
    "        source=source,\n",
    "        target=target,\n",
    "        value=value,\n",
    "        color=link_colors  # Set default color to blue\n",
    "    ))])\n",
    "# Customize the plot layout\n",
    "fig.update_layout(\n",
    "    title=\"Sankey Plot Example\",\n",
    "    font=dict(size=12),\n",
    "    height=500,\n",
    "    width=700,\n",
    "    margin=dict(l=50, r=50, t=50, b=50),\n",
    "    colorway=[\"#D7E9E9\",\"#EB0E54\", \"#1F76B1\", \"#D7E9E9\",\"#EB0E54\", \"#1F76B1\",\"#D7E9E9\" ]  # Set custom colors\n",
    ")\n",
    "# Define the file path to save the plot\n",
    "file_path = os.path.join(os.getcwd(), \"D:\\\\project7_SMAD\\\\figure_3_macro_clustering_analysis\\\\sankey_meta.svg\")\n",
    "\n",
    "# Save the plot as a TIFF file to the specified path\n",
    "fig.write_image(file_path, format='svg')\n",
    "# Display the plot\n",
    "fig.show()"
   ]
  },
  {
   "cell_type": "code",
   "execution_count": 14,
   "id": "ebec0741",
   "metadata": {},
   "outputs": [
    {
     "data": {
      "application/vnd.plotly.v1+json": {
       "config": {
        "plotlyServerURL": "https://plot.ly"
       },
       "data": [
        {
         "link": {
          "color": [
           "#F9845B",
           "#83C0EC",
           "#BFBFBF",
           "#F9845B",
           "#F9845B",
           "#F9845B",
           "#83C0EC",
           "#83C0EC",
           "#83C0EC",
           "#BFBFBF",
           "#BFBFBF",
           "#BFBFBF"
          ],
          "source": [
           0,
           0,
           0,
           1,
           1,
           1,
           2,
           2,
           2,
           3,
           3,
           3
          ],
          "target": [
           1,
           2,
           3,
           4,
           5,
           6,
           4,
           5,
           6,
           4,
           5,
           6
          ],
          "value": [
           98,
           100,
           26,
           5,
           38,
           55,
           45,
           4,
           51,
           9,
           10,
           7
          ]
         },
         "node": {
          "label": [
           "",
           "",
           "",
           "",
           "",
           "",
           ""
          ],
          "line": {
           "color": "black",
           "width": 0.5
          },
          "pad": 5,
          "thickness": 85
         },
         "type": "sankey"
        }
       ],
       "layout": {
        "colorway": [
         "#D7E9E9",
         "#EB0E54",
         "#1F76B1",
         "#D7E9E9",
         "#EB0E54",
         "#1F76B1",
         "#D7E9E9"
        ],
        "font": {
         "size": 12
        },
        "height": 500,
        "margin": {
         "b": 50,
         "l": 50,
         "r": 50,
         "t": 50
        },
        "template": {
         "data": {
          "bar": [
           {
            "error_x": {
             "color": "#2a3f5f"
            },
            "error_y": {
             "color": "#2a3f5f"
            },
            "marker": {
             "line": {
              "color": "#E5ECF6",
              "width": 0.5
             },
             "pattern": {
              "fillmode": "overlay",
              "size": 10,
              "solidity": 0.2
             }
            },
            "type": "bar"
           }
          ],
          "barpolar": [
           {
            "marker": {
             "line": {
              "color": "#E5ECF6",
              "width": 0.5
             },
             "pattern": {
              "fillmode": "overlay",
              "size": 10,
              "solidity": 0.2
             }
            },
            "type": "barpolar"
           }
          ],
          "carpet": [
           {
            "aaxis": {
             "endlinecolor": "#2a3f5f",
             "gridcolor": "white",
             "linecolor": "white",
             "minorgridcolor": "white",
             "startlinecolor": "#2a3f5f"
            },
            "baxis": {
             "endlinecolor": "#2a3f5f",
             "gridcolor": "white",
             "linecolor": "white",
             "minorgridcolor": "white",
             "startlinecolor": "#2a3f5f"
            },
            "type": "carpet"
           }
          ],
          "choropleth": [
           {
            "colorbar": {
             "outlinewidth": 0,
             "ticks": ""
            },
            "type": "choropleth"
           }
          ],
          "contour": [
           {
            "colorbar": {
             "outlinewidth": 0,
             "ticks": ""
            },
            "colorscale": [
             [
              0,
              "#0d0887"
             ],
             [
              0.1111111111111111,
              "#46039f"
             ],
             [
              0.2222222222222222,
              "#7201a8"
             ],
             [
              0.3333333333333333,
              "#9c179e"
             ],
             [
              0.4444444444444444,
              "#bd3786"
             ],
             [
              0.5555555555555556,
              "#d8576b"
             ],
             [
              0.6666666666666666,
              "#ed7953"
             ],
             [
              0.7777777777777778,
              "#fb9f3a"
             ],
             [
              0.8888888888888888,
              "#fdca26"
             ],
             [
              1,
              "#f0f921"
             ]
            ],
            "type": "contour"
           }
          ],
          "contourcarpet": [
           {
            "colorbar": {
             "outlinewidth": 0,
             "ticks": ""
            },
            "type": "contourcarpet"
           }
          ],
          "heatmap": [
           {
            "colorbar": {
             "outlinewidth": 0,
             "ticks": ""
            },
            "colorscale": [
             [
              0,
              "#0d0887"
             ],
             [
              0.1111111111111111,
              "#46039f"
             ],
             [
              0.2222222222222222,
              "#7201a8"
             ],
             [
              0.3333333333333333,
              "#9c179e"
             ],
             [
              0.4444444444444444,
              "#bd3786"
             ],
             [
              0.5555555555555556,
              "#d8576b"
             ],
             [
              0.6666666666666666,
              "#ed7953"
             ],
             [
              0.7777777777777778,
              "#fb9f3a"
             ],
             [
              0.8888888888888888,
              "#fdca26"
             ],
             [
              1,
              "#f0f921"
             ]
            ],
            "type": "heatmap"
           }
          ],
          "heatmapgl": [
           {
            "colorbar": {
             "outlinewidth": 0,
             "ticks": ""
            },
            "colorscale": [
             [
              0,
              "#0d0887"
             ],
             [
              0.1111111111111111,
              "#46039f"
             ],
             [
              0.2222222222222222,
              "#7201a8"
             ],
             [
              0.3333333333333333,
              "#9c179e"
             ],
             [
              0.4444444444444444,
              "#bd3786"
             ],
             [
              0.5555555555555556,
              "#d8576b"
             ],
             [
              0.6666666666666666,
              "#ed7953"
             ],
             [
              0.7777777777777778,
              "#fb9f3a"
             ],
             [
              0.8888888888888888,
              "#fdca26"
             ],
             [
              1,
              "#f0f921"
             ]
            ],
            "type": "heatmapgl"
           }
          ],
          "histogram": [
           {
            "marker": {
             "pattern": {
              "fillmode": "overlay",
              "size": 10,
              "solidity": 0.2
             }
            },
            "type": "histogram"
           }
          ],
          "histogram2d": [
           {
            "colorbar": {
             "outlinewidth": 0,
             "ticks": ""
            },
            "colorscale": [
             [
              0,
              "#0d0887"
             ],
             [
              0.1111111111111111,
              "#46039f"
             ],
             [
              0.2222222222222222,
              "#7201a8"
             ],
             [
              0.3333333333333333,
              "#9c179e"
             ],
             [
              0.4444444444444444,
              "#bd3786"
             ],
             [
              0.5555555555555556,
              "#d8576b"
             ],
             [
              0.6666666666666666,
              "#ed7953"
             ],
             [
              0.7777777777777778,
              "#fb9f3a"
             ],
             [
              0.8888888888888888,
              "#fdca26"
             ],
             [
              1,
              "#f0f921"
             ]
            ],
            "type": "histogram2d"
           }
          ],
          "histogram2dcontour": [
           {
            "colorbar": {
             "outlinewidth": 0,
             "ticks": ""
            },
            "colorscale": [
             [
              0,
              "#0d0887"
             ],
             [
              0.1111111111111111,
              "#46039f"
             ],
             [
              0.2222222222222222,
              "#7201a8"
             ],
             [
              0.3333333333333333,
              "#9c179e"
             ],
             [
              0.4444444444444444,
              "#bd3786"
             ],
             [
              0.5555555555555556,
              "#d8576b"
             ],
             [
              0.6666666666666666,
              "#ed7953"
             ],
             [
              0.7777777777777778,
              "#fb9f3a"
             ],
             [
              0.8888888888888888,
              "#fdca26"
             ],
             [
              1,
              "#f0f921"
             ]
            ],
            "type": "histogram2dcontour"
           }
          ],
          "mesh3d": [
           {
            "colorbar": {
             "outlinewidth": 0,
             "ticks": ""
            },
            "type": "mesh3d"
           }
          ],
          "parcoords": [
           {
            "line": {
             "colorbar": {
              "outlinewidth": 0,
              "ticks": ""
             }
            },
            "type": "parcoords"
           }
          ],
          "pie": [
           {
            "automargin": true,
            "type": "pie"
           }
          ],
          "scatter": [
           {
            "fillpattern": {
             "fillmode": "overlay",
             "size": 10,
             "solidity": 0.2
            },
            "type": "scatter"
           }
          ],
          "scatter3d": [
           {
            "line": {
             "colorbar": {
              "outlinewidth": 0,
              "ticks": ""
             }
            },
            "marker": {
             "colorbar": {
              "outlinewidth": 0,
              "ticks": ""
             }
            },
            "type": "scatter3d"
           }
          ],
          "scattercarpet": [
           {
            "marker": {
             "colorbar": {
              "outlinewidth": 0,
              "ticks": ""
             }
            },
            "type": "scattercarpet"
           }
          ],
          "scattergeo": [
           {
            "marker": {
             "colorbar": {
              "outlinewidth": 0,
              "ticks": ""
             }
            },
            "type": "scattergeo"
           }
          ],
          "scattergl": [
           {
            "marker": {
             "colorbar": {
              "outlinewidth": 0,
              "ticks": ""
             }
            },
            "type": "scattergl"
           }
          ],
          "scattermapbox": [
           {
            "marker": {
             "colorbar": {
              "outlinewidth": 0,
              "ticks": ""
             }
            },
            "type": "scattermapbox"
           }
          ],
          "scatterpolar": [
           {
            "marker": {
             "colorbar": {
              "outlinewidth": 0,
              "ticks": ""
             }
            },
            "type": "scatterpolar"
           }
          ],
          "scatterpolargl": [
           {
            "marker": {
             "colorbar": {
              "outlinewidth": 0,
              "ticks": ""
             }
            },
            "type": "scatterpolargl"
           }
          ],
          "scatterternary": [
           {
            "marker": {
             "colorbar": {
              "outlinewidth": 0,
              "ticks": ""
             }
            },
            "type": "scatterternary"
           }
          ],
          "surface": [
           {
            "colorbar": {
             "outlinewidth": 0,
             "ticks": ""
            },
            "colorscale": [
             [
              0,
              "#0d0887"
             ],
             [
              0.1111111111111111,
              "#46039f"
             ],
             [
              0.2222222222222222,
              "#7201a8"
             ],
             [
              0.3333333333333333,
              "#9c179e"
             ],
             [
              0.4444444444444444,
              "#bd3786"
             ],
             [
              0.5555555555555556,
              "#d8576b"
             ],
             [
              0.6666666666666666,
              "#ed7953"
             ],
             [
              0.7777777777777778,
              "#fb9f3a"
             ],
             [
              0.8888888888888888,
              "#fdca26"
             ],
             [
              1,
              "#f0f921"
             ]
            ],
            "type": "surface"
           }
          ],
          "table": [
           {
            "cells": {
             "fill": {
              "color": "#EBF0F8"
             },
             "line": {
              "color": "white"
             }
            },
            "header": {
             "fill": {
              "color": "#C8D4E3"
             },
             "line": {
              "color": "white"
             }
            },
            "type": "table"
           }
          ]
         },
         "layout": {
          "annotationdefaults": {
           "arrowcolor": "#2a3f5f",
           "arrowhead": 0,
           "arrowwidth": 1
          },
          "autotypenumbers": "strict",
          "coloraxis": {
           "colorbar": {
            "outlinewidth": 0,
            "ticks": ""
           }
          },
          "colorscale": {
           "diverging": [
            [
             0,
             "#8e0152"
            ],
            [
             0.1,
             "#c51b7d"
            ],
            [
             0.2,
             "#de77ae"
            ],
            [
             0.3,
             "#f1b6da"
            ],
            [
             0.4,
             "#fde0ef"
            ],
            [
             0.5,
             "#f7f7f7"
            ],
            [
             0.6,
             "#e6f5d0"
            ],
            [
             0.7,
             "#b8e186"
            ],
            [
             0.8,
             "#7fbc41"
            ],
            [
             0.9,
             "#4d9221"
            ],
            [
             1,
             "#276419"
            ]
           ],
           "sequential": [
            [
             0,
             "#0d0887"
            ],
            [
             0.1111111111111111,
             "#46039f"
            ],
            [
             0.2222222222222222,
             "#7201a8"
            ],
            [
             0.3333333333333333,
             "#9c179e"
            ],
            [
             0.4444444444444444,
             "#bd3786"
            ],
            [
             0.5555555555555556,
             "#d8576b"
            ],
            [
             0.6666666666666666,
             "#ed7953"
            ],
            [
             0.7777777777777778,
             "#fb9f3a"
            ],
            [
             0.8888888888888888,
             "#fdca26"
            ],
            [
             1,
             "#f0f921"
            ]
           ],
           "sequentialminus": [
            [
             0,
             "#0d0887"
            ],
            [
             0.1111111111111111,
             "#46039f"
            ],
            [
             0.2222222222222222,
             "#7201a8"
            ],
            [
             0.3333333333333333,
             "#9c179e"
            ],
            [
             0.4444444444444444,
             "#bd3786"
            ],
            [
             0.5555555555555556,
             "#d8576b"
            ],
            [
             0.6666666666666666,
             "#ed7953"
            ],
            [
             0.7777777777777778,
             "#fb9f3a"
            ],
            [
             0.8888888888888888,
             "#fdca26"
            ],
            [
             1,
             "#f0f921"
            ]
           ]
          },
          "colorway": [
           "#636efa",
           "#EF553B",
           "#00cc96",
           "#ab63fa",
           "#FFA15A",
           "#19d3f3",
           "#FF6692",
           "#B6E880",
           "#FF97FF",
           "#FECB52"
          ],
          "font": {
           "color": "#2a3f5f"
          },
          "geo": {
           "bgcolor": "white",
           "lakecolor": "white",
           "landcolor": "#E5ECF6",
           "showlakes": true,
           "showland": true,
           "subunitcolor": "white"
          },
          "hoverlabel": {
           "align": "left"
          },
          "hovermode": "closest",
          "mapbox": {
           "style": "light"
          },
          "paper_bgcolor": "white",
          "plot_bgcolor": "#E5ECF6",
          "polar": {
           "angularaxis": {
            "gridcolor": "white",
            "linecolor": "white",
            "ticks": ""
           },
           "bgcolor": "#E5ECF6",
           "radialaxis": {
            "gridcolor": "white",
            "linecolor": "white",
            "ticks": ""
           }
          },
          "scene": {
           "xaxis": {
            "backgroundcolor": "#E5ECF6",
            "gridcolor": "white",
            "gridwidth": 2,
            "linecolor": "white",
            "showbackground": true,
            "ticks": "",
            "zerolinecolor": "white"
           },
           "yaxis": {
            "backgroundcolor": "#E5ECF6",
            "gridcolor": "white",
            "gridwidth": 2,
            "linecolor": "white",
            "showbackground": true,
            "ticks": "",
            "zerolinecolor": "white"
           },
           "zaxis": {
            "backgroundcolor": "#E5ECF6",
            "gridcolor": "white",
            "gridwidth": 2,
            "linecolor": "white",
            "showbackground": true,
            "ticks": "",
            "zerolinecolor": "white"
           }
          },
          "shapedefaults": {
           "line": {
            "color": "#2a3f5f"
           }
          },
          "ternary": {
           "aaxis": {
            "gridcolor": "white",
            "linecolor": "white",
            "ticks": ""
           },
           "baxis": {
            "gridcolor": "white",
            "linecolor": "white",
            "ticks": ""
           },
           "bgcolor": "#E5ECF6",
           "caxis": {
            "gridcolor": "white",
            "linecolor": "white",
            "ticks": ""
           }
          },
          "title": {
           "x": 0.05
          },
          "xaxis": {
           "automargin": true,
           "gridcolor": "white",
           "linecolor": "white",
           "ticks": "",
           "title": {
            "standoff": 15
           },
           "zerolinecolor": "white",
           "zerolinewidth": 2
          },
          "yaxis": {
           "automargin": true,
           "gridcolor": "white",
           "linecolor": "white",
           "ticks": "",
           "title": {
            "standoff": 15
           },
           "zerolinecolor": "white",
           "zerolinewidth": 2
          }
         }
        },
        "title": {
         "text": "Sankey Plot Example"
        },
        "width": 700
       }
      },
      "text/html": [
       "<div>                            <div id=\"26c1b2d7-88f9-4ff7-8933-814a256c9375\" class=\"plotly-graph-div\" style=\"height:500px; width:700px;\"></div>            <script type=\"text/javascript\">                require([\"plotly\"], function(Plotly) {                    window.PLOTLYENV=window.PLOTLYENV || {};                                    if (document.getElementById(\"26c1b2d7-88f9-4ff7-8933-814a256c9375\")) {                    Plotly.newPlot(                        \"26c1b2d7-88f9-4ff7-8933-814a256c9375\",                        [{\"link\":{\"color\":[\"#F9845B\",\"#83C0EC\",\"#BFBFBF\",\"#F9845B\",\"#F9845B\",\"#F9845B\",\"#83C0EC\",\"#83C0EC\",\"#83C0EC\",\"#BFBFBF\",\"#BFBFBF\",\"#BFBFBF\"],\"source\":[0,0,0,1,1,1,2,2,2,3,3,3],\"target\":[1,2,3,4,5,6,4,5,6,4,5,6],\"value\":[98,100,26,5,38,55,45,4,51,9,10,7]},\"node\":{\"label\":[\"\",\"\",\"\",\"\",\"\",\"\",\"\"],\"line\":{\"color\":\"black\",\"width\":0.5},\"pad\":5,\"thickness\":85},\"type\":\"sankey\"}],                        {\"template\":{\"data\":{\"histogram2dcontour\":[{\"type\":\"histogram2dcontour\",\"colorbar\":{\"outlinewidth\":0,\"ticks\":\"\"},\"colorscale\":[[0.0,\"#0d0887\"],[0.1111111111111111,\"#46039f\"],[0.2222222222222222,\"#7201a8\"],[0.3333333333333333,\"#9c179e\"],[0.4444444444444444,\"#bd3786\"],[0.5555555555555556,\"#d8576b\"],[0.6666666666666666,\"#ed7953\"],[0.7777777777777778,\"#fb9f3a\"],[0.8888888888888888,\"#fdca26\"],[1.0,\"#f0f921\"]]}],\"choropleth\":[{\"type\":\"choropleth\",\"colorbar\":{\"outlinewidth\":0,\"ticks\":\"\"}}],\"histogram2d\":[{\"type\":\"histogram2d\",\"colorbar\":{\"outlinewidth\":0,\"ticks\":\"\"},\"colorscale\":[[0.0,\"#0d0887\"],[0.1111111111111111,\"#46039f\"],[0.2222222222222222,\"#7201a8\"],[0.3333333333333333,\"#9c179e\"],[0.4444444444444444,\"#bd3786\"],[0.5555555555555556,\"#d8576b\"],[0.6666666666666666,\"#ed7953\"],[0.7777777777777778,\"#fb9f3a\"],[0.8888888888888888,\"#fdca26\"],[1.0,\"#f0f921\"]]}],\"heatmap\":[{\"type\":\"heatmap\",\"colorbar\":{\"outlinewidth\":0,\"ticks\":\"\"},\"colorscale\":[[0.0,\"#0d0887\"],[0.1111111111111111,\"#46039f\"],[0.2222222222222222,\"#7201a8\"],[0.3333333333333333,\"#9c179e\"],[0.4444444444444444,\"#bd3786\"],[0.5555555555555556,\"#d8576b\"],[0.6666666666666666,\"#ed7953\"],[0.7777777777777778,\"#fb9f3a\"],[0.8888888888888888,\"#fdca26\"],[1.0,\"#f0f921\"]]}],\"heatmapgl\":[{\"type\":\"heatmapgl\",\"colorbar\":{\"outlinewidth\":0,\"ticks\":\"\"},\"colorscale\":[[0.0,\"#0d0887\"],[0.1111111111111111,\"#46039f\"],[0.2222222222222222,\"#7201a8\"],[0.3333333333333333,\"#9c179e\"],[0.4444444444444444,\"#bd3786\"],[0.5555555555555556,\"#d8576b\"],[0.6666666666666666,\"#ed7953\"],[0.7777777777777778,\"#fb9f3a\"],[0.8888888888888888,\"#fdca26\"],[1.0,\"#f0f921\"]]}],\"contourcarpet\":[{\"type\":\"contourcarpet\",\"colorbar\":{\"outlinewidth\":0,\"ticks\":\"\"}}],\"contour\":[{\"type\":\"contour\",\"colorbar\":{\"outlinewidth\":0,\"ticks\":\"\"},\"colorscale\":[[0.0,\"#0d0887\"],[0.1111111111111111,\"#46039f\"],[0.2222222222222222,\"#7201a8\"],[0.3333333333333333,\"#9c179e\"],[0.4444444444444444,\"#bd3786\"],[0.5555555555555556,\"#d8576b\"],[0.6666666666666666,\"#ed7953\"],[0.7777777777777778,\"#fb9f3a\"],[0.8888888888888888,\"#fdca26\"],[1.0,\"#f0f921\"]]}],\"surface\":[{\"type\":\"surface\",\"colorbar\":{\"outlinewidth\":0,\"ticks\":\"\"},\"colorscale\":[[0.0,\"#0d0887\"],[0.1111111111111111,\"#46039f\"],[0.2222222222222222,\"#7201a8\"],[0.3333333333333333,\"#9c179e\"],[0.4444444444444444,\"#bd3786\"],[0.5555555555555556,\"#d8576b\"],[0.6666666666666666,\"#ed7953\"],[0.7777777777777778,\"#fb9f3a\"],[0.8888888888888888,\"#fdca26\"],[1.0,\"#f0f921\"]]}],\"mesh3d\":[{\"type\":\"mesh3d\",\"colorbar\":{\"outlinewidth\":0,\"ticks\":\"\"}}],\"scatter\":[{\"fillpattern\":{\"fillmode\":\"overlay\",\"size\":10,\"solidity\":0.2},\"type\":\"scatter\"}],\"parcoords\":[{\"type\":\"parcoords\",\"line\":{\"colorbar\":{\"outlinewidth\":0,\"ticks\":\"\"}}}],\"scatterpolargl\":[{\"type\":\"scatterpolargl\",\"marker\":{\"colorbar\":{\"outlinewidth\":0,\"ticks\":\"\"}}}],\"bar\":[{\"error_x\":{\"color\":\"#2a3f5f\"},\"error_y\":{\"color\":\"#2a3f5f\"},\"marker\":{\"line\":{\"color\":\"#E5ECF6\",\"width\":0.5},\"pattern\":{\"fillmode\":\"overlay\",\"size\":10,\"solidity\":0.2}},\"type\":\"bar\"}],\"scattergeo\":[{\"type\":\"scattergeo\",\"marker\":{\"colorbar\":{\"outlinewidth\":0,\"ticks\":\"\"}}}],\"scatterpolar\":[{\"type\":\"scatterpolar\",\"marker\":{\"colorbar\":{\"outlinewidth\":0,\"ticks\":\"\"}}}],\"histogram\":[{\"marker\":{\"pattern\":{\"fillmode\":\"overlay\",\"size\":10,\"solidity\":0.2}},\"type\":\"histogram\"}],\"scattergl\":[{\"type\":\"scattergl\",\"marker\":{\"colorbar\":{\"outlinewidth\":0,\"ticks\":\"\"}}}],\"scatter3d\":[{\"type\":\"scatter3d\",\"line\":{\"colorbar\":{\"outlinewidth\":0,\"ticks\":\"\"}},\"marker\":{\"colorbar\":{\"outlinewidth\":0,\"ticks\":\"\"}}}],\"scattermapbox\":[{\"type\":\"scattermapbox\",\"marker\":{\"colorbar\":{\"outlinewidth\":0,\"ticks\":\"\"}}}],\"scatterternary\":[{\"type\":\"scatterternary\",\"marker\":{\"colorbar\":{\"outlinewidth\":0,\"ticks\":\"\"}}}],\"scattercarpet\":[{\"type\":\"scattercarpet\",\"marker\":{\"colorbar\":{\"outlinewidth\":0,\"ticks\":\"\"}}}],\"carpet\":[{\"aaxis\":{\"endlinecolor\":\"#2a3f5f\",\"gridcolor\":\"white\",\"linecolor\":\"white\",\"minorgridcolor\":\"white\",\"startlinecolor\":\"#2a3f5f\"},\"baxis\":{\"endlinecolor\":\"#2a3f5f\",\"gridcolor\":\"white\",\"linecolor\":\"white\",\"minorgridcolor\":\"white\",\"startlinecolor\":\"#2a3f5f\"},\"type\":\"carpet\"}],\"table\":[{\"cells\":{\"fill\":{\"color\":\"#EBF0F8\"},\"line\":{\"color\":\"white\"}},\"header\":{\"fill\":{\"color\":\"#C8D4E3\"},\"line\":{\"color\":\"white\"}},\"type\":\"table\"}],\"barpolar\":[{\"marker\":{\"line\":{\"color\":\"#E5ECF6\",\"width\":0.5},\"pattern\":{\"fillmode\":\"overlay\",\"size\":10,\"solidity\":0.2}},\"type\":\"barpolar\"}],\"pie\":[{\"automargin\":true,\"type\":\"pie\"}]},\"layout\":{\"autotypenumbers\":\"strict\",\"colorway\":[\"#636efa\",\"#EF553B\",\"#00cc96\",\"#ab63fa\",\"#FFA15A\",\"#19d3f3\",\"#FF6692\",\"#B6E880\",\"#FF97FF\",\"#FECB52\"],\"font\":{\"color\":\"#2a3f5f\"},\"hovermode\":\"closest\",\"hoverlabel\":{\"align\":\"left\"},\"paper_bgcolor\":\"white\",\"plot_bgcolor\":\"#E5ECF6\",\"polar\":{\"bgcolor\":\"#E5ECF6\",\"angularaxis\":{\"gridcolor\":\"white\",\"linecolor\":\"white\",\"ticks\":\"\"},\"radialaxis\":{\"gridcolor\":\"white\",\"linecolor\":\"white\",\"ticks\":\"\"}},\"ternary\":{\"bgcolor\":\"#E5ECF6\",\"aaxis\":{\"gridcolor\":\"white\",\"linecolor\":\"white\",\"ticks\":\"\"},\"baxis\":{\"gridcolor\":\"white\",\"linecolor\":\"white\",\"ticks\":\"\"},\"caxis\":{\"gridcolor\":\"white\",\"linecolor\":\"white\",\"ticks\":\"\"}},\"coloraxis\":{\"colorbar\":{\"outlinewidth\":0,\"ticks\":\"\"}},\"colorscale\":{\"sequential\":[[0.0,\"#0d0887\"],[0.1111111111111111,\"#46039f\"],[0.2222222222222222,\"#7201a8\"],[0.3333333333333333,\"#9c179e\"],[0.4444444444444444,\"#bd3786\"],[0.5555555555555556,\"#d8576b\"],[0.6666666666666666,\"#ed7953\"],[0.7777777777777778,\"#fb9f3a\"],[0.8888888888888888,\"#fdca26\"],[1.0,\"#f0f921\"]],\"sequentialminus\":[[0.0,\"#0d0887\"],[0.1111111111111111,\"#46039f\"],[0.2222222222222222,\"#7201a8\"],[0.3333333333333333,\"#9c179e\"],[0.4444444444444444,\"#bd3786\"],[0.5555555555555556,\"#d8576b\"],[0.6666666666666666,\"#ed7953\"],[0.7777777777777778,\"#fb9f3a\"],[0.8888888888888888,\"#fdca26\"],[1.0,\"#f0f921\"]],\"diverging\":[[0,\"#8e0152\"],[0.1,\"#c51b7d\"],[0.2,\"#de77ae\"],[0.3,\"#f1b6da\"],[0.4,\"#fde0ef\"],[0.5,\"#f7f7f7\"],[0.6,\"#e6f5d0\"],[0.7,\"#b8e186\"],[0.8,\"#7fbc41\"],[0.9,\"#4d9221\"],[1,\"#276419\"]]},\"xaxis\":{\"gridcolor\":\"white\",\"linecolor\":\"white\",\"ticks\":\"\",\"title\":{\"standoff\":15},\"zerolinecolor\":\"white\",\"automargin\":true,\"zerolinewidth\":2},\"yaxis\":{\"gridcolor\":\"white\",\"linecolor\":\"white\",\"ticks\":\"\",\"title\":{\"standoff\":15},\"zerolinecolor\":\"white\",\"automargin\":true,\"zerolinewidth\":2},\"scene\":{\"xaxis\":{\"backgroundcolor\":\"#E5ECF6\",\"gridcolor\":\"white\",\"linecolor\":\"white\",\"showbackground\":true,\"ticks\":\"\",\"zerolinecolor\":\"white\",\"gridwidth\":2},\"yaxis\":{\"backgroundcolor\":\"#E5ECF6\",\"gridcolor\":\"white\",\"linecolor\":\"white\",\"showbackground\":true,\"ticks\":\"\",\"zerolinecolor\":\"white\",\"gridwidth\":2},\"zaxis\":{\"backgroundcolor\":\"#E5ECF6\",\"gridcolor\":\"white\",\"linecolor\":\"white\",\"showbackground\":true,\"ticks\":\"\",\"zerolinecolor\":\"white\",\"gridwidth\":2}},\"shapedefaults\":{\"line\":{\"color\":\"#2a3f5f\"}},\"annotationdefaults\":{\"arrowcolor\":\"#2a3f5f\",\"arrowhead\":0,\"arrowwidth\":1},\"geo\":{\"bgcolor\":\"white\",\"landcolor\":\"#E5ECF6\",\"subunitcolor\":\"white\",\"showland\":true,\"showlakes\":true,\"lakecolor\":\"white\"},\"title\":{\"x\":0.05},\"mapbox\":{\"style\":\"light\"}}},\"font\":{\"size\":12},\"margin\":{\"l\":50,\"r\":50,\"t\":50,\"b\":50},\"title\":{\"text\":\"Sankey Plot Example\"},\"height\":500,\"width\":700,\"colorway\":[\"#D7E9E9\",\"#EB0E54\",\"#1F76B1\",\"#D7E9E9\",\"#EB0E54\",\"#1F76B1\",\"#D7E9E9\"]},                        {\"responsive\": true}                    ).then(function(){\n",
       "                            \n",
       "var gd = document.getElementById('26c1b2d7-88f9-4ff7-8933-814a256c9375');\n",
       "var x = new MutationObserver(function (mutations, observer) {{\n",
       "        var display = window.getComputedStyle(gd).display;\n",
       "        if (!display || display === 'none') {{\n",
       "            console.log([gd, 'removed!']);\n",
       "            Plotly.purge(gd);\n",
       "            observer.disconnect();\n",
       "        }}\n",
       "}});\n",
       "\n",
       "// Listen for the removal of the full notebook cells\n",
       "var notebookContainer = gd.closest('#notebook-container');\n",
       "if (notebookContainer) {{\n",
       "    x.observe(notebookContainer, {childList: true});\n",
       "}}\n",
       "\n",
       "// Listen for the clearing of the current output cell\n",
       "var outputEl = gd.closest('.output');\n",
       "if (outputEl) {{\n",
       "    x.observe(outputEl, {childList: true});\n",
       "}}\n",
       "\n",
       "                        })                };                });            </script>        </div>"
      ]
     },
     "metadata": {},
     "output_type": "display_data"
    }
   ],
   "source": [
    "# sankey plots of proteins\n",
    "\n",
    "import plotly.graph_objects as go\n",
    "\n",
    "# Define the nodes and links of the Sankey plot\n",
    "# sankey value for proteins\n",
    "source2 = [0 , 0 , 0 , 1 , 1 , 1 , 2 , 2 , 2 , 3 , 3 , 3 ]\n",
    "target2 = [1 , 2 , 3 , 4 , 5 , 6 , 4 , 5 , 6 , 4 , 5 , 6 ]\n",
    "value2 =  [98, 100, 26,5 ,38 ,55  ,45,4,51 , 9 ,10 ,7  ]\n",
    "label2 = [\"Control\", \"Increase\", \"Decrease\", \"No Change\", \"Increase\", \"Decrease\", \"No Change\"]\n",
    "\n",
    "link_colors = [\"#F9845B\", \"#83C0EC\", \"#BFBFBF\", \"#F9845B\", \"#F9845B\", \"#F9845B\", \"#83C0EC\", \"#83C0EC\", \"#83C0EC\", \"#BFBFBF\", \"#BFBFBF\", \"#BFBFBF\"]\n",
    "fig = go.Figure(data=[go.Sankey(\n",
    "    node=dict(\n",
    "        pad=5,\n",
    "        thickness=85,\n",
    "        line=dict(color=\"black\", width=0.5),\n",
    "        label=[\"\", \"\", \"\", \"\",\"\", \"\", \"\"]  # Set node labels to an empty string\n",
    "    ),\n",
    "    link=dict(\n",
    "        source=source2,\n",
    "        target=target2,\n",
    "        value=value2,\n",
    "        color=link_colors  # Set default color to blue\n",
    "    )\n",
    ")])\n",
    "\n",
    "# Customize the plot layout\n",
    "fig.update_layout(\n",
    "    title=\"Sankey Plot Example\",\n",
    "    font=dict(size=12),\n",
    "    height=500,\n",
    "    width=700,\n",
    "    margin=dict(l=50, r=50, t=50, b=50),\n",
    "    colorway=[\"#D7E9E9\",\"#EB0E54\", \"#1F76B1\", \"#D7E9E9\",\"#EB0E54\", \"#1F76B1\",\"#D7E9E9\" ]   # Set custom colors\n",
    ")\n",
    "# Define the file path to save the plot\n",
    "file_path = os.path.join(os.getcwd(), \"D:\\\\project7_SMAD\\\\figure_3_macro_clustering_analysis\\\\sankey_pro.svg\")\n",
    "\n",
    "# Save the plot as a TIFF file to the specified path\n",
    "fig.write_image(file_path, format='svg')\n",
    "# Display the plot\n",
    "fig.show()"
   ]
  },
  {
   "cell_type": "code",
   "execution_count": null,
   "id": "af6cd38f",
   "metadata": {},
   "outputs": [],
   "source": []
  }
 ],
 "metadata": {
  "kernelspec": {
   "display_name": "Python 3 (ipykernel)",
   "language": "python",
   "name": "python3"
  },
  "language_info": {
   "codemirror_mode": {
    "name": "ipython",
    "version": 3
   },
   "file_extension": ".py",
   "mimetype": "text/x-python",
   "name": "python",
   "nbconvert_exporter": "python",
   "pygments_lexer": "ipython3",
   "version": "3.9.7"
  }
 },
 "nbformat": 4,
 "nbformat_minor": 5
}

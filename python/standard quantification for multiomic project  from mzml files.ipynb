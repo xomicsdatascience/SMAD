{
 "cells": [
  {
   "cell_type": "code",
   "execution_count": 3,
   "id": "23ef9477",
   "metadata": {},
   "outputs": [],
   "source": [
    "import pyteomics\n",
    "import lxml\n",
    "from pyteomics import mzml, mass\n",
    "import numpy as np\n",
    "import matplotlib.pyplot as plt\n",
    "import os\n",
    "import pandas as pd\n",
    "import re\n",
    "from scipy.stats import pearsonr, spearmanr, linregress\n",
    "import matplotlib\n",
    "import seaborn as sns"
   ]
  },
  {
   "cell_type": "code",
   "execution_count": null,
   "id": "bc682b35",
   "metadata": {},
   "outputs": [],
   "source": [
    "fileslist = []\n",
    "dir = 'D:\\\\yuming\\\\2022\\\\20221202\\\\mzml_tsim'\n",
    "for file in os.listdir(dir):\n",
    "    if file.endswith(\".mzML\"):\n",
    "        fileslist.append(os.path.join(dir, file))\n",
    "print(fileslist)"
   ]
  },
  {
   "cell_type": "code",
   "execution_count": null,
   "id": "af966753",
   "metadata": {},
   "outputs": [],
   "source": [
    "# find the mzml files for each dilution \n",
    "mzmls_1= [x for x in fileslist if 'QL1' in x]\n",
    "mzmls_2= [x for x in fileslist if 'QL2' in x]\n",
    "mzmls_3= [x for x in fileslist if 'QL3' in x]\n",
    "mzmls_4= [x for x in fileslist if 'QL4' in x]\n",
    "mzmls_5= [x for x in fileslist if 'QL5' in x]\n",
    "mzmls_6= [x for x in fileslist if 'QL6' in x]\n"
   ]
  },
  {
   "cell_type": "code",
   "execution_count": 6,
   "id": "276b037c",
   "metadata": {},
   "outputs": [
    {
     "data": {
      "text/plain": [
       "['D:\\\\yuming\\\\2022\\\\20221202\\\\mzml_tsim\\\\QL5_20221202183231.mzML',\n",
       " 'D:\\\\yuming\\\\2022\\\\20221202\\\\mzml_tsim\\\\QL5_20221202220308.mzML',\n",
       " 'D:\\\\yuming\\\\2022\\\\20221202\\\\mzml_tsim\\\\QL5.mzML']"
      ]
     },
     "execution_count": 6,
     "metadata": {},
     "output_type": "execute_result"
    }
   ],
   "source": [
    "mzmls_5"
   ]
  },
  {
   "cell_type": "code",
   "execution_count": 7,
   "id": "ad455171",
   "metadata": {},
   "outputs": [],
   "source": [
    "def Average(lst):\n",
    "    return sum(lst) / len(lst)"
   ]
  },
  {
   "cell_type": "code",
   "execution_count": 8,
   "id": "8ba1f0d3",
   "metadata": {},
   "outputs": [],
   "source": [
    "def getlipid_inten_aver(mzmls=mzmls_0,num=0,name='QL0'):\n",
    "    tmp_00= pyteomics.mzml.read(mzmls[num], use_index=True)\n",
    "    sum_711=[]\n",
    "    sum_738=[]\n",
    "    sum_753=[]\n",
    "    sum_529=[]\n",
    "    sum_781=[]\n",
    "    # change the numbers below if your lipid scans are different\n",
    "    for i in range(50,280):\n",
    "        if (float(tmp_00.get_by_index(i)['base peak m/z'])>710) & (float(tmp_00.get_by_index(i)['base peak m/z'])<713):\n",
    "            sum_711.append(int(tmp_00.get_by_index(i)['base peak intensity']))\n",
    "        if (float(tmp_00.get_by_index(i)['base peak m/z'])>737) & (float(tmp_00.get_by_index(i)['base peak m/z'])<740):\n",
    "            sum_738.append(int(tmp_00.get_by_index(i)['base peak intensity']))\n",
    "        if (float(tmp_00.get_by_index(i)['base peak m/z'])>753) & (float(tmp_00.get_by_index(i)['base peak m/z'])<755):\n",
    "            sum_753.append(int(tmp_00.get_by_index(i)['base peak intensity']))\n",
    "        if (float(tmp_00.get_by_index(i)['base peak m/z'])>527) & (float(tmp_00.get_by_index(i)['base peak m/z'])<530):\n",
    "            sum_529.append(int(tmp_00.get_by_index(i)['base peak intensity'])) \n",
    "        if (float(tmp_00.get_by_index(i)['base peak m/z'])>780) & (float(tmp_00.get_by_index(i)['base peak m/z'])<783):\n",
    "            sum_781.append(int(tmp_00.get_by_index(i)['base peak intensity']))  \n",
    "            \n",
    "    lipid_name=['lipid_711','lipid_738','lipid_753','lipid_781','lipid_529']\n",
    "    lipid_intensity=[Average(sum_711),Average(sum_738),Average(sum_753),Average(sum_781),Average(sum_529)]\n",
    "    \n",
    "    dict_lipid = {'lipid_name':lipid_name,'%s' % str(name):lipid_intensity}\n",
    "    df=pd.DataFrame(dict_lipid)\n",
    "    df.set_index('lipid_name',inplace=True)\n",
    "    return(df)"
   ]
  },
  {
   "cell_type": "code",
   "execution_count": 9,
   "id": "0923afe9",
   "metadata": {},
   "outputs": [
    {
     "data": {
      "text/html": [
       "<div>\n",
       "<style scoped>\n",
       "    .dataframe tbody tr th:only-of-type {\n",
       "        vertical-align: middle;\n",
       "    }\n",
       "\n",
       "    .dataframe tbody tr th {\n",
       "        vertical-align: top;\n",
       "    }\n",
       "\n",
       "    .dataframe thead th {\n",
       "        text-align: right;\n",
       "    }\n",
       "</style>\n",
       "<table border=\"1\" class=\"dataframe\">\n",
       "  <thead>\n",
       "    <tr style=\"text-align: right;\">\n",
       "      <th></th>\n",
       "      <th>QL1</th>\n",
       "    </tr>\n",
       "    <tr>\n",
       "      <th>lipid_name</th>\n",
       "      <th></th>\n",
       "    </tr>\n",
       "  </thead>\n",
       "  <tbody>\n",
       "    <tr>\n",
       "      <th>lipid_711</th>\n",
       "      <td>1.063858e+05</td>\n",
       "    </tr>\n",
       "    <tr>\n",
       "      <th>lipid_738</th>\n",
       "      <td>2.698471e+05</td>\n",
       "    </tr>\n",
       "    <tr>\n",
       "      <th>lipid_753</th>\n",
       "      <td>2.301432e+06</td>\n",
       "    </tr>\n",
       "    <tr>\n",
       "      <th>lipid_781</th>\n",
       "      <td>2.473574e+04</td>\n",
       "    </tr>\n",
       "    <tr>\n",
       "      <th>lipid_529</th>\n",
       "      <td>6.156226e+05</td>\n",
       "    </tr>\n",
       "  </tbody>\n",
       "</table>\n",
       "</div>"
      ],
      "text/plain": [
       "                     QL1\n",
       "lipid_name              \n",
       "lipid_711   1.063858e+05\n",
       "lipid_738   2.698471e+05\n",
       "lipid_753   2.301432e+06\n",
       "lipid_781   2.473574e+04\n",
       "lipid_529   6.156226e+05"
      ]
     },
     "execution_count": 9,
     "metadata": {},
     "output_type": "execute_result"
    }
   ],
   "source": [
    "getlipid_inten_aver(mzmls=mzmls_1,num=0,name='QL1')"
   ]
  },
  {
   "cell_type": "code",
   "execution_count": 10,
   "id": "2d9c491b",
   "metadata": {},
   "outputs": [],
   "source": [
    "df_QL1=pd.concat([getlipid_inten_aver(mzmls=mzmls_1,num=0,name='QL1_1'),\n",
    "                  getlipid_inten_aver(mzmls=mzmls_1,num=1,name='QL1_2'),\n",
    "                  getlipid_inten_aver(mzmls=mzmls_1,num=2,name='QL1_3')], axis=1)"
   ]
  },
  {
   "cell_type": "code",
   "execution_count": 11,
   "id": "1a6d7ffb",
   "metadata": {},
   "outputs": [],
   "source": [
    "df_QL2=pd.concat([getlipid_inten_aver(mzmls=mzmls_2,num=0,name='QL2_1'),\n",
    "                  getlipid_inten_aver(mzmls=mzmls_2,num=1,name='QL2_2'),\n",
    "                  getlipid_inten_aver(mzmls=mzmls_2,num=2,name='QL2_3')], axis=1)"
   ]
  },
  {
   "cell_type": "code",
   "execution_count": 12,
   "id": "be5c978e",
   "metadata": {},
   "outputs": [],
   "source": [
    "df_QL3=pd.concat([getlipid_inten_aver(mzmls=mzmls_3,num=0,name='QL3_1'),\n",
    "                  getlipid_inten_aver(mzmls=mzmls_3,num=1,name='QL3_2'),\n",
    "                  getlipid_inten_aver(mzmls=mzmls_3,num=2,name='QL3_3')], axis=1)"
   ]
  },
  {
   "cell_type": "code",
   "execution_count": 13,
   "id": "b1ee2a7d",
   "metadata": {},
   "outputs": [],
   "source": [
    "df_QL4=pd.concat([getlipid_inten_aver(mzmls=mzmls_4,num=0,name='QL4_1'),\n",
    "                  getlipid_inten_aver(mzmls=mzmls_4,num=1,name='QL4_2'),\n",
    "                  getlipid_inten_aver(mzmls=mzmls_4,num=2,name='QL4_3')], axis=1)\n",
    "df_QL5=pd.concat([getlipid_inten_aver(mzmls=mzmls_5,num=0,name='QL5_1'),\n",
    "                  getlipid_inten_aver(mzmls=mzmls_5,num=1,name='QL5_2'),\n",
    "                  getlipid_inten_aver(mzmls=mzmls_5,num=2,name='QL5_3')], axis=1)\n",
    "df_QL6=pd.concat([getlipid_inten_aver(mzmls=mzmls_6,num=0,name='QL6_1'),\n",
    "                  getlipid_inten_aver(mzmls=mzmls_6,num=1,name='QL6_2'),\n",
    "                  getlipid_inten_aver(mzmls=mzmls_6,num=2,name='QL6_3')], axis=1)"
   ]
  },
  {
   "cell_type": "code",
   "execution_count": 14,
   "id": "df838db1",
   "metadata": {},
   "outputs": [],
   "source": [
    "df_all=pd.concat([df_QL1,df_QL2,df_QL3,df_QL4,df_QL5,df_QL6],axis=1)"
   ]
  },
  {
   "cell_type": "code",
   "execution_count": 15,
   "id": "a1314bf9",
   "metadata": {},
   "outputs": [],
   "source": [
    "new_df=df_all.T"
   ]
  },
  {
   "cell_type": "code",
   "execution_count": 16,
   "id": "aa485eb4",
   "metadata": {},
   "outputs": [],
   "source": [
    "new_df\n",
    "new_dflog2=np.log2(new_df)"
   ]
  },
  {
   "cell_type": "code",
   "execution_count": 17,
   "id": "53e33e54",
   "metadata": {},
   "outputs": [],
   "source": [
    "new_dflog2['type']=[75]*3+[18.75]*3+[4.6875]*3+[0.171875]*3+['QL5']*3+['QL6']*3"
   ]
  },
  {
   "cell_type": "code",
   "execution_count": null,
   "id": "f57d9a55",
   "metadata": {},
   "outputs": [],
   "source": [
    "#new_dflog2['type']=['QL1']*3+['QL2']*3+['QL3']*3+['QL4']*3+['QL5']*3+['QL6']*3"
   ]
  },
  {
   "cell_type": "code",
   "execution_count": 18,
   "id": "bfbec8a1",
   "metadata": {},
   "outputs": [],
   "source": [
    "AA=['QL1','QL2','QL3','QL4','QL5','QL6']"
   ]
  },
  {
   "cell_type": "code",
   "execution_count": null,
   "id": "668099cd",
   "metadata": {},
   "outputs": [],
   "source": [
    "new_dflog2"
   ]
  },
  {
   "cell_type": "code",
   "execution_count": 20,
   "id": "5485b498",
   "metadata": {},
   "outputs": [],
   "source": [
    "plt738=[new_dflog2.iloc[:3,:5].mean().tolist()[1],new_dflog2.iloc[3:6,:5].mean().tolist()[1],\n",
    "new_dflog2.iloc[6:9,:5].mean().tolist()[1],new_dflog2.iloc[9:12,:5].mean().tolist()[1],\n",
    "new_dflog2.iloc[12:15,:5].mean().tolist()[1],new_dflog2.iloc[15:18,:5].mean().tolist()[1]]\n",
    "\n"
   ]
  },
  {
   "cell_type": "code",
   "execution_count": 21,
   "id": "1a1be268",
   "metadata": {},
   "outputs": [],
   "source": [
    "plt753=[new_dflog2.iloc[:3,:5].mean().tolist()[2],new_dflog2.iloc[3:6,:5].mean().tolist()[2],\n",
    "new_dflog2.iloc[6:9,:5].mean().tolist()[2],new_dflog2.iloc[9:12,:5].mean().tolist()[2],\n",
    "new_dflog2.iloc[12:15,:5].mean().tolist()[2],new_dflog2.iloc[15:18,:5].mean().tolist()[2]]\n",
    "\n"
   ]
  },
  {
   "cell_type": "code",
   "execution_count": 22,
   "id": "06f893b1",
   "metadata": {},
   "outputs": [],
   "source": [
    "plt529=[new_dflog2.iloc[:3,:5].mean().tolist()[4],new_dflog2.iloc[3:6,:5].mean().tolist()[4],\n",
    "new_dflog2.iloc[6:9,:5].mean().tolist()[4],new_dflog2.iloc[9:12,:5].mean().tolist()[4],\n",
    "new_dflog2.iloc[12:15,:5].mean().tolist()[4],new_dflog2.iloc[15:18,:5].mean().tolist()[4]]\n"
   ]
  },
  {
   "cell_type": "code",
   "execution_count": 23,
   "id": "c70c2f32",
   "metadata": {},
   "outputs": [
    {
     "data": {
      "text/html": [
       "<div>\n",
       "<style scoped>\n",
       "    .dataframe tbody tr th:only-of-type {\n",
       "        vertical-align: middle;\n",
       "    }\n",
       "\n",
       "    .dataframe tbody tr th {\n",
       "        vertical-align: top;\n",
       "    }\n",
       "\n",
       "    .dataframe thead th {\n",
       "        text-align: right;\n",
       "    }\n",
       "</style>\n",
       "<table border=\"1\" class=\"dataframe\">\n",
       "  <thead>\n",
       "    <tr style=\"text-align: right;\">\n",
       "      <th></th>\n",
       "      <th>QL1_1</th>\n",
       "      <th>QL1_2</th>\n",
       "      <th>QL1_3</th>\n",
       "      <th>QL2_1</th>\n",
       "      <th>QL2_2</th>\n",
       "      <th>QL2_3</th>\n",
       "      <th>QL3_1</th>\n",
       "      <th>QL3_2</th>\n",
       "      <th>QL3_3</th>\n",
       "      <th>QL4_1</th>\n",
       "      <th>QL4_2</th>\n",
       "      <th>QL4_3</th>\n",
       "      <th>QL5_1</th>\n",
       "      <th>QL5_2</th>\n",
       "      <th>QL5_3</th>\n",
       "      <th>QL6_1</th>\n",
       "      <th>QL6_2</th>\n",
       "      <th>QL6_3</th>\n",
       "    </tr>\n",
       "    <tr>\n",
       "      <th>lipid_name</th>\n",
       "      <th></th>\n",
       "      <th></th>\n",
       "      <th></th>\n",
       "      <th></th>\n",
       "      <th></th>\n",
       "      <th></th>\n",
       "      <th></th>\n",
       "      <th></th>\n",
       "      <th></th>\n",
       "      <th></th>\n",
       "      <th></th>\n",
       "      <th></th>\n",
       "      <th></th>\n",
       "      <th></th>\n",
       "      <th></th>\n",
       "      <th></th>\n",
       "      <th></th>\n",
       "      <th></th>\n",
       "    </tr>\n",
       "  </thead>\n",
       "  <tbody>\n",
       "    <tr>\n",
       "      <th>lipid_711</th>\n",
       "      <td>16.698945</td>\n",
       "      <td>17.309041</td>\n",
       "      <td>16.742011</td>\n",
       "      <td>16.706317</td>\n",
       "      <td>16.912474</td>\n",
       "      <td>16.726297</td>\n",
       "      <td>18.305586</td>\n",
       "      <td>18.357415</td>\n",
       "      <td>18.125841</td>\n",
       "      <td>19.89917</td>\n",
       "      <td>19.912437</td>\n",
       "      <td>19.692157</td>\n",
       "      <td>20.708372</td>\n",
       "      <td>20.737457</td>\n",
       "      <td>21.127072</td>\n",
       "      <td>21.675541</td>\n",
       "      <td>21.709586</td>\n",
       "      <td>21.520163</td>\n",
       "    </tr>\n",
       "    <tr>\n",
       "      <th>lipid_738</th>\n",
       "      <td>18.041783</td>\n",
       "      <td>18.209729</td>\n",
       "      <td>17.498298</td>\n",
       "      <td>19.882752</td>\n",
       "      <td>20.290233</td>\n",
       "      <td>20.085928</td>\n",
       "      <td>21.937131</td>\n",
       "      <td>21.997125</td>\n",
       "      <td>21.791923</td>\n",
       "      <td>23.627805</td>\n",
       "      <td>23.590793</td>\n",
       "      <td>23.445392</td>\n",
       "      <td>24.553363</td>\n",
       "      <td>24.615318</td>\n",
       "      <td>25.0877</td>\n",
       "      <td>25.824491</td>\n",
       "      <td>25.830112</td>\n",
       "      <td>25.687142</td>\n",
       "    </tr>\n",
       "    <tr>\n",
       "      <th>lipid_753</th>\n",
       "      <td>21.1341</td>\n",
       "      <td>20.924999</td>\n",
       "      <td>20.697808</td>\n",
       "      <td>22.88145</td>\n",
       "      <td>23.314568</td>\n",
       "      <td>23.203254</td>\n",
       "      <td>25.302841</td>\n",
       "      <td>25.349738</td>\n",
       "      <td>25.228366</td>\n",
       "      <td>27.089847</td>\n",
       "      <td>27.018525</td>\n",
       "      <td>26.942069</td>\n",
       "      <td>28.028371</td>\n",
       "      <td>28.143199</td>\n",
       "      <td>28.587625</td>\n",
       "      <td>29.331156</td>\n",
       "      <td>29.247366</td>\n",
       "      <td>29.078562</td>\n",
       "    </tr>\n",
       "    <tr>\n",
       "      <th>lipid_781</th>\n",
       "      <td>14.594309</td>\n",
       "      <td>19.249958</td>\n",
       "      <td>17.586158</td>\n",
       "      <td>16.769641</td>\n",
       "      <td>14.743697</td>\n",
       "      <td>14.768141</td>\n",
       "      <td>15.62237</td>\n",
       "      <td>15.663781</td>\n",
       "      <td>15.448715</td>\n",
       "      <td>17.751604</td>\n",
       "      <td>17.826081</td>\n",
       "      <td>17.723593</td>\n",
       "      <td>19.191574</td>\n",
       "      <td>19.246968</td>\n",
       "      <td>19.67181</td>\n",
       "      <td>20.430431</td>\n",
       "      <td>20.309295</td>\n",
       "      <td>20.078857</td>\n",
       "    </tr>\n",
       "    <tr>\n",
       "      <th>lipid_529</th>\n",
       "      <td>19.231687</td>\n",
       "      <td>19.511097</td>\n",
       "      <td>18.972948</td>\n",
       "      <td>21.449759</td>\n",
       "      <td>21.74629</td>\n",
       "      <td>21.55099</td>\n",
       "      <td>23.911407</td>\n",
       "      <td>23.891671</td>\n",
       "      <td>23.757046</td>\n",
       "      <td>26.033271</td>\n",
       "      <td>25.908418</td>\n",
       "      <td>25.802755</td>\n",
       "      <td>27.27137</td>\n",
       "      <td>27.159159</td>\n",
       "      <td>27.679777</td>\n",
       "      <td>28.623869</td>\n",
       "      <td>28.522507</td>\n",
       "      <td>28.004541</td>\n",
       "    </tr>\n",
       "    <tr>\n",
       "      <th>type</th>\n",
       "      <td>QL1</td>\n",
       "      <td>QL1</td>\n",
       "      <td>QL1</td>\n",
       "      <td>QL2</td>\n",
       "      <td>QL2</td>\n",
       "      <td>QL2</td>\n",
       "      <td>QL3</td>\n",
       "      <td>QL3</td>\n",
       "      <td>QL3</td>\n",
       "      <td>QL4</td>\n",
       "      <td>QL4</td>\n",
       "      <td>QL4</td>\n",
       "      <td>QL5</td>\n",
       "      <td>QL5</td>\n",
       "      <td>QL5</td>\n",
       "      <td>QL6</td>\n",
       "      <td>QL6</td>\n",
       "      <td>QL6</td>\n",
       "    </tr>\n",
       "  </tbody>\n",
       "</table>\n",
       "</div>"
      ],
      "text/plain": [
       "                QL1_1      QL1_2      QL1_3      QL2_1      QL2_2      QL2_3  \\\n",
       "lipid_name                                                                     \n",
       "lipid_711   16.698945  17.309041  16.742011  16.706317  16.912474  16.726297   \n",
       "lipid_738   18.041783  18.209729  17.498298  19.882752  20.290233  20.085928   \n",
       "lipid_753     21.1341  20.924999  20.697808   22.88145  23.314568  23.203254   \n",
       "lipid_781   14.594309  19.249958  17.586158  16.769641  14.743697  14.768141   \n",
       "lipid_529   19.231687  19.511097  18.972948  21.449759   21.74629   21.55099   \n",
       "type              QL1        QL1        QL1        QL2        QL2        QL2   \n",
       "\n",
       "                QL3_1      QL3_2      QL3_3      QL4_1      QL4_2      QL4_3  \\\n",
       "lipid_name                                                                     \n",
       "lipid_711   18.305586  18.357415  18.125841   19.89917  19.912437  19.692157   \n",
       "lipid_738   21.937131  21.997125  21.791923  23.627805  23.590793  23.445392   \n",
       "lipid_753   25.302841  25.349738  25.228366  27.089847  27.018525  26.942069   \n",
       "lipid_781    15.62237  15.663781  15.448715  17.751604  17.826081  17.723593   \n",
       "lipid_529   23.911407  23.891671  23.757046  26.033271  25.908418  25.802755   \n",
       "type              QL3        QL3        QL3        QL4        QL4        QL4   \n",
       "\n",
       "                QL5_1      QL5_2      QL5_3      QL6_1      QL6_2      QL6_3  \n",
       "lipid_name                                                                    \n",
       "lipid_711   20.708372  20.737457  21.127072  21.675541  21.709586  21.520163  \n",
       "lipid_738   24.553363  24.615318    25.0877  25.824491  25.830112  25.687142  \n",
       "lipid_753   28.028371  28.143199  28.587625  29.331156  29.247366  29.078562  \n",
       "lipid_781   19.191574  19.246968   19.67181  20.430431  20.309295  20.078857  \n",
       "lipid_529    27.27137  27.159159  27.679777  28.623869  28.522507  28.004541  \n",
       "type              QL5        QL5        QL5        QL6        QL6        QL6  "
      ]
     },
     "execution_count": 23,
     "metadata": {},
     "output_type": "execute_result"
    }
   ],
   "source": [
    "new_dflog2.T"
   ]
  },
  {
   "cell_type": "code",
   "execution_count": 23,
   "id": "6c553eb9",
   "metadata": {},
   "outputs": [
    {
     "data": {
      "image/png": "[encoded data removed]",
      "text/plain": [
       "<Figure size 475.2x432 with 1 Axes>"
      ]
     },
     "metadata": {},
     "output_type": "display_data"
    }
   ],
   "source": [
    "\n",
    "\n",
    "sns.set_style(\"ticks\")\n",
    "matplotlib.rcParams['font.family'] = \"Arial\"\n",
    "plt.figure(figsize=(6.6, 6))\n",
    "sns.boxplot(x = 'type', y = 'lipid_738',data = new_dflog2,orient='v',color=\"lightseagreen\", boxprops=dict(facecolor=\"lightseagreen\",edgecolor='lightseagreen',linewidth=1), \n",
    "            whiskerprops=dict(color=\"lightseagreen\",linewidth=1), medianprops=dict(color=\"lightseagreen\",linewidth=1), width=0.4,fliersize=3,\n",
    "           flierprops=dict(markerfacecolor=\"lightseagreen\", marker=\".\"),capprops=dict(linewidth=2, color='lightseagreen'))\n",
    "sns.boxplot(x = 'type', y = 'lipid_753',data = new_dflog2,orient='v',color=\"indianred\", boxprops=dict(facecolor=\"indianred\",edgecolor='indianred',linewidth=1), \n",
    "            whiskerprops=dict(color=\"indianred\",linewidth=1), medianprops=dict(color=\"indianred\",linewidth=1), width=0.4,fliersize=3,\n",
    "           flierprops=dict(markerfacecolor=\"indianred\", marker=\".\"),capprops=dict(linewidth=2, color='indianred'))\n",
    "#sns.boxplot(x = 'type', y = 'lipid_781',data = new_dflog2,linewidth=2.5)\n",
    "sns.boxplot(x = 'type', y = 'lipid_529',data = new_dflog2,orient='v',color=\"grey\", boxprops=dict(facecolor=\"grey\",edgecolor='grey',linewidth=1), \n",
    "            whiskerprops=dict(color=\"grey\",linewidth=1), medianprops=dict(color=\"grey\",linewidth=1), width=0.4,fliersize=3,\n",
    "           flierprops=dict(markerfacecolor=\"grey\", marker=\".\"),capprops=dict(linewidth=2, color='grey') )\n",
    "\n",
    "plt.plot(AA,plt738,color='lightseagreen', linestyle='--',label='d18:1-18:1(d9) SM',linewidth=2)\n",
    "plt.plot(AA,plt753,color='indianred', linestyle='--',label='15:0-18:1(d7) PC',linewidth=2)\n",
    "plt.plot(AA,plt529,color='grey', linestyle='--',label='18:1(d7)Lyso PC',linewidth=2)\n",
    "plt.ylabel('Log 2 (intensity)',fontsize=26)\n",
    "\n",
    "plt.tick_params(axis='x', which='major', pad=16)\n",
    "plt.tick_params(axis='y', which='major', pad=10)\n",
    "plt.xticks(fontsize=10)\n",
    "plt.yticks(fontsize=22)\n",
    "plt.xlabel('')\n",
    "plt.ylim(17,30)\n",
    "plt.legend(fontsize=20,loc=(0.55, 0.005),frameon=False)\n",
    "plt.grid()\n",
    "plt.savefig('D:\\\\project7_SMAD\\\\figure2\\\\Figure2_I.svg', dpi=800,bbox_inches = 'tight')\n",
    "plt.show()"
   ]
  },
  {
   "cell_type": "code",
   "execution_count": 24,
   "id": "0924a9f3",
   "metadata": {},
   "outputs": [],
   "source": [
    "def getlipid_inten_all(mzmls=mzmls_0,num=0,name='QL0'):\n",
    "    tmp_00= pyteomics.mzml.read(mzmls[num], use_index=True)\n",
    "    sum_711=[]\n",
    "    sum_738=[]\n",
    "    sum_753=[]\n",
    "    sum_529=[]\n",
    "    sum_781=[]\n",
    "    # change the numbers below if your lipid scans are different\n",
    "    for i in range(50,300):\n",
    "        if (float(tmp_00.get_by_index(i)['base peak m/z'])>710) & (float(tmp_00.get_by_index(i)['base peak m/z'])<713):\n",
    "            sum_711.append(int(tmp_00.get_by_index(i)['base peak intensity']))\n",
    "        if (float(tmp_00.get_by_index(i)['base peak m/z'])>737) & (float(tmp_00.get_by_index(i)['base peak m/z'])<740):\n",
    "            sum_738.append(int(tmp_00.get_by_index(i)['base peak intensity']))\n",
    "        if (float(tmp_00.get_by_index(i)['base peak m/z'])>753) & (float(tmp_00.get_by_index(i)['base peak m/z'])<754):\n",
    "            sum_753.append(int(tmp_00.get_by_index(i)['base peak intensity']))\n",
    "        if (float(tmp_00.get_by_index(i)['base peak m/z'])>527) & (float(tmp_00.get_by_index(i)['base peak m/z'])<530):\n",
    "            sum_529.append(int(tmp_00.get_by_index(i)['base peak intensity'])) \n",
    "        if (float(tmp_00.get_by_index(i)['base peak m/z'])>780) & (float(tmp_00.get_by_index(i)['base peak m/z'])<783):\n",
    "            sum_781.append(int(tmp_00.get_by_index(i)['base peak intensity']))  \n",
    "    dict_lipid={'lipid_711':sum_711,'lipid_738':sum_738,'lipid_753':sum_753,'lipid_781':sum_781,'lipid_529':sum_529}\n",
    "    df = pd.DataFrame.from_dict(dict_lipid, orient='index')\n",
    "    df = df.transpose()\n",
    "    return(df)\n",
    "def dict_lipinten_all(mzmls=mzmls_0,num=0,name='QL0'):\n",
    "    tmp_00= pyteomics.mzml.read(mzmls[num], use_index=True)\n",
    "    sum_711=[]\n",
    "    sum_738=[]\n",
    "    sum_753=[]\n",
    "    sum_529=[]\n",
    "    sum_781=[]\n",
    "    # change the numbers below if your lipid scans are different\n",
    "    for i in range(50,300):\n",
    "        if (float(tmp_00.get_by_index(i)['base peak m/z'])>710) & (float(tmp_00.get_by_index(i)['base peak m/z'])<713):\n",
    "            sum_711.append(int(tmp_00.get_by_index(i)['base peak intensity']))\n",
    "        if (float(tmp_00.get_by_index(i)['base peak m/z'])>737) & (float(tmp_00.get_by_index(i)['base peak m/z'])<740):\n",
    "            sum_738.append(int(tmp_00.get_by_index(i)['base peak intensity']))\n",
    "        if (float(tmp_00.get_by_index(i)['base peak m/z'])>753) & (float(tmp_00.get_by_index(i)['base peak m/z'])<754):\n",
    "            sum_753.append(int(tmp_00.get_by_index(i)['base peak intensity']))\n",
    "        if (float(tmp_00.get_by_index(i)['base peak m/z'])>527) & (float(tmp_00.get_by_index(i)['base peak m/z'])<530):\n",
    "            sum_529.append(int(tmp_00.get_by_index(i)['base peak intensity'])) \n",
    "        if (float(tmp_00.get_by_index(i)['base peak m/z'])>780) & (float(tmp_00.get_by_index(i)['base peak m/z'])<783):\n",
    "            sum_781.append(int(tmp_00.get_by_index(i)['base peak intensity']))  \n",
    "    dict_lipid={'lipid_711':sum_711,'lipid_738':sum_738,'lipid_753':sum_753,'lipid_781':sum_781,'lipid_529':sum_529}\n",
    "    return(dict_lipid)"
   ]
  },
  {
   "cell_type": "markdown",
   "id": "0771e054",
   "metadata": {},
   "source": [
    "# quantification of QCAL standards starts from this cell"
   ]
  },
  {
   "cell_type": "code",
   "execution_count": 25,
   "id": "0dd87eab",
   "metadata": {},
   "outputs": [],
   "source": [
    "# set the m/z for each target peptide of QCAL proteins \n",
    "\n",
    "peptide_list=[525.84,721.84,802.84,749.82,778.32,634.33,671.80,707.30,721.30,737.32]"
   ]
  },
  {
   "cell_type": "code",
   "execution_count": 26,
   "id": "71e2acdb",
   "metadata": {},
   "outputs": [],
   "source": [
    "seq_list=['ALVALVLVPR',\n",
    "'VLYPNDNFFEGK',\n",
    "'AVMMMDDFAAFVEK',\n",
    "'GGVNDNEEGFFSAR',\n",
    "'GGGVNDNEEGFFSAR',\n",
    "'YLGYLEQLLR',\n",
    "'AVMDDFAAFVEK',\n",
    "'GVNDNEEGFFSAK',\n",
    "'GVNDNEEGFFSAR',\n",
    "'AVMMDDFAAFVEK',]"
   ]
  },
  {
   "cell_type": "code",
   "execution_count": 27,
   "id": "510c60c7",
   "metadata": {},
   "outputs": [],
   "source": [
    "# define a function to get theoretical fragments and its corresponding m/z from a peptide sequence \n",
    "\n",
    "def getfrag(sequence = 'DRVYIHPFHL' ):\n",
    "    customAAcomp = dict(mass.std_aa_comp)\n",
    "    customAAcomp['C'] = mass.Composition({'H':8, 'C':5, 'S':1,'O':2, 'N': 2}) ## add carbamidomethyl to the modifications\n",
    "    customAAcomp['m'] = mass.Composition({'H': 9, 'C': 5, 'S': 1, 'O': 2, 'N': 1}) ## add oxidized methionine\n",
    "    protonmass = mass.calculate_mass(formula='H')-0.00054858 ## mass of hydrogen minus an electron  \n",
    "    # clean sequence to remove mod masses and change oxMet to 'm'\n",
    "    fraglist=[]\n",
    "    z=1\n",
    "    for x in range(1, len(sequence)-1):\n",
    "        fragseq_y = sequence[x:]\n",
    "        fragseq_b = sequence[:x]\n",
    "        lightfragmz_y = mass.calculate_mass(sequence=sequence[x:], ion_type='y', charge=1, aa_comp = customAAcomp)\n",
    "        lightfragmz_b = mass.calculate_mass(sequence=sequence[:x], ion_type='b', charge=1, aa_comp = customAAcomp)\n",
    "        ## part to count the number of K and R residues\n",
    "        fraglist.append([fragseq_y, lightfragmz_y,fragseq_b,lightfragmz_b])   \n",
    "    return(fraglist)\n",
    "# to extract the int values between two other values,  the value range was set according to ppm \n",
    "def getFragInt(pred_mass, mz_list, int_list, tol, tol_type):\n",
    "    ''' \n",
    "    PURPOSE:\n",
    "    Find observed intensity for theoretical m/z value in spectra\n",
    "    \n",
    "    INPUTS:\n",
    "    pred_mass = the theoretical mass of the fragment ion\n",
    "    mz_array = numpy array of all peak masses in the spectra\n",
    "    int_array = numpy array of all peak intensities in the spectra\n",
    "    ppm = the mass tolerance for the fragments in ppm\n",
    "    noiselevel = value to be subtracted from each value\n",
    "    \n",
    "    OUTPUTS:\n",
    "    numpy array containing the intensity for any m/z found\n",
    "    \n",
    "    '''\n",
    "    if tol_type==\"ppm\":\n",
    "        lowmz = pred_mass - pred_mass*tol\n",
    "        highmz = pred_mass + pred_mass*tol\n",
    "    if tol_type == \"abs\":\n",
    "        lowmz = pred_mass - tol\n",
    "        highmz = pred_mass + tol\n",
    "    found = [int_list[index] for index, value in enumerate(mz_list) if value>lowmz and value<highmz]\n",
    "    #found = found-noiselevel\n",
    "    if len(found)==0:\n",
    "        found = [1]\n",
    "    return(found[0])\n",
    "customAAcomp = dict(mass.std_aa_comp)\n",
    "customAAcomp['C'] = mass.Composition({'H':8, 'C':5, 'S':1,'O':2, 'N': 2}) ## add carbamidomethyl to the modifications\n",
    "customAAcomp['m'] = mass.Composition({'H': 9, 'C': 5, 'S': 1, 'O': 2, 'N': 1}) ## add oxidized methionine\n",
    "protonmass = mass.calculate_mass(formula='H')-0.00054858 ## mass of hydrogen minus an electron"
   ]
  },
  {
   "cell_type": "code",
   "execution_count": 28,
   "id": "9f606331",
   "metadata": {},
   "outputs": [],
   "source": [
    "# get the m/z list of y fragments\n",
    "def yion_mz(tmp_pep=seq_list[0]):\n",
    "    fraglist = []\n",
    "    z=1\n",
    "    for x in range(1, len(tmp_pep)-1):\n",
    "        fragseq = tmp_pep[x:]\n",
    "        lightfragmz = mass.calculate_mass(sequence=tmp_pep[x:], ion_type='y', charge=1, aa_comp = customAAcomp)\n",
    "        ## part to count the number of K and R residues\n",
    "        fraglist.append([fragseq, lightfragmz])\n",
    "    fl = pd.DataFrame(fraglist)\n",
    "    fl.columns = ['fragseq', 'lightmz']\n",
    "    return(fl)"
   ]
  },
  {
   "cell_type": "code",
   "execution_count": 29,
   "id": "b8e3bed2",
   "metadata": {},
   "outputs": [],
   "source": [
    "# take the aveage intensity of the ten peptides in each file\n",
    "\n",
    "def get_qcal_inten(files=mzmls_1,listnum=0):\n",
    "    tmp11 = pyteomics.mzml.read(files[listnum], use_index=True)\n",
    "    fragment_ions = {525.8: seq_list[0],721.8: seq_list[1],802.9: seq_list[2],\n",
    "                     778.3: seq_list[3],749.8: seq_list[4],634.3: seq_list[5],\n",
    "                     671.8: seq_list[6],707.3: seq_list[7],721.3: seq_list[8],\n",
    "                     737.3: seq_list[9]}\n",
    "    tol_type = \"ppm\"\n",
    "    tol = 5e-6\n",
    "    quan_lists = [[] for _ in range(10)]\n",
    "    for number in range(320, 660):\n",
    "        tmpmzarray = tmp11.get_by_index(number)[\"m/z array\"].tolist()\n",
    "        tmpintarray = tmp11.get_by_index(number)[\"intensity array\"].tolist()\n",
    "        precursor_mz = round(float(tmp11.get_by_index(number)[\"precursorList\"][\"precursor\"][0][\"selectedIonList\"][\"selectedIon\"][0][\"selected ion m/z\"]), 1)\n",
    "        if precursor_mz in fragment_ions:\n",
    "            fragment_seq = fragment_ions[precursor_mz]\n",
    "            ints = [getFragInt(x, tmpmzarray, tmpintarray, tol, tol_type) for x in yion_mz(tmp_pep=fragment_seq)[\"lightmz\"]]\n",
    "            quan_lists[list(fragment_ions.keys()).index(precursor_mz)].append(sum(ints))\n",
    "    made=[]\n",
    "    for i in range(10):\n",
    "        made.append(sum(quan_lists[i])/len(quan_lists[i]))\n",
    "       # Construct column name dynamically using string formatting\n",
    "    column_name = 's{}'.format(files[listnum])\n",
    "    dict_new={'sequence': seq_list, column_name: made}\n",
    "    df = pd.DataFrame(dict_new)\n",
    "    df.set_index('sequence',inplace=True)\n",
    "    return(df)"
   ]
  },
  {
   "cell_type": "code",
   "execution_count": 30,
   "id": "d899aa90",
   "metadata": {},
   "outputs": [
    {
     "data": {
      "text/html": [
       "<div>\n",
       "<style scoped>\n",
       "    .dataframe tbody tr th:only-of-type {\n",
       "        vertical-align: middle;\n",
       "    }\n",
       "\n",
       "    .dataframe tbody tr th {\n",
       "        vertical-align: top;\n",
       "    }\n",
       "\n",
       "    .dataframe thead th {\n",
       "        text-align: right;\n",
       "    }\n",
       "</style>\n",
       "<table border=\"1\" class=\"dataframe\">\n",
       "  <thead>\n",
       "    <tr style=\"text-align: right;\">\n",
       "      <th></th>\n",
       "      <th>sD:\\yuming\\2022\\20221202\\mzml_tsim\\QL5_20221202183231.mzML</th>\n",
       "    </tr>\n",
       "    <tr>\n",
       "      <th>sequence</th>\n",
       "      <th></th>\n",
       "    </tr>\n",
       "  </thead>\n",
       "  <tbody>\n",
       "    <tr>\n",
       "      <th>ALVALVLVPR</th>\n",
       "      <td>2.600199e+07</td>\n",
       "    </tr>\n",
       "    <tr>\n",
       "      <th>VLYPNDNFFEGK</th>\n",
       "      <td>3.718435e+06</td>\n",
       "    </tr>\n",
       "    <tr>\n",
       "      <th>AVMMMDDFAAFVEK</th>\n",
       "      <td>3.166851e+06</td>\n",
       "    </tr>\n",
       "    <tr>\n",
       "      <th>GGVNDNEEGFFSAR</th>\n",
       "      <td>6.460419e+06</td>\n",
       "    </tr>\n",
       "    <tr>\n",
       "      <th>GGGVNDNEEGFFSAR</th>\n",
       "      <td>6.229112e+06</td>\n",
       "    </tr>\n",
       "    <tr>\n",
       "      <th>YLGYLEQLLR</th>\n",
       "      <td>1.743328e+07</td>\n",
       "    </tr>\n",
       "    <tr>\n",
       "      <th>AVMDDFAAFVEK</th>\n",
       "      <td>8.856781e+06</td>\n",
       "    </tr>\n",
       "    <tr>\n",
       "      <th>GVNDNEEGFFSAK</th>\n",
       "      <td>3.786812e+06</td>\n",
       "    </tr>\n",
       "    <tr>\n",
       "      <th>GVNDNEEGFFSAR</th>\n",
       "      <td>3.606052e+06</td>\n",
       "    </tr>\n",
       "    <tr>\n",
       "      <th>AVMMDDFAAFVEK</th>\n",
       "      <td>7.942102e+06</td>\n",
       "    </tr>\n",
       "  </tbody>\n",
       "</table>\n",
       "</div>"
      ],
      "text/plain": [
       "                 sD:\\yuming\\2022\\20221202\\mzml_tsim\\QL5_20221202183231.mzML\n",
       "sequence                                                                   \n",
       "ALVALVLVPR                                            2.600199e+07         \n",
       "VLYPNDNFFEGK                                          3.718435e+06         \n",
       "AVMMMDDFAAFVEK                                        3.166851e+06         \n",
       "GGVNDNEEGFFSAR                                        6.460419e+06         \n",
       "GGGVNDNEEGFFSAR                                       6.229112e+06         \n",
       "YLGYLEQLLR                                            1.743328e+07         \n",
       "AVMDDFAAFVEK                                          8.856781e+06         \n",
       "GVNDNEEGFFSAK                                         3.786812e+06         \n",
       "GVNDNEEGFFSAR                                         3.606052e+06         \n",
       "AVMMDDFAAFVEK                                         7.942102e+06         "
      ]
     },
     "execution_count": 30,
     "metadata": {},
     "output_type": "execute_result"
    }
   ],
   "source": [
    "get_qcal_inten(files=mzmls_5,listnum=0)"
   ]
  },
  {
   "cell_type": "code",
   "execution_count": 31,
   "id": "cdf1b2db",
   "metadata": {},
   "outputs": [],
   "source": [
    "qcal_df=pd.concat([get_qcal_inten(files=mzmls_1,listnum=0),get_qcal_inten(files=mzmls_1,listnum=1),get_qcal_inten(files=mzmls_1,listnum=2),\n",
    "          get_qcal_inten(files=mzmls_2,listnum=0),get_qcal_inten(files=mzmls_2,listnum=1),get_qcal_inten(files=mzmls_2,listnum=2),\n",
    "          get_qcal_inten(files=mzmls_3,listnum=0),get_qcal_inten(files=mzmls_3,listnum=1),get_qcal_inten(files=mzmls_3,listnum=2),\n",
    "          get_qcal_inten(files=mzmls_4,listnum=0),get_qcal_inten(files=mzmls_4,listnum=1),get_qcal_inten(files=mzmls_4,listnum=2),\n",
    "          get_qcal_inten(files=mzmls_5,listnum=0),get_qcal_inten(files=mzmls_5,listnum=1),get_qcal_inten(files=mzmls_5,listnum=2),\n",
    "          get_qcal_inten(files=mzmls_6,listnum=0),get_qcal_inten(files=mzmls_6,listnum=1),get_qcal_inten(files=mzmls_6,listnum=2)], axis=1)\n",
    "        \n",
    "            "
   ]
  },
  {
   "cell_type": "code",
   "execution_count": 32,
   "id": "bda3e7c2",
   "metadata": {},
   "outputs": [],
   "source": [
    "qcal=qcal_df.T\n",
    "qcal_log2=np.log2(qcal)"
   ]
  },
  {
   "cell_type": "code",
   "execution_count": 33,
   "id": "9352fd90",
   "metadata": {},
   "outputs": [
    {
     "data": {
      "text/plain": [
       "0.3848100240968856"
      ]
     },
     "execution_count": 33,
     "metadata": {},
     "output_type": "execute_result"
    }
   ],
   "source": [
    "qcal_log2.iloc[:3,:].sem().tolist()[0]"
   ]
  },
  {
   "cell_type": "code",
   "execution_count": 34,
   "id": "a01a04bd",
   "metadata": {},
   "outputs": [],
   "source": [
    "def listmean(i=0):  \n",
    "    qcal=[qcal_log2.iloc[:3,:].mean().tolist()[i],\n",
    "    qcal_log2.iloc[3:6,:].mean().tolist()[i],\n",
    "    qcal_log2.iloc[6:7,:].mean().tolist()[i],\n",
    "    qcal_log2.iloc[9:12,:].mean().tolist()[i],\n",
    "    qcal_log2.iloc[12:15,:].mean().tolist()[i],\n",
    "    qcal_log2.iloc[15:18,:].mean().tolist()[i]]\n",
    "    return(qcal)\n",
    "def listerror(i=0):  \n",
    "    qcal=[qcal_log2.iloc[:3,:].sem().tolist()[i],\n",
    "    qcal_log2.iloc[3:6,:].sem().tolist()[i],\n",
    "    qcal_log2.iloc[6:7,:].sem().tolist()[i],\n",
    "    qcal_log2.iloc[9:12,:].sem().tolist()[i],\n",
    "    qcal_log2.iloc[12:15,:].sem().tolist()[i],\n",
    "    qcal_log2.iloc[15:18,:].sem().tolist()[i]]\n",
    "    return(qcal)"
   ]
  },
  {
   "cell_type": "code",
   "execution_count": 35,
   "id": "973eeeed",
   "metadata": {},
   "outputs": [
    {
     "data": {
      "text/plain": [
       "[14.23287814066545,\n",
       " 15.816932716313339,\n",
       " 18.299424354561847,\n",
       " 20.100979319856563,\n",
       " 21.481613244274996,\n",
       " 21.93796129140433]"
      ]
     },
     "execution_count": 35,
     "metadata": {},
     "output_type": "execute_result"
    }
   ],
   "source": [
    "listmean(i=2)"
   ]
  },
  {
   "cell_type": "code",
   "execution_count": null,
   "id": "21a23f6e",
   "metadata": {},
   "outputs": [],
   "source": [
    "AA=['QL1','QL2','QL3','QL4','QL5','QL6']"
   ]
  },
  {
   "cell_type": "code",
   "execution_count": 37,
   "id": "b0bf0bfe",
   "metadata": {},
   "outputs": [
    {
     "data": {
      "image/png": "[encoded data removed]",
      "text/plain": [
       "<Figure size 482.4x432 with 1 Axes>"
      ]
     },
     "metadata": {},
     "output_type": "display_data"
    }
   ],
   "source": [
    "from matplotlib import pyplot\n",
    "import matplotlib\n",
    "import seaborn as sns\n",
    "from matplotlib.font_manager import FontProperties\n",
    "sns.set_theme(style=\"ticks\")\n",
    "plt.figure(figsize=(6.7,6),edgecolor=\"#04253a\")\n",
    "matplotlib.rcParams['font.family'] = \"Arial\"\n",
    "\n",
    "matplotlib.rcParams['axes.linewidth'] = 1.5\n",
    "\n",
    "\n",
    "\n",
    "plt.errorbar(AA,listmean(i=0),yerr=listerror(i=0),color='tab:cyan',label=seq_list[0],marker='o',linewidth=3,capsize=5)\n",
    "plt.errorbar(AA,listmean(i=1),yerr=listerror(i=1),color='tab:orange',label=seq_list[1],marker='o',linewidth=3,capsize=5)\n",
    "plt.errorbar(AA,listmean(i=2),yerr=listerror(i=2),color='tab:blue',label=seq_list[2],marker='o',linewidth=3,capsize=5)\n",
    "plt.errorbar(AA,listmean(i=3),yerr=listerror(i=3),color='tab:brown',label=seq_list[3],marker='o',linewidth=3,capsize=5)\n",
    "plt.errorbar(AA,listmean(i=4),yerr=listerror(i=4),color='tab:pink',label=seq_list[4],marker='o',linewidth=3,capsize=5)\n",
    "plt.errorbar(AA,listmean(i=5),yerr=listerror(i=5),color='tab:olive',label=seq_list[5],marker='o',linewidth=3,capsize=5)\n",
    "plt.errorbar(AA,listmean(i=6),yerr=listerror(i=6),color='tab:gray',label=seq_list[6],marker='o',linewidth=3,capsize=5)\n",
    "plt.errorbar(AA,listmean(i=7),yerr=listerror(i=7),color='darkmagenta',label=seq_list[7],marker='o',linewidth=3,capsize=5)\n",
    "plt.errorbar(AA,listmean(i=8),yerr=listerror(i=8),color='tab:purple',label=seq_list[8],marker='o',linewidth=3,capsize=5)\n",
    "plt.errorbar(AA,listmean(i=9),yerr=listerror(i=9),color='firebrick',label=seq_list[9],marker='o',linewidth=3,capsize=5)\n",
    "\n",
    "plt.legend(fontsize=12,loc=(0.55, 0.005),frameon=False)\n",
    "plt.ylabel('Log 2 (intensity)',fontsize=26)\n",
    "plt.xticks(fontsize=10)\n",
    "plt.yticks(fontsize=22)\n",
    "plt.grid()\n",
    "\n",
    "plt.savefig('D:\\\\project7_SMAD\\\\figure2\\\\Figure2_H.svg', dpi=800,bbox_inches = 'tight')\n"
   ]
  },
  {
   "cell_type": "code",
   "execution_count": null,
   "id": "92ac3678",
   "metadata": {},
   "outputs": [],
   "source": []
  }
 ],
 "metadata": {
  "kernelspec": {
   "display_name": "Python 3 (ipykernel)",
   "language": "python",
   "name": "python3"
  },
  "language_info": {
   "codemirror_mode": {
    "name": "ipython",
    "version": 3
   },
   "file_extension": ".py",
   "mimetype": "text/x-python",
   "name": "python",
   "nbconvert_exporter": "python",
   "pygments_lexer": "ipython3",
   "version": "3.9.7"
  }
 },
 "nbformat": 4,
 "nbformat_minor": 5
}

{
 "cells": [
  {
   "cell_type": "code",
   "execution_count": 2,
   "metadata": {},
   "outputs": [],
   "source": [
    "import pandas as pd\n",
    "import numpy as np\n",
    "from sklearn.model_selection import train_test_split\n",
    "import matplotlib.pyplot as plt\n",
    "import os\n",
    "from collections import defaultdict\n",
    "\n",
    "import random\n",
    "\n",
    "from sklearn.metrics import explained_variance_score\n",
    "from sklearn.metrics import mean_absolute_error\n",
    "from sklearn.metrics import mean_squared_error\n",
    "from sklearn.metrics import r2_score\n",
    "from sklearn.ensemble import RandomForestRegressor\n",
    "from sklearn.ensemble import ExtraTreesRegressor\n",
    "from sklearn import preprocessing\n",
    "from sklearn.model_selection import train_test_split\n",
    "from sklearn.dummy import *\n",
    "\n",
    "# 1.3 Regressors\n",
    "from sklearn.neighbors import KNeighborsRegressor\n",
    "from sklearn.linear_model import Lasso\n",
    "from sklearn.linear_model import ElasticNet\n",
    "from sklearn.linear_model import LinearRegression\n",
    "from sklearn.linear_model import RidgeCV\n",
    "\n",
    "from sklearn.ensemble import ExtraTreesRegressor\n",
    "from sklearn.ensemble import GradientBoostingRegressor\n",
    "from sklearn.ensemble import RandomForestRegressor\n",
    "from sklearn.ensemble import AdaBoostRegressor\n",
    "\n",
    "from sklearn.tree import DecisionTreeRegressor\n",
    "\n",
    "from sklearn.multioutput import MultiOutputRegressor\n",
    "from sklearn.model_selection import cross_val_predict, GridSearchCV, RandomizedSearchCV\n",
    "from sklearn.ensemble import RandomForestRegressor\n",
    "from sklearn.preprocessing import MinMaxScaler, StandardScaler, RobustScaler\n",
    "from sklearn.dummy import DummyRegressor\n",
    "import seaborn as sns\n",
    "import pickle\n",
    "from scipy.stats import spearmanr\n",
    "from sklearn.inspection import permutation_importance\n",
    "import time\n",
    "from sklearn.impute import SimpleImputer, KNNImputer"
   ]
  },
  {
   "cell_type": "code",
   "execution_count": 3,
   "metadata": {},
   "outputs": [
    {
     "data": {
      "text/html": [
       "<div>\n",
       "<style scoped>\n",
       "    .dataframe tbody tr th:only-of-type {\n",
       "        vertical-align: middle;\n",
       "    }\n",
       "\n",
       "    .dataframe tbody tr th {\n",
       "        vertical-align: top;\n",
       "    }\n",
       "\n",
       "    .dataframe thead th {\n",
       "        text-align: right;\n",
       "    }\n",
       "</style>\n",
       "<table border=\"1\" class=\"dataframe\">\n",
       "  <thead>\n",
       "    <tr style=\"text-align: right;\">\n",
       "      <th></th>\n",
       "      <th>A1</th>\n",
       "      <th>A2</th>\n",
       "      <th>A3</th>\n",
       "      <th>A4</th>\n",
       "      <th>A5</th>\n",
       "      <th>A6</th>\n",
       "      <th>A8</th>\n",
       "      <th>A9</th>\n",
       "      <th>A10</th>\n",
       "      <th>A11</th>\n",
       "      <th>...</th>\n",
       "      <th>G3</th>\n",
       "      <th>G4</th>\n",
       "      <th>G5</th>\n",
       "      <th>G6</th>\n",
       "      <th>G7</th>\n",
       "      <th>G8</th>\n",
       "      <th>G9</th>\n",
       "      <th>G10</th>\n",
       "      <th>G11</th>\n",
       "      <th>G12</th>\n",
       "    </tr>\n",
       "  </thead>\n",
       "  <tbody>\n",
       "    <tr>\n",
       "      <th>1/sp|Q13151|ROA0_HUMAN</th>\n",
       "      <td>17.136855</td>\n",
       "      <td>16.981031</td>\n",
       "      <td>17.380600</td>\n",
       "      <td>17.313682</td>\n",
       "      <td>17.171079</td>\n",
       "      <td>16.907761</td>\n",
       "      <td>16.866405</td>\n",
       "      <td>17.002087</td>\n",
       "      <td>16.914275</td>\n",
       "      <td>17.070147</td>\n",
       "      <td>...</td>\n",
       "      <td>16.278393</td>\n",
       "      <td>16.249226</td>\n",
       "      <td>16.234352</td>\n",
       "      <td>16.511556</td>\n",
       "      <td>16.769266</td>\n",
       "      <td>16.354346</td>\n",
       "      <td>16.125869</td>\n",
       "      <td>16.294465</td>\n",
       "      <td>16.611128</td>\n",
       "      <td>16.244718</td>\n",
       "    </tr>\n",
       "    <tr>\n",
       "      <th>1/sp|P25705|ATPA_HUMAN</th>\n",
       "      <td>19.765949</td>\n",
       "      <td>19.787863</td>\n",
       "      <td>19.945158</td>\n",
       "      <td>19.935565</td>\n",
       "      <td>19.979122</td>\n",
       "      <td>19.673296</td>\n",
       "      <td>19.869383</td>\n",
       "      <td>19.764727</td>\n",
       "      <td>19.675089</td>\n",
       "      <td>19.819422</td>\n",
       "      <td>...</td>\n",
       "      <td>19.055441</td>\n",
       "      <td>19.114331</td>\n",
       "      <td>19.125909</td>\n",
       "      <td>19.341502</td>\n",
       "      <td>19.518779</td>\n",
       "      <td>19.176859</td>\n",
       "      <td>18.821754</td>\n",
       "      <td>18.812864</td>\n",
       "      <td>19.208747</td>\n",
       "      <td>18.838438</td>\n",
       "    </tr>\n",
       "    <tr>\n",
       "      <th>1/sp|P17987|TCPA_HUMAN</th>\n",
       "      <td>19.558667</td>\n",
       "      <td>19.797518</td>\n",
       "      <td>19.878208</td>\n",
       "      <td>19.990131</td>\n",
       "      <td>20.262627</td>\n",
       "      <td>19.490869</td>\n",
       "      <td>19.623488</td>\n",
       "      <td>19.520840</td>\n",
       "      <td>19.593644</td>\n",
       "      <td>19.742180</td>\n",
       "      <td>...</td>\n",
       "      <td>19.301966</td>\n",
       "      <td>19.440957</td>\n",
       "      <td>19.142047</td>\n",
       "      <td>19.409105</td>\n",
       "      <td>19.936231</td>\n",
       "      <td>19.311178</td>\n",
       "      <td>19.078091</td>\n",
       "      <td>18.963039</td>\n",
       "      <td>19.533181</td>\n",
       "      <td>19.491008</td>\n",
       "    </tr>\n",
       "    <tr>\n",
       "      <th>1/sp|P06576|ATPB_HUMAN</th>\n",
       "      <td>19.792755</td>\n",
       "      <td>20.061846</td>\n",
       "      <td>20.220668</td>\n",
       "      <td>20.048093</td>\n",
       "      <td>20.013875</td>\n",
       "      <td>19.968291</td>\n",
       "      <td>19.903663</td>\n",
       "      <td>19.948603</td>\n",
       "      <td>19.918656</td>\n",
       "      <td>20.073732</td>\n",
       "      <td>...</td>\n",
       "      <td>18.933254</td>\n",
       "      <td>19.264677</td>\n",
       "      <td>19.163665</td>\n",
       "      <td>19.404896</td>\n",
       "      <td>19.397101</td>\n",
       "      <td>19.329793</td>\n",
       "      <td>19.010495</td>\n",
       "      <td>19.187193</td>\n",
       "      <td>19.580935</td>\n",
       "      <td>19.216481</td>\n",
       "    </tr>\n",
       "    <tr>\n",
       "      <th>1/sp|P62913|RL11_HUMAN</th>\n",
       "      <td>17.572020</td>\n",
       "      <td>16.776782</td>\n",
       "      <td>17.838812</td>\n",
       "      <td>16.827748</td>\n",
       "      <td>17.922630</td>\n",
       "      <td>16.808190</td>\n",
       "      <td>17.253954</td>\n",
       "      <td>17.459773</td>\n",
       "      <td>17.828790</td>\n",
       "      <td>16.989804</td>\n",
       "      <td>...</td>\n",
       "      <td>16.741861</td>\n",
       "      <td>16.951118</td>\n",
       "      <td>16.889754</td>\n",
       "      <td>17.053418</td>\n",
       "      <td>16.492265</td>\n",
       "      <td>16.294084</td>\n",
       "      <td>15.721132</td>\n",
       "      <td>16.464488</td>\n",
       "      <td>16.669949</td>\n",
       "      <td>17.131954</td>\n",
       "    </tr>\n",
       "  </tbody>\n",
       "</table>\n",
       "<p>5 rows × 82 columns</p>\n",
       "</div>"
      ],
      "text/plain": [
       "                               A1         A2         A3         A4         A5  \\\n",
       "1/sp|Q13151|ROA0_HUMAN  17.136855  16.981031  17.380600  17.313682  17.171079   \n",
       "1/sp|P25705|ATPA_HUMAN  19.765949  19.787863  19.945158  19.935565  19.979122   \n",
       "1/sp|P17987|TCPA_HUMAN  19.558667  19.797518  19.878208  19.990131  20.262627   \n",
       "1/sp|P06576|ATPB_HUMAN  19.792755  20.061846  20.220668  20.048093  20.013875   \n",
       "1/sp|P62913|RL11_HUMAN  17.572020  16.776782  17.838812  16.827748  17.922630   \n",
       "\n",
       "                               A6         A8         A9        A10        A11  \\\n",
       "1/sp|Q13151|ROA0_HUMAN  16.907761  16.866405  17.002087  16.914275  17.070147   \n",
       "1/sp|P25705|ATPA_HUMAN  19.673296  19.869383  19.764727  19.675089  19.819422   \n",
       "1/sp|P17987|TCPA_HUMAN  19.490869  19.623488  19.520840  19.593644  19.742180   \n",
       "1/sp|P06576|ATPB_HUMAN  19.968291  19.903663  19.948603  19.918656  20.073732   \n",
       "1/sp|P62913|RL11_HUMAN  16.808190  17.253954  17.459773  17.828790  16.989804   \n",
       "\n",
       "                        ...         G3         G4         G5         G6  \\\n",
       "1/sp|Q13151|ROA0_HUMAN  ...  16.278393  16.249226  16.234352  16.511556   \n",
       "1/sp|P25705|ATPA_HUMAN  ...  19.055441  19.114331  19.125909  19.341502   \n",
       "1/sp|P17987|TCPA_HUMAN  ...  19.301966  19.440957  19.142047  19.409105   \n",
       "1/sp|P06576|ATPB_HUMAN  ...  18.933254  19.264677  19.163665  19.404896   \n",
       "1/sp|P62913|RL11_HUMAN  ...  16.741861  16.951118  16.889754  17.053418   \n",
       "\n",
       "                               G7         G8         G9        G10        G11  \\\n",
       "1/sp|Q13151|ROA0_HUMAN  16.769266  16.354346  16.125869  16.294465  16.611128   \n",
       "1/sp|P25705|ATPA_HUMAN  19.518779  19.176859  18.821754  18.812864  19.208747   \n",
       "1/sp|P17987|TCPA_HUMAN  19.936231  19.311178  19.078091  18.963039  19.533181   \n",
       "1/sp|P06576|ATPB_HUMAN  19.397101  19.329793  19.010495  19.187193  19.580935   \n",
       "1/sp|P62913|RL11_HUMAN  16.492265  16.294084  15.721132  16.464488  16.669949   \n",
       "\n",
       "                              G12  \n",
       "1/sp|Q13151|ROA0_HUMAN  16.244718  \n",
       "1/sp|P25705|ATPA_HUMAN  18.838438  \n",
       "1/sp|P17987|TCPA_HUMAN  19.491008  \n",
       "1/sp|P06576|ATPB_HUMAN  19.216481  \n",
       "1/sp|P62913|RL11_HUMAN  17.131954  \n",
       "\n",
       "[5 rows x 82 columns]"
      ]
     },
     "execution_count": 3,
     "metadata": {},
     "output_type": "execute_result"
    }
   ],
   "source": [
    "p = pd.read_csv('../data/proteomics_raw.csv', index_col=0, low_memory=False)\n",
    "m = pd.read_csv('../data/mzmine/all_metabolites_unscaled.csv', index_col=0, low_memory=False)\n",
    "df = pd.concat([p,m])\n",
    "df = df.dropna(axis=1)\n",
    "df.head()"
   ]
  },
  {
   "cell_type": "code",
   "execution_count": null,
   "metadata": {},
   "outputs": [],
   "source": [
    "ss = StandardScaler()\n",
    "df_ss = ss.fit_transform(df.T )"
   ]
  },
  {
   "cell_type": "code",
   "execution_count": 17,
   "metadata": {},
   "outputs": [
    {
     "data": {
      "text/plain": [
       "array([[ 0.89632589,  0.72015407,  0.36835027, ...,  2.02550768,\n",
       "        -1.31610904,  1.9146289 ],\n",
       "       [ 0.61702833,  0.76436164,  0.84799835, ...,  1.46278463,\n",
       "         0.04064   ,  0.96667264],\n",
       "       [ 1.33321161,  1.08168646,  1.01003677, ...,  2.13153292,\n",
       "        -1.61016303,  1.66196422],\n",
       "       ...,\n",
       "       [-0.61356805, -1.20258703, -0.82775938, ..., -1.41029547,\n",
       "         0.14779885, -0.51633102],\n",
       "       [-0.04598231, -0.40393811,  0.31717055, ...,  0.17698047,\n",
       "        -0.780326  , -0.85857095],\n",
       "       [-0.70273265, -1.15099456,  0.232481  , ..., -0.99185815,\n",
       "        -0.62529476,  0.29176898]])"
      ]
     },
     "execution_count": 17,
     "metadata": {},
     "output_type": "execute_result"
    }
   ],
   "source": [
    "df_ss"
   ]
  },
  {
   "cell_type": "code",
   "execution_count": 18,
   "metadata": {},
   "outputs": [],
   "source": [
    "df_ss = pd.DataFrame(df_ss, columns= df.index, index=df.columns)"
   ]
  },
  {
   "cell_type": "code",
   "execution_count": null,
   "metadata": {},
   "outputs": [],
   "source": [
    "plt.hist(df_ss.iloc[4,:])"
   ]
  },
  {
   "cell_type": "code",
   "execution_count": null,
   "metadata": {},
   "outputs": [],
   "source": [
    "plt.hist(df_ss.iloc[:,4])"
   ]
  },
  {
   "cell_type": "code",
   "execution_count": null,
   "metadata": {},
   "outputs": [],
   "source": []
  },
  {
   "cell_type": "code",
   "execution_count": 9,
   "metadata": {},
   "outputs": [
    {
     "data": {
      "text/plain": [
       "1.403822857417797e-14"
      ]
     },
     "execution_count": 9,
     "metadata": {},
     "output_type": "execute_result"
    }
   ],
   "source": [
    "np.mean(df_ss.iloc[:,4])"
   ]
  },
  {
   "cell_type": "code",
   "execution_count": 10,
   "metadata": {},
   "outputs": [
    {
     "data": {
      "text/plain": [
       "0.9999999999999999"
      ]
     },
     "execution_count": 10,
     "metadata": {},
     "output_type": "execute_result"
    }
   ],
   "source": [
    "np.std(df_ss.iloc[:,4])"
   ]
  },
  {
   "cell_type": "code",
   "execution_count": null,
   "metadata": {},
   "outputs": [],
   "source": [
    "p = df_ss.iloc[:,:450]\n",
    "m = df_ss.iloc[:,450:]\n",
    "m"
   ]
  },
  {
   "cell_type": "markdown",
   "metadata": {},
   "source": [
    "# make full X data (proteins with KNN imputation)"
   ]
  },
  {
   "cell_type": "markdown",
   "metadata": {},
   "source": [
    "# Split train/test"
   ]
  },
  {
   "cell_type": "code",
   "execution_count": null,
   "metadata": {},
   "outputs": [],
   "source": [
    "### get one random index from each letter\n",
    "test_index = []\n",
    "group_letters = ['A', 'B', 'C', 'D', 'E', 'F', 'G']\n",
    "for letter in group_letters:\n",
    "    print(letter)    \n",
    "    test_index.append(random.choice(p[[letter in s for s in p.index]].index))"
   ]
  },
  {
   "cell_type": "code",
   "execution_count": 14,
   "metadata": {},
   "outputs": [],
   "source": [
    "test_index = ['A12', 'B9', 'C11', 'D3', 'E9', 'F5', 'G2']"
   ]
  },
  {
   "cell_type": "code",
   "execution_count": null,
   "metadata": {},
   "outputs": [],
   "source": [
    "p_test = p.loc[test_index]\n",
    "m_test = m.loc[test_index]\n",
    "m_test"
   ]
  },
  {
   "cell_type": "code",
   "execution_count": null,
   "metadata": {},
   "outputs": [],
   "source": [
    "p_train = p.drop(index=test_index)\n",
    "m_train = m.drop(index=test_index)\n",
    "m_train"
   ]
  },
  {
   "cell_type": "code",
   "execution_count": null,
   "metadata": {},
   "outputs": [],
   "source": [
    "p_train.iloc[:,1].hist()"
   ]
  },
  {
   "cell_type": "markdown",
   "metadata": {},
   "source": [
    "# START HERE to Load saved data"
   ]
  },
  {
   "cell_type": "code",
   "execution_count": 71,
   "metadata": {},
   "outputs": [],
   "source": [
    "import seaborn as sns"
   ]
  },
  {
   "cell_type": "code",
   "execution_count": 72,
   "metadata": {},
   "outputs": [],
   "source": [
    "def model_eval(model, model_name, XTRAIN, XTEST,YTRAIN, YTEST):\n",
    "    model.fit(XTRAIN, YTRAIN)\n",
    "    YPRED = model.predict(XTEST)\n",
    "    print('Mean squared error: %.4f'\n",
    "      % mean_squared_error(YTEST, YPRED))\n",
    "    # The coefficient of determination: 1 is perfect prediction\n",
    "    print('Coefficient of determination: %.4f'\n",
    "      % r2_score(YTEST, YPRED))\n",
    "    # Plot outputs\n",
    "    plt.rcParams['figure.figsize'] = 5,5\n",
    "    #sns.jointplot(YTEST, YPRED,  color='black', kind='reg')\n",
    "    plt.scatter(YTEST, YPRED, color='blue')\n",
    "    plt.xlabel('true')\n",
    "    plt.ylabel('pred')\n",
    "    plt.subplots_adjust(top=0.9)\n",
    "    plt.suptitle(model_name, fontsize = 16)\n",
    "    plt.show()\n",
    "    return mean_squared_error(YTEST, YPRED), r2_score(YTEST, YPRED)"
   ]
  },
  {
   "cell_type": "code",
   "execution_count": 73,
   "metadata": {},
   "outputs": [],
   "source": [
    "## try many models\n",
    "from sklearn.ensemble import ExtraTreesRegressor, AdaBoostRegressor, GradientBoostingRegressor\n",
    "from sklearn.linear_model import Lasso, Ridge, ElasticNet\n",
    "from sklearn.svm import SVR\n",
    "from sklearn.model_selection import KFold\n",
    "from sklearn.multioutput import MultiOutputRegressor\n"
   ]
  },
  {
   "cell_type": "markdown",
   "metadata": {},
   "source": [
    "# Hyperparameter search"
   ]
  },
  {
   "cell_type": "code",
   "execution_count": 147,
   "metadata": {},
   "outputs": [],
   "source": [
    "md = np.arange(10,90,20)\n",
    "md = np.append(md, None)\n",
    "search_params = {\n",
    "        'max_depth': md,\n",
    "        'min_samples_leaf': [1,2,5],\n",
    "        'min_samples_split':[2,5,10],\n",
    "        'max_features': ['log2', 'auto', 'sqrt'],\n",
    "        'n_estimators': [500, 1000, 1500]\n",
    "    }"
   ]
  },
  {
   "cell_type": "code",
   "execution_count": 75,
   "metadata": {},
   "outputs": [],
   "source": [
    "from sklearn.model_selection import ParameterGrid"
   ]
  },
  {
   "cell_type": "code",
   "execution_count": null,
   "metadata": {},
   "outputs": [],
   "source": [
    "# grid search - depth and estimators -- OOPS that was the wrong way - protein to metabolite. \n",
    "etgs_p_to_m = RandomizedSearchCV(\n",
    "    estimator=ExtraTreesRegressor(random_state = 42),\n",
    "    param_distributions=search_params,\n",
    "    cv=5, scoring='neg_mean_squared_error', verbose=2, n_jobs=-1, n_iter=100)\n",
    "grid_result_met = etgs_p_to_m.fit(p_train, m_train)"
   ]
  },
  {
   "cell_type": "code",
   "execution_count": null,
   "metadata": {},
   "outputs": [],
   "source": [
    "et_best_met = grid_result_met.best_estimator_\n",
    "et_best_met"
   ]
  },
  {
   "cell_type": "code",
   "execution_count": null,
   "metadata": {},
   "outputs": [],
   "source": [
    "et_best_met.get_params()"
   ]
  },
  {
   "cell_type": "code",
   "execution_count": 151,
   "metadata": {},
   "outputs": [],
   "source": [
    "ypred = et_best_met.predict(p_test)"
   ]
  },
  {
   "cell_type": "code",
   "execution_count": null,
   "metadata": {},
   "outputs": [],
   "source": [
    "p_test"
   ]
  },
  {
   "cell_type": "code",
   "execution_count": null,
   "metadata": {},
   "outputs": [],
   "source": [
    "\n",
    "print('Mean squared error: %.4f'\n",
    "  % mean_squared_error(m_test, ypred))\n",
    "# The coefficient of determination: 1 is perfect prediction\n",
    "print('Coefficient of determination: %.4f'\n",
    "  % r2_score(np.asarray(m_test).flatten(), ypred.flatten()))\n",
    "# Plot outputs\n",
    "plt.rcParams['figure.figsize'] = 5,5\n",
    "#sns.jointplot(YTEST, YPRED,  color='black', kind='reg')\n",
    "ax = sns.jointplot(np.asarray(m_test).flatten(), ypred.flatten(), kind='reg')\n",
    "plt.xlabel('true')\n",
    "plt.ylabel('pred')\n",
    "plt.subplots_adjust(top=0.9)\n",
    "plt.suptitle('extra trees', fontsize = 16)\n",
    "ax.ax_marg_x.set_xlim(-6, 6)\n",
    "ax.ax_marg_y.set_ylim(-6, 6)\n",
    "plt.show()"
   ]
  },
  {
   "cell_type": "code",
   "execution_count": 154,
   "metadata": {},
   "outputs": [],
   "source": [
    "dummy = DummyRegressor()\n",
    "dummy.fit(p_train, m_train)\n",
    "ypred_dummy = dummy.predict(p_test)"
   ]
  },
  {
   "cell_type": "code",
   "execution_count": null,
   "metadata": {},
   "outputs": [],
   "source": [
    "print('Mean squared error: %.4f'\n",
    "  % mean_squared_error(m_test, ypred_dummy))\n",
    "# The coefficient of determination: 1 is perfect prediction\n",
    "print('Coefficient of determination: %.4f'\n",
    "  % r2_score(np.asarray(m_test).flatten(), ypred_dummy.flatten()))\n",
    "# Plot outputs\n",
    "plt.rcParams['figure.figsize'] = 5,5\n",
    "#sns.jointplot(YTEST, YPRED,  color='black', kind='reg')\n",
    "ax = sns.jointplot(np.asarray(m_test).flatten(), ypred_dummy.flatten(), kind='reg')\n",
    "plt.xlabel('true')\n",
    "plt.ylabel('pred')\n",
    "plt.subplots_adjust(top=0.9)\n",
    "plt.suptitle('dummy', fontsize = 16)\n",
    "ax.ax_marg_x.set_xlim(-6, 6)\n",
    "ax.ax_marg_y.set_ylim(-6, 6)\n",
    "plt.show()"
   ]
  },
  {
   "cell_type": "code",
   "execution_count": null,
   "metadata": {},
   "outputs": [],
   "source": []
  },
  {
   "cell_type": "code",
   "execution_count": null,
   "metadata": {},
   "outputs": [],
   "source": []
  },
  {
   "cell_type": "code",
   "execution_count": null,
   "metadata": {},
   "outputs": [],
   "source": [
    "# grid search - depth and estimators -- OOPS that was the wrong way - protein to metabolite. \n",
    "etgs_m_to_p = RandomizedSearchCV(\n",
    "    estimator=ExtraTreesRegressor(random_state = 42),\n",
    "    param_distributions=search_params,\n",
    "    cv=5, scoring='neg_mean_squared_error', verbose=2, n_jobs=-1, n_iter=100)\n",
    "grid_result_m_to_p = etgs_m_to_p.fit(m_train, p_train)"
   ]
  },
  {
   "cell_type": "code",
   "execution_count": 157,
   "metadata": {},
   "outputs": [
    {
     "data": {
      "text/plain": [
       "ExtraTreesRegressor(max_depth=70, n_estimators=1500, random_state=42)"
      ]
     },
     "execution_count": 157,
     "metadata": {},
     "output_type": "execute_result"
    }
   ],
   "source": [
    "et_best_m_to_p = grid_result_m_to_p.best_estimator_\n",
    "et_best_m_to_p"
   ]
  },
  {
   "cell_type": "code",
   "execution_count": null,
   "metadata": {},
   "outputs": [],
   "source": [
    "et_best_m_to_p.get_params()"
   ]
  },
  {
   "cell_type": "code",
   "execution_count": null,
   "metadata": {},
   "outputs": [],
   "source": [
    "ypred = et_best_m_to_p.predict(m_test)"
   ]
  },
  {
   "cell_type": "code",
   "execution_count": 160,
   "metadata": {},
   "outputs": [
    {
     "data": {
      "text/plain": [
       "(7, 450)"
      ]
     },
     "execution_count": 160,
     "metadata": {},
     "output_type": "execute_result"
    }
   ],
   "source": [
    "ypred.shape"
   ]
  },
  {
   "cell_type": "code",
   "execution_count": 161,
   "metadata": {},
   "outputs": [
    {
     "data": {
      "text/plain": [
       "(7, 450)"
      ]
     },
     "execution_count": 161,
     "metadata": {},
     "output_type": "execute_result"
    }
   ],
   "source": [
    "p_test.shape"
   ]
  },
  {
   "cell_type": "code",
   "execution_count": null,
   "metadata": {},
   "outputs": [],
   "source": [
    "plt.scatter(p_test.iloc[0,:], ypred[0,:])"
   ]
  },
  {
   "cell_type": "code",
   "execution_count": 163,
   "metadata": {},
   "outputs": [
    {
     "data": {
      "text/plain": [
       "0.13908445678859682"
      ]
     },
     "execution_count": 163,
     "metadata": {},
     "output_type": "execute_result"
    }
   ],
   "source": [
    "r2_score(p_test.iloc[0,:], ypred[0,:])"
   ]
  },
  {
   "cell_type": "code",
   "execution_count": 164,
   "metadata": {},
   "outputs": [
    {
     "data": {
      "text/plain": [
       "0.6252320956013405"
      ]
     },
     "execution_count": 164,
     "metadata": {},
     "output_type": "execute_result"
    }
   ],
   "source": [
    "r2_score(np.asarray(p_test), ypred)"
   ]
  },
  {
   "cell_type": "code",
   "execution_count": null,
   "metadata": {},
   "outputs": [],
   "source": [
    "\n",
    "print('Mean squared error: %.4f'\n",
    "  % mean_squared_error(ypred, p_test))\n",
    "# The coefficient of determination: 1 is perfect prediction\n",
    "print('Coefficient of determination: %.4f'\n",
    "  % r2_score(np.asarray(p_test).flatten(), ypred.flatten()))\n",
    "# Plot outputs\n",
    "plt.rcParams['figure.figsize'] = 5,5\n",
    "#sns.jointplot(YTEST, YPRED,  color='black', kind='reg')\n",
    "ax = sns.jointplot(np.asarray(p_test).flatten(), ypred.flatten(), kind='reg')\n",
    "\n",
    "plt.subplots_adjust(top=0.9)\n",
    "plt.suptitle('extra trees', fontsize = 16)\n",
    "plt.xlabel('true')\n",
    "plt.ylabel('pred')\n",
    "ax.ax_marg_x.set_xlim(-3, 3)\n",
    "ax.ax_marg_y.set_ylim(-3, 3)\n",
    "plt.show()"
   ]
  },
  {
   "cell_type": "code",
   "execution_count": 166,
   "metadata": {},
   "outputs": [],
   "source": [
    "dummy = DummyRegressor()\n",
    "dummy.fit(m_train, p_train)\n",
    "ypred_dummy = dummy.predict(m_test)\n"
   ]
  },
  {
   "cell_type": "code",
   "execution_count": null,
   "metadata": {},
   "outputs": [],
   "source": [
    "print('Mean squared error: %.4f'\n",
    "  % mean_squared_error(p_test, ypred_dummy))\n",
    "# The coefficient of determination: 1 is perfect prediction\n",
    "print('Coefficient of determination: %.4f'\n",
    "  % r2_score(np.asarray(p_test).flatten(), ypred_dummy.flatten()))\n",
    "# Plot outputs\n",
    "plt.rcParams['figure.figsize'] = 5,5\n",
    "#sns.jointplot(YTEST, YPRED,  color='black', kind='reg')\n",
    "ax = sns.jointplot(np.asarray(p_test).flatten(), ypred_dummy.flatten(), kind='reg')\n",
    "plt.xlabel('true')\n",
    "plt.ylabel('pred')\n",
    "plt.subplots_adjust(top=0.9)\n",
    "plt.suptitle('dummy', fontsize = 16)\n",
    "ax.ax_marg_x.set_xlim(-3, 3)\n",
    "ax.ax_marg_y.set_ylim(-3, 3)\n",
    "plt.show()"
   ]
  },
  {
   "cell_type": "code",
   "execution_count": 88,
   "metadata": {},
   "outputs": [],
   "source": [
    "#from joblib import dump, load\n",
    "\n",
    "filename = 'best_et.pickle'\n",
    "with open(filename, 'wb') as fh:\n",
    "    pickle.dump(et_best_met, fh)\n"
   ]
  },
  {
   "cell_type": "code",
   "execution_count": null,
   "metadata": {},
   "outputs": [],
   "source": [
    "with open('best_et.pickle', 'rb') as fh:\n",
    "    et_best_met = pickle.load(fh)"
   ]
  }
 ],
 "metadata": {
  "kernelspec": {
   "display_name": "Python 3 (ipykernel)",
   "language": "python",
   "name": "python3"
  },
  "language_info": {
   "codemirror_mode": {
    "name": "ipython",
    "version": 3
   },
   "file_extension": ".py",
   "mimetype": "text/x-python",
   "name": "python",
   "nbconvert_exporter": "python",
   "pygments_lexer": "ipython3",
   "version": "3.9.7"
  }
 },
 "nbformat": 4,
 "nbformat_minor": 2
}

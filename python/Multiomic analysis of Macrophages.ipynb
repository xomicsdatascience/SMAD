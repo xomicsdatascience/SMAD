{
 "cells": [
  {
   "cell_type": "code",
   "execution_count": 2,
   "id": "97738c9a",
   "metadata": {},
   "outputs": [],
   "source": [
    "import pyteomics\n",
    "import lxml\n",
    "from pyteomics import mzml, mass\n",
    "import numpy as np\n",
    "import matplotlib.pyplot as plt\n",
    "import os\n",
    "import pandas as pd\n",
    "from matplotlib import pyplot\n",
    "import matplotlib\n",
    "import seaborn as sns\n",
    "import re\n",
    "import math\n",
    "import statsmodels\n",
    "from sklearn.preprocessing import StandardScaler\n",
    "from sklearn.cluster import KMeans\n",
    "from scipy.stats import f_oneway\n",
    "from statsmodels.stats.multicomp import pairwise_tukeyhsd"
   ]
  },
  {
   "cell_type": "code",
   "execution_count": 2,
   "id": "5cab2af7",
   "metadata": {},
   "outputs": [],
   "source": [
    "sample=[1,1,2,2]\n",
    "def remove_dul(tar_list=sample):\n",
    "    res=[]\n",
    "    [res.append(x) for x in tar_list if x not in res]\n",
    "    return(res)\n",
    "def procount(dir='D:\\\\csodiaq'):\n",
    "    plasma_pro = []\n",
    "    for file in os.listdir(dir):\n",
    "        if file.endswith(\".csv\") and 'proteinFDR' in file:\n",
    "            plasma_pro.append(os.path.join(dir, file))\n",
    "    dic={}\n",
    "    for i in range(len(plasma_pro)):\n",
    "        df=pd.read_csv(plasma_pro[i]) \n",
    "        yummy=len(remove_dul(tar_list=df['protein'].tolist()))\n",
    "        dic[str(plasma_pro[i].split('\\\\')[-1])]=yummy\n",
    "        dfnew=pd.DataFrame.from_dict(dic, orient='index')\n",
    "    return(dfnew)"
   ]
  },
  {
   "cell_type": "code",
   "execution_count": 10,
   "id": "91f5c7a0",
   "metadata": {},
   "outputs": [],
   "source": [
    "# import the raw values of common proteins from multiomic methods \n",
    "df_pro=pd.read_csv(r'D:\\\\yuming\\\\2023\\\\20230309\\\\csodiaq_quan\\\\common_proteins_macro.csv')\n"
   ]
  },
  {
   "cell_type": "code",
   "execution_count": null,
   "id": "2fbccb61",
   "metadata": {},
   "outputs": [],
   "source": [
    "df_pro=df_pro.iloc[:,:19]\n",
    "df_pro.set_index('Unnamed: 0',inplace=True)\n",
    "df_pro"
   ]
  },
  {
   "cell_type": "code",
   "execution_count": null,
   "id": "4bb947de",
   "metadata": {},
   "outputs": [],
   "source": [
    "dfpro_log2=np.log2(df_pro)\n",
    "#dfpro_log2=df_pro\n",
    "dfpro_log2"
   ]
  },
  {
   "cell_type": "code",
   "execution_count": null,
   "id": "d751f72e",
   "metadata": {},
   "outputs": [],
   "source": [
    "# apply standard scaler to the new dataframe \n",
    "ss = StandardScaler() \n",
    "df_ss = ss.fit_transform(dfpro_log2)\n",
    "dfpro_std=pd.DataFrame(df_ss,index=dfpro_log2.index,columns=dfpro_log2.columns)\n",
    "dfpro_std"
   ]
  },
  {
   "cell_type": "code",
   "execution_count": 14,
   "id": "5c09a25d",
   "metadata": {},
   "outputs": [],
   "source": [
    "# function for oneway_ANOVA analysis \n",
    "def oneway_ANOVA(result=dfpro_std):\n",
    "    pval=[]\n",
    "    for i in range(len(result)):\n",
    "        aa=result.iloc[i,:6].tolist()\n",
    "        bb=result.iloc[i,6:12].tolist()\n",
    "        cc=result.iloc[i,12:18].tolist()     \n",
    "        p_value=f_oneway(aa,bb,cc)[1]\n",
    "        pval.append([i,p_value])\n",
    "        fl = pd.DataFrame(pval)\n",
    "        fl.columns = ['number', 'p_value']\n",
    "    return(fl)"
   ]
  },
  {
   "cell_type": "code",
   "execution_count": null,
   "id": "a85d8233",
   "metadata": {},
   "outputs": [],
   "source": [
    "# apply anova to all proteins, and calculate p VALUES\n",
    "dfpro_pval=oneway_ANOVA(result=dfpro_std)\n",
    "dfpro_pval['index_name']=dfpro_std.index.values.tolist()\n",
    "dfpro_pval"
   ]
  },
  {
   "cell_type": "code",
   "execution_count": null,
   "id": "cb338178",
   "metadata": {},
   "outputs": [],
   "source": [
    "len([item for item in dfpro_pval['p_value'].tolist() if item <0.05])"
   ]
  },
  {
   "cell_type": "code",
   "execution_count": 10,
   "id": "3b1242c4",
   "metadata": {},
   "outputs": [],
   "source": [
    "FDR_res=statsmodels.stats.multitest.fdrcorrection(dfpro_pval['p_value'].tolist(), alpha=0.05, method='indep', is_sorted=False)[0]"
   ]
  },
  {
   "cell_type": "code",
   "execution_count": null,
   "id": "35748a05",
   "metadata": {},
   "outputs": [],
   "source": [
    "# calculate the pvalues < 0.05 after FDR correction \n",
    "\n",
    "yuyu=[]\n",
    "for item in range(len(FDR_res)):\n",
    "    if FDR_res[item]== True:\n",
    "        yuyu.append(item)\n",
    "len(yuyu)"
   ]
  },
  {
   "cell_type": "code",
   "execution_count": null,
   "id": "07921e08",
   "metadata": {},
   "outputs": [],
   "source": [
    "# locate the significant proteins from df_pval dataframe, aiming to find the protein names out \n",
    "sig_pro=dfpro_pval.loc[yuyu]\n",
    "sig_pro"
   ]
  },
  {
   "cell_type": "code",
   "execution_count": null,
   "id": "8b915ea5",
   "metadata": {},
   "outputs": [],
   "source": [
    "dfpro_sig=dfpro_std.loc[sig_pro['index_name']]\n",
    "dfpro_sig"
   ]
  },
  {
   "cell_type": "code",
   "execution_count": 88,
   "id": "b1a66ddf",
   "metadata": {},
   "outputs": [],
   "source": [
    "k=[item.split(\"|\")[1] for item in dfpro_sig.index]\n",
    "dfk=pd.DataFrame(k)\n"
   ]
  },
  {
   "cell_type": "code",
   "execution_count": 14,
   "id": "d70f6c57",
   "metadata": {},
   "outputs": [],
   "source": [
    "treatment=['Con']*6+['LPS']*6+['IL_4']*6\n",
    "PCA_pro_sig=dfpro_sig.T"
   ]
  },
  {
   "cell_type": "code",
   "execution_count": null,
   "id": "ecb623f4",
   "metadata": {},
   "outputs": [],
   "source": [
    "# set the data soucrce\n",
    "df =PCA_pro_sig\n",
    "\n",
    "from sklearn.decomposition import PCA\n",
    "from sklearn.preprocessing import StandardScaler\n",
    "\n",
    "# standardize the features\n",
    "scaler = StandardScaler()\n",
    "X_scaled = scaler.fit_transform(df)\n",
    "\n",
    "# perform PCA with 2 principal components\n",
    "pca = PCA(n_components=2)\n",
    "pca.fit(X_scaled)\n",
    "\n",
    "# transform the features to the new space\n",
    "X_pca = pca.transform(X_scaled)\n",
    "\n",
    "# create a new dataframe with the principal components and target variable\n",
    "df_pca = pd.DataFrame(X_pca, columns=['PC1', 'PC2'])\n",
    "df_pca['target'] = treatment\n",
    "\n",
    "# plot the results\n",
    "import seaborn as sns\n",
    "plt.figure(figsize=(8, 6), edgecolor='#04253a')\n",
    "sns.scatterplot(x='PC1', y='PC2', hue='target', data=df_pca, s=180)\n",
    "plt.yticks(fontsize=22)\n",
    "plt.xticks(fontsize=22)\n",
    "plt.xlabel('PC 1', fontsize=22)\n",
    "plt.ylabel('PC 2', fontsize=22)\n",
    "plt.legend(bbox_to_anchor=(1.01, 1), loc='upper left', borderaxespad=0.2,fontsize=20)"
   ]
  },
  {
   "cell_type": "code",
   "execution_count": 16,
   "id": "ea15c343",
   "metadata": {},
   "outputs": [],
   "source": [
    "dfpro_std2=dfpro_std"
   ]
  },
  {
   "cell_type": "code",
   "execution_count": null,
   "id": "a3625607",
   "metadata": {},
   "outputs": [],
   "source": [
    "# standardize by rows\n",
    "scaler=StandardScaler()\n",
    "proname=dfpro_std2.T.columns\n",
    "k=dfpro_std2.T\n",
    "dfdf_pro=ss.fit_transform(k)\n",
    "\n",
    "dfpro_stdbyrow=pd.DataFrame(dfdf_pro.T,index=dfpro_std2.index,columns=dfpro_std2.columns)\n",
    "dfpro_stdbyrow"
   ]
  },
  {
   "cell_type": "code",
   "execution_count": null,
   "id": "c6af612f",
   "metadata": {},
   "outputs": [],
   "source": [
    "#calculate the mean value of proteins from 6 repeats in each treatment \n",
    "con=dfpro_stdbyrow.iloc[:,:6].mean(axis=1).tolist()\n",
    "lps=dfpro_stdbyrow.iloc[:,6:12].mean(axis=1).tolist()\n",
    "IL_4=dfpro_stdbyrow.iloc[:,12:18].mean(axis=1).tolist()\n",
    "newdict={'Con':con,'LPS':lps,'IL_4':IL_4}\n",
    "\n",
    "dfpro_mean=pd.DataFrame.from_dict(newdict)\n",
    "dfpro_mean.index=dfpro_stdbyrow.index\n",
    "dfpro_mean"
   ]
  },
  {
   "cell_type": "code",
   "execution_count": 19,
   "id": "47151399",
   "metadata": {},
   "outputs": [],
   "source": [
    "sigpro_stdrow=dfpro_mean.loc[sig_pro['index_name']]"
   ]
  },
  {
   "cell_type": "code",
   "execution_count": 37,
   "id": "a0b41414",
   "metadata": {},
   "outputs": [],
   "source": [
    "def optimise_k_means(data,max_k):\n",
    "    means=[]\n",
    "    inertias=[]\n",
    "    for k in range(1,max_k):\n",
    "        kmeans=KMeans(n_clusters=k)\n",
    "        kmeans.fit(data)\n",
    "        means.append(k)\n",
    "        inertias.append(kmeans.inertia_)\n",
    "    fig=plt.subplots(figsize=(10,5))\n",
    "    plt.plot(means,inertias)\n",
    "    plt.xlabel('number of clusters')\n",
    "    plt.ylabel('inertia')\n",
    "    plt.show()"
   ]
  },
  {
   "cell_type": "code",
   "execution_count": 24,
   "id": "24aa448d",
   "metadata": {},
   "outputs": [],
   "source": [
    "optimise_k_means(sigpro_stdrow,10)"
   ]
  },
  {
   "cell_type": "code",
   "execution_count": null,
   "id": "b4de27bf",
   "metadata": {},
   "outputs": [],
   "source": [
    "kmeans=KMeans(n_clusters=4)\n",
    "kmeans.fit(sigpro_stdrow[['Con','LPS','IL_4']])\n",
    "\n",
    "sigpro_stdrow['kmeans']=kmeans.labels_\n",
    "sigpro_stdrow"
   ]
  },
  {
   "cell_type": "code",
   "execution_count": null,
   "id": "c303d591",
   "metadata": {},
   "outputs": [],
   "source": [
    "# plot heatmap for significant metabolites\n",
    "df_df=sigpro_stdrow\n",
    "dfaa=df_df.sort_values(by='kmeans')\n",
    "df_bb=dfaa.T\n",
    "df_heat=df_bb.iloc[:3,:]\n",
    "\n",
    "plt.figure(figsize=(22,5),edgecolor=\"#04253a\")\n",
    "matplotlib.rcParams['font.family'] = \"Arial\"\n",
    "sns.heatmap(df_heat,  vmin=-1.5, vmax=1.5,cmap='viridis',xticklabels=False,cbar_kws={\"shrink\": 1, 'ticks': [-2, -1, 0, 1, 2]})\n",
    "plt.xticks([])\n",
    "plt.yticks()\n",
    "plt.tick_params(axis='y',length=6)\n",
    "plt.yticks(rotation=90)\n",
    "plt.yticks(fontsize=22)\n",
    "plt.savefig(r'D:\\\\project7_SMAD\\\\SI_figures\\\\sigpro_heatmap.svg',dpi=1000,bbox_inches='tight')"
   ]
  },
  {
   "cell_type": "code",
   "execution_count": 22,
   "id": "15fded1d",
   "metadata": {},
   "outputs": [],
   "source": [
    "x=['Con','LPS','IL_4']\n",
    "\n",
    "# take different cluster protein names out\n",
    "#sig_cluster4=sigpro_stdrow.loc[sigpro_stdrow['kmeans']==4]\n",
    "sig_cluster3=sigpro_stdrow.loc[sigpro_stdrow['kmeans']==3]\n",
    "sig_cluster2=sigpro_stdrow.loc[sigpro_stdrow['kmeans']==2]\n",
    "sig_cluster1=sigpro_stdrow.loc[sigpro_stdrow['kmeans']==1]\n",
    "sig_cluster0=sigpro_stdrow.loc[sigpro_stdrow['kmeans']==0]"
   ]
  },
  {
   "cell_type": "code",
   "execution_count": null,
   "id": "f84fad16",
   "metadata": {},
   "outputs": [],
   "source": [
    "import matplotlib.pyplot as plt\n",
    "\n",
    "# Create a dictionary of cluster names and corresponding data\n",
    "cluster_data = {'sigpro_Cluster 1': sigpro_stdrow.loc[list(sig_cluster0.index)],\n",
    "                'sigpro_Cluster 2': sigpro_stdrow.loc[list(sig_cluster1.index)],\n",
    "                'sigpro_Cluster 3': sigpro_stdrow.loc[list(sig_cluster2.index)],\n",
    "                'sigpro_Cluster 4': sigpro_stdrow.loc[list(sig_cluster3.index)],}\n",
    "                #'Cluster 5': sigpro_stdrow.loc[list(sig_cluster4.index)]}\n",
    "\n",
    "# Loop over the dictionary items to plot the data for each cluster\n",
    "for title, data in cluster_data.items():\n",
    "    plt.figure(figsize=(6, 5), edgecolor='#04253a')\n",
    "    plt.rcParams['font.family'] = 'Arial'\n",
    "    for i in range(len(data)):\n",
    "        plt.plot(x, data.iloc[i, :3])  \n",
    "    #plt.title(title, fontsize=24)\n",
    "    plt.xlabel('Treatment', fontsize=24)\n",
    "    plt.ylabel('Score', fontsize=24)\n",
    "    plt.xticks(fontsize=20)\n",
    "    plt.yticks(fontsize=22)\n",
    "    plt.savefig(r'D:\\\\project7_SMAD\\\\SI_figures\\\\{}.svg'.format(title),dpi=800,bbox_inches='tight')\n",
    "    plt.show()"
   ]
  },
  {
   "cell_type": "markdown",
   "id": "b8668462",
   "metadata": {},
   "source": [
    "# metabolome analysis of macrophage starts from here"
   ]
  },
  {
   "cell_type": "code",
   "execution_count": 4,
   "id": "739b57e1",
   "metadata": {},
   "outputs": [],
   "source": [
    "# import raw data of macrophage metabolome \n",
    "\n",
    "df_meta=pd.read_excel(r'E:\\\\project7_SMAD\\\\raw_data\\\\macro_metabolites_raw.xlsx')"
   ]
  },
  {
   "cell_type": "code",
   "execution_count": null,
   "id": "2731888b",
   "metadata": {},
   "outputs": [],
   "source": [
    "df_meta=df_meta.drop_duplicates(subset=['mz'],keep='first')\n",
    "df_meta.set_index('mz',inplace=True)\n",
    "df_meta"
   ]
  },
  {
   "cell_type": "code",
   "execution_count": null,
   "id": "f21a2306",
   "metadata": {},
   "outputs": [],
   "source": [
    "dfmeta_log2=np.log2(df_meta)\n",
    "#dfpro_log2=df_pro\n",
    "dfmeta_log2"
   ]
  },
  {
   "cell_type": "code",
   "execution_count": null,
   "id": "19ff1cbe",
   "metadata": {},
   "outputs": [],
   "source": [
    "ss = StandardScaler() \n",
    "dfmeta_ss = ss.fit_transform(dfmeta_log2)\n",
    "dfmeta_std=pd.DataFrame(dfmeta_ss,index=dfmeta_log2.index,columns=dfmeta_log2.columns)\n",
    "dfmeta_std"
   ]
  },
  {
   "cell_type": "code",
   "execution_count": null,
   "id": "c6c6fdd6",
   "metadata": {},
   "outputs": [],
   "source": [
    "# calculate the p values of metabolome for different treatments \n",
    "\n",
    "dfmeta_pval=oneway_ANOVA(result=dfmeta_std)\n",
    "dfmeta_pval['index_name']=dfmeta_std.index.values.tolist()\n",
    "dfmeta_pval"
   ]
  },
  {
   "cell_type": "code",
   "execution_count": null,
   "id": "921b1964",
   "metadata": {},
   "outputs": [],
   "source": [
    "len([item for item in dfmeta_pval['p_value'].tolist() if item <0.05])"
   ]
  },
  {
   "cell_type": "code",
   "execution_count": null,
   "id": "cf0bc6bf",
   "metadata": {},
   "outputs": [],
   "source": [
    "FDR_res_meta=statsmodels.stats.multitest.fdrcorrection(dfmeta_pval['p_value'].tolist(), alpha=0.05, method='indep', is_sorted=False)[0]"
   ]
  },
  {
   "cell_type": "code",
   "execution_count": null,
   "id": "9536aeba",
   "metadata": {},
   "outputs": [],
   "source": [
    "# calculate the pvalues < 0.01 after FDR correction \n",
    "\n",
    "meta_yuyu=[]\n",
    "for item in range(len(FDR_res_meta)):\n",
    "    if FDR_res_meta[item]== True:\n",
    "        meta_yuyu.append(item)\n",
    "len(meta_yuyu)"
   ]
  },
  {
   "cell_type": "code",
   "execution_count": null,
   "id": "839f5d0d",
   "metadata": {},
   "outputs": [],
   "source": [
    "# locate the significant m/z from dfmeta_std dataframe, aiming to find the sig mz names out \n",
    "\n",
    "sig_meta=dfmeta_pval.loc[meta_yuyu]\n",
    "sig_meta"
   ]
  },
  {
   "cell_type": "code",
   "execution_count": null,
   "id": "4b51e750",
   "metadata": {},
   "outputs": [],
   "source": [
    "dfmeta_sig=dfmeta_std.loc[sig_meta['index_name']]\n",
    "dfmeta_sig"
   ]
  },
  {
   "cell_type": "code",
   "execution_count": 35,
   "id": "cae7875d",
   "metadata": {},
   "outputs": [],
   "source": [
    "treatment=['Con']*6+['LPS']*6+['IL_4']*6\n",
    "PCA_meta_sig=dfmeta_sig.T"
   ]
  },
  {
   "cell_type": "code",
   "execution_count": null,
   "id": "f1fa501b",
   "metadata": {},
   "outputs": [],
   "source": [
    "# set the data soucrce\n",
    "df =PCA_meta_sig\n",
    "from sklearn.decomposition import PCA\n",
    "from sklearn.preprocessing import StandardScaler\n",
    "\n",
    "# standardize the features\n",
    "scaler = StandardScaler()\n",
    "X_scaled = scaler.fit_transform(df)\n",
    "\n",
    "# perform PCA with 2 principal components\n",
    "pca = PCA(n_components=2)\n",
    "pca.fit(X_scaled)\n",
    "\n",
    "# transform the features to the new space\n",
    "X_pca = pca.transform(X_scaled)\n",
    "\n",
    "# create a new dataframe with the principal components and target variable\n",
    "df_pca = pd.DataFrame(X_pca, columns=['PC1', 'PC2'])\n",
    "df_pca['target'] = treatment\n",
    "\n",
    "# plot the results\n",
    "plt.figure(figsize=(8, 6), edgecolor='#04253a')\n",
    "sns.scatterplot(x='PC1', y='PC2', hue='target', data=df_pca, s=180)\n",
    "plt.yticks(fontsize=22)\n",
    "plt.xticks(fontsize=22)\n",
    "plt.xlabel('PC 1', fontsize=22)\n",
    "plt.ylabel('PC 2', fontsize=22)\n",
    "plt.legend(bbox_to_anchor=(1.01, 1), loc='upper left', borderaxespad=0.2,fontsize=20)"
   ]
  },
  {
   "cell_type": "code",
   "execution_count": 37,
   "id": "dc66288f",
   "metadata": {},
   "outputs": [],
   "source": [
    "#K means clustering process of significant metabolite features start here"
   ]
  },
  {
   "cell_type": "code",
   "execution_count": 21,
   "id": "7901c88e",
   "metadata": {},
   "outputs": [],
   "source": [
    "dfmeta_std2=dfmeta_std"
   ]
  },
  {
   "cell_type": "code",
   "execution_count": null,
   "id": "61a5f8a0",
   "metadata": {},
   "outputs": [],
   "source": [
    "# standardize by rows\n",
    "scaler=StandardScaler()\n",
    "metaname=dfmeta_std2.T.columns\n",
    "k=dfmeta_std2.T\n",
    "dfdf_meta=ss.fit_transform(k)\n",
    "\n",
    "dfmeta_stdbyrow=pd.DataFrame(dfdf_meta.T,index=dfmeta_std2.index,columns=dfmeta_std2.columns)\n",
    "dfmeta_stdbyrow"
   ]
  },
  {
   "cell_type": "code",
   "execution_count": null,
   "id": "d2f3bd80",
   "metadata": {},
   "outputs": [],
   "source": [
    "#calculate the mean value of metateins from 6 repeats in each treatment \n",
    "con=dfmeta_stdbyrow.iloc[:,:6].mean(axis=1).tolist()\n",
    "lps=dfmeta_stdbyrow.iloc[:,6:12].mean(axis=1).tolist()\n",
    "IL_4=dfmeta_stdbyrow.iloc[:,12:18].mean(axis=1).tolist()\n",
    "newdict={'Con':con,'LPS':lps,'IL_4':IL_4}\n",
    "\n",
    "dfmeta_mean=pd.DataFrame.from_dict(newdict)\n",
    "dfmeta_mean.index=dfmeta_stdbyrow.index\n",
    "dfmeta_mean"
   ]
  },
  {
   "cell_type": "code",
   "execution_count": null,
   "id": "ae1330f5",
   "metadata": {},
   "outputs": [],
   "source": [
    "sigmeta_stdrow=dfmeta_mean.loc[sig_meta['index_name']]\n",
    "sigmeta_stdrow"
   ]
  },
  {
   "cell_type": "code",
   "execution_count": null,
   "id": "b6e3bc1c",
   "metadata": {},
   "outputs": [],
   "source": [
    "optimise_k_means(sigmeta_stdrow,10)"
   ]
  },
  {
   "cell_type": "code",
   "execution_count": null,
   "id": "e8b23af1",
   "metadata": {},
   "outputs": [],
   "source": [
    "kmeans=KMeans(n_clusters=4)\n",
    "kmeans.fit(sigmeta_stdrow[['Con','LPS','IL_4']])\n",
    "\n",
    "sigmeta_stdrow['kmeans']=kmeans.labels_\n",
    "sigmeta_stdrow"
   ]
  },
  {
   "cell_type": "code",
   "execution_count": null,
   "id": "f22666ef",
   "metadata": {},
   "outputs": [],
   "source": [
    "plt.rcParams['font.family'] = 'Arial'\n",
    "for i in [0,1,2,3]:\n",
    "    plt.figure(figsize=(6, 5), edgecolor='#04253a')\n",
    "    plt.hist(sigmeta_stdrow[sigmeta_stdrow['kmeans']==i].index,bins=50) \n",
    "#plt.title(title, fontsize=24)\n",
    "    plt.xlabel('m/z', fontsize=24)\n",
    "    plt.ylabel('Counts', fontsize=24)\n",
    "    plt.xticks(fontsize=22)\n",
    "    plt.yticks(fontsize=22)\n",
    "    plt.savefig(r'D:\\\\project7_SMAD\\\\SI_figures\\\\{}.svg'.format(i),dpi=800,bbox_inches='tight')\n",
    "    plt.show()"
   ]
  },
  {
   "cell_type": "code",
   "execution_count": null,
   "id": "410870a0",
   "metadata": {},
   "outputs": [],
   "source": [
    "# plot heatmap for significant metabolites\n",
    "df_df=sigmeta_stdrow\n",
    "dfaa=df_df.sort_values(by='kmeans')\n",
    "df_bb=dfaa.T\n",
    "df_heat=df_bb.iloc[:3,:]\n",
    "\n",
    "plt.figure(figsize=(22,5),edgecolor=\"#04253a\")\n",
    "matplotlib.rcParams['font.family'] = \"Arial\"\n",
    "sns.heatmap(df_heat,  vmin=-1.5, vmax=1.5,cmap='viridis',xticklabels=False,cbar_kws={\"shrink\": 1, 'ticks': [-2, -1, 0, 1, 2]})\n",
    "plt.xticks([])\n",
    "plt.yticks()\n",
    "plt.tick_params(axis='y',length=6)\n",
    "plt.yticks(rotation=90)\n",
    "plt.yticks(fontsize=22)\n",
    "plt.savefig(r'D:\\\\project7_SMAD\\\\figure_3_macro_clustering_analysis\\\\SI_figures\\\\sigmeta_heatmap.svg',dpi=600,bbox_inches='tight')"
   ]
  },
  {
   "cell_type": "code",
   "execution_count": 34,
   "id": "58c6a4c8",
   "metadata": {},
   "outputs": [],
   "source": [
    "x=['Con','LPS','IL_4']\n",
    "\n",
    "# take different cluster metatein names out\n",
    "#sig_cluster4=sigmeta_stdrow.loc[sigmeta_stdrow['kmeans']==4]\n",
    "sig_cluster3=sigmeta_stdrow.loc[sigmeta_stdrow['kmeans']==3]\n",
    "sig_cluster2=sigmeta_stdrow.loc[sigmeta_stdrow['kmeans']==2]\n",
    "sig_cluster1=sigmeta_stdrow.loc[sigmeta_stdrow['kmeans']==1]\n",
    "sig_cluster0=sigmeta_stdrow.loc[sigmeta_stdrow['kmeans']==0]"
   ]
  },
  {
   "cell_type": "code",
   "execution_count": null,
   "id": "22ab2ab9",
   "metadata": {},
   "outputs": [],
   "source": [
    "import matplotlib.pyplot as plt\n",
    "\n",
    "# Create a dictionary of cluster names and corresponding data\n",
    "cluster_data = {'sigmeta_Cluster 1': sigmeta_stdrow.loc[list(sig_cluster0.index)],\n",
    "                'sigmeta_Cluster 2': sigmeta_stdrow.loc[list(sig_cluster1.index)],\n",
    "                'sigmeta_Cluster 3': sigmeta_stdrow.loc[list(sig_cluster2.index)],\n",
    "                'sigmeta_Cluster 4': sigmeta_stdrow.loc[list(sig_cluster3.index)],}\n",
    "                #'Cluster 5': sigmeta_stdrow.loc[list(sig_cluster4.index)]}\n",
    "\n",
    "# Loop over the dictionary items to plot the data for each cluster\n",
    "for title, data in cluster_data.items():\n",
    "    plt.figure(figsize=(6, 5), edgecolor='#04253a')\n",
    "    plt.rcParams['font.family'] = 'Arial'\n",
    "    for i in range(len(data)):\n",
    "        plt.plot(x, data.iloc[i, :3])  \n",
    "    plt.title(title, fontsize=24)\n",
    "    #plt.xlabel('Treatment', fontsize=24)\n",
    "    plt.ylabel('Score', fontsize=24)\n",
    "    plt.xticks(fontsize=20)\n",
    "    plt.yticks(fontsize=22)\n",
    "    plt.savefig(r'D:\\\\project7_SMAD\\\\figure_3_macro_clustering_analysis\\\\SI_figures\\\\{}.svg'.format(title),dpi=800,bbox_inches='tight')\n",
    "    plt.show()"
   ]
  },
  {
   "cell_type": "code",
   "execution_count": 52,
   "id": "8b4b8535",
   "metadata": {},
   "outputs": [],
   "source": [
    "# Trying to match significant meta m/z to the identified m/z"
   ]
  },
  {
   "cell_type": "code",
   "execution_count": null,
   "id": "f76da83f",
   "metadata": {},
   "outputs": [],
   "source": [
    "# input the identified m/z features from GNPS results \n",
    "fileslist = []\n",
    "dir = 'D:\\\\project7_SMAD\\\\meta_identification'\n",
    "for file in os.listdir(dir):\n",
    "    if file.endswith(\".tsv\"):\n",
    "        fileslist.append(os.path.join(dir, file))\n",
    "print(fileslist)"
   ]
  },
  {
   "cell_type": "code",
   "execution_count": 4,
   "id": "021fc8e4",
   "metadata": {},
   "outputs": [],
   "source": [
    "meta_macro=pd.read_csv(fileslist[1],delimiter=\"\\t\", header=0)\n",
    "# filter the dataframe with 'MZErrorPPM' < 30 ppm\n",
    "\n",
    "meta_macro_filter=meta_macro[meta_macro['MZErrorPPM'] < 30]"
   ]
  },
  {
   "cell_type": "code",
   "execution_count": 57,
   "id": "cf14eaa6",
   "metadata": {},
   "outputs": [],
   "source": [
    "#len(remove_dul(tar_list=meta_macro_filter['Compound_Name'].tolist()))"
   ]
  },
  {
   "cell_type": "code",
   "execution_count": 9,
   "id": "64d68815",
   "metadata": {},
   "outputs": [],
   "source": [
    "# try to match the significant metabolite m/z features to the identified m/z features from GNPS\n",
    "\n",
    "scan_20_25_30=meta_macro_filter[meta_macro_filter['full_CCMS_path']=='/ST_Macro_mix2_meta_DDA_Qslices_20_25_30.mzXML']\n",
    "scan_35_40_45=meta_macro_filter[meta_macro_filter['full_CCMS_path']=='/ST_Macro_mix2_meta_DDA_Qslices_35_40_45.mzXML']\n",
    "scan_5_10_15=meta_macro_filter[meta_macro_filter['full_CCMS_path']=='/ST_Macro_mix2_meta_DDA_Qslices_5_10_15.mzXML']"
   ]
  },
  {
   "cell_type": "code",
   "execution_count": null,
   "id": "7365fe68",
   "metadata": {},
   "outputs": [],
   "source": [
    "mzmlslist = []\n",
    "dir = 'D:\\\\ST_MACRO'\n",
    "for file in os.listdir(dir):\n",
    "    if file.endswith(\".mzML\") and 'Macro' in file:\n",
    "        mzmlslist.append(os.path.join(dir, file))\n",
    "print(mzmlslist)"
   ]
  },
  {
   "cell_type": "code",
   "execution_count": 12,
   "id": "2de5ad0d",
   "metadata": {},
   "outputs": [],
   "source": [
    "tmp_5_10_15 = pyteomics.mzml.read(mzmlslist[1], use_index=True)\n",
    "tmp_20_25_30 = pyteomics.mzml.read(mzmlslist[2], use_index=True)\n",
    "tmp_35_40_45 = pyteomics.mzml.read(mzmlslist[0], use_index=True)"
   ]
  },
  {
   "cell_type": "code",
   "execution_count": 13,
   "id": "6992b879",
   "metadata": {},
   "outputs": [],
   "source": [
    "list_cv1,list_cv2,list_cv3=[],[],[]\n",
    "\n",
    "for number in list(np.array(scan_5_10_15['#Scan#'].tolist())-1):\n",
    "    list_cv1.append(float(tmp_5_10_15.get_by_index(number)['precursorList']['precursor'][0]['isolationWindow']['isolation window target m/z']))\n",
    "for number in list(np.array(scan_20_25_30['#Scan#'].tolist())-1):\n",
    "    list_cv2.append(float(tmp_20_25_30.get_by_index(number)['precursorList']['precursor'][0]['isolationWindow']['isolation window target m/z']))\n",
    "for number in list(np.array(scan_35_40_45['#Scan#'].tolist())-1):\n",
    "    list_cv3.append(float(tmp_35_40_45.get_by_index(number)['precursorList']['precursor'][0]['isolationWindow']['isolation window target m/z']))"
   ]
  },
  {
   "cell_type": "code",
   "execution_count": null,
   "id": "72ba25d9",
   "metadata": {},
   "outputs": [],
   "source": [
    "new_df1=scan_5_10_15.iloc[:,:7]\n",
    "new_df2=scan_20_25_30.iloc[:,:7]\n",
    "new_df3=scan_35_40_45.iloc[:,:7]\n",
    "new_df1['mz']=list_cv1\n",
    "new_df2['mz']=list_cv2\n",
    "new_df3['mz']=list_cv3\n",
    "newdf_all=pd.concat([new_df1,new_df2,new_df3])\n",
    "newdf_all"
   ]
  },
  {
   "cell_type": "code",
   "execution_count": null,
   "id": "8c7a3443",
   "metadata": {},
   "outputs": [],
   "source": [
    "newdf_all['mz_rounded']=[round(num, 3) for num in newdf_all['mz']]\n",
    "newdf_all"
   ]
  },
  {
   "cell_type": "code",
   "execution_count": 16,
   "id": "5540a93f",
   "metadata": {},
   "outputs": [],
   "source": [
    "newdf_all.to_excel(r'D:\\\\project7_SMAD\\\\GNPS_RESULTS.xlsx')"
   ]
  },
  {
   "cell_type": "code",
   "execution_count": null,
   "id": "de529d11",
   "metadata": {},
   "outputs": [],
   "source": [
    "mz=[round(x, 3) for x in dfmeta_sig.index.tolist()]\n",
    "\n",
    "dfmeta_sig2=dfmeta_sig\n",
    "dfmeta_sig2['mz_rounded']=mz\n",
    "dfmeta_sig2"
   ]
  },
  {
   "cell_type": "code",
   "execution_count": 66,
   "id": "ac6d4aa8",
   "metadata": {},
   "outputs": [],
   "source": [
    "# get the significant m/z and corresponding compound name out  named the dataframe to name_df\n",
    "\n",
    "name_df=dfmeta_sig2[dfmeta_sig2['mz_rounded'].isin (newdf_all['mz_rounded'].tolist())]\n"
   ]
  },
  {
   "cell_type": "code",
   "execution_count": null,
   "id": "79d58777",
   "metadata": {},
   "outputs": [],
   "source": [
    "name_df.to_excel(r'D:\\\\project7_SMAD\\\\macro_sigmeta_identified.xlsx')\n",
    "name_df"
   ]
  },
  {
   "cell_type": "code",
   "execution_count": null,
   "id": "2879b7fd",
   "metadata": {},
   "outputs": [],
   "source": []
  },
  {
   "cell_type": "code",
   "execution_count": 68,
   "id": "91ca4164",
   "metadata": {},
   "outputs": [],
   "source": [
    "dfmeta_id=pd.read_excel(r'D:\\\\project7_SMAD\\\\sig_meta_identified.xlsx')"
   ]
  },
  {
   "cell_type": "code",
   "execution_count": 69,
   "id": "e8cfef94",
   "metadata": {},
   "outputs": [],
   "source": [
    "dfmeta_id.set_index('mz_rounded',inplace=True)"
   ]
  },
  {
   "cell_type": "code",
   "execution_count": null,
   "id": "ea5dfdb3",
   "metadata": {},
   "outputs": [],
   "source": [
    "dfmeta_id=dfmeta_id.iloc[:,1:]\n",
    "dfmeta_id"
   ]
  },
  {
   "cell_type": "code",
   "execution_count": null,
   "id": "2ed9ed0c",
   "metadata": {},
   "outputs": [],
   "source": [
    "# K means clustering of the identifed and significat metabolite features \n",
    "\n",
    "sss=StandardScaler()\n",
    "anyte=dfmeta_id.T.columns\n",
    "er=dfmeta_id.T\n",
    "dfer=ss.fit_transform(er)\n",
    "\n",
    "dfer_stdbyrow=pd.DataFrame(dfer.T,index=dfmeta_id.index,columns=dfmeta_id.columns)\n",
    "dfer_stdbyrow\n"
   ]
  },
  {
   "cell_type": "code",
   "execution_count": null,
   "id": "eff66795",
   "metadata": {},
   "outputs": [],
   "source": [
    "#calculate the mean value of identified metabolites of 6 repeats for each treatment, socurce dataframe is after two times std_scaler \n",
    "con2=dfer_stdbyrow.iloc[:,:6].mean(axis=1).tolist()\n",
    "lps2=dfer_stdbyrow.iloc[:,6:12].mean(axis=1).tolist()\n",
    "IL_42=dfer_stdbyrow.iloc[:,12:18].mean(axis=1).tolist()\n",
    "newdict2={'Con':con2,'LPS':lps2,'IL_4':IL_42}\n",
    "\n",
    "dfer_mean=pd.DataFrame.from_dict(newdict2)\n",
    "dfer_mean.index=dfer_stdbyrow.index\n",
    "dfer_mean"
   ]
  },
  {
   "cell_type": "code",
   "execution_count": null,
   "id": "b3f37395",
   "metadata": {},
   "outputs": [],
   "source": []
  },
  {
   "cell_type": "code",
   "execution_count": null,
   "id": "adfc4bef",
   "metadata": {},
   "outputs": [],
   "source": [
    "kmeans=KMeans(n_clusters=4)\n",
    "kmeans.fit(dfer_mean[['Con','LPS','IL_4']])\n",
    "\n",
    "dfer_mean['kmeans']=kmeans.labels_\n",
    "dfer_mean"
   ]
  },
  {
   "cell_type": "code",
   "execution_count": 75,
   "id": "3bb387e4",
   "metadata": {},
   "outputs": [],
   "source": [
    "sample=[2,4,6,8,3]\n",
    "def remove_dul(tar_list=sample):\n",
    "    res=[]\n",
    "    [res.append(x) for x in tar_list if x not in res]\n",
    "    return(res)\n",
    "\n",
    "def plot_clusters(df=sigmeta_stdrow):\n",
    "    x=['Con','LPS','IL_4']\n",
    "    # take different cluster metatein names out\n",
    "    #sig_cluster4=df.loc[df['kmeans']==4]\n",
    "    sig_cluster3=df.loc[df['kmeans']==3]\n",
    "    sig_cluster2=df.loc[df['kmeans']==2]\n",
    "    sig_cluster1=df.loc[df['kmeans']==1]\n",
    "    sig_cluster0=df.loc[df['kmeans']==0]\n",
    "    # Create a dictionary of cluster names and corresponding data\n",
    "    cluster_data = {'Cluster 1': df.loc[list(sig_cluster0.index)],\n",
    "                    'Cluster 2': df.loc[list(sig_cluster1.index)],\n",
    "                    'Cluster 3': df.loc[list(sig_cluster2.index)],\n",
    "                    'Cluster 4': df.loc[list(sig_cluster3.index)],}\n",
    "                    #'Cluster 5': df.loc[list(sig_cluster4.index)]}\n",
    "\n",
    "    # Loop over the dictionary items to plot the data for each cluster\n",
    "    for title, data in cluster_data.items():\n",
    "        plt.figure(figsize=(6, 5), edgecolor='#04253a')\n",
    "        plt.rcParams['font.family'] = 'Arial'\n",
    "        for i in range(len(data)):\n",
    "            plt.plot(x, data.iloc[i, :3])  \n",
    "        plt.title(title, fontsize=24)\n",
    "        plt.xlabel('Treatment', fontsize=24)\n",
    "        plt.ylabel('Score', fontsize=24)\n",
    "        plt.xticks(fontsize=20)\n",
    "        plt.yticks(fontsize=22)\n",
    "        plt.show()"
   ]
  },
  {
   "cell_type": "code",
   "execution_count": 76,
   "id": "15812350",
   "metadata": {},
   "outputs": [],
   "source": [
    "plot_clusters(df=dfer_mean)"
   ]
  },
  {
   "cell_type": "code",
   "execution_count": null,
   "id": "ec164fe7",
   "metadata": {},
   "outputs": [],
   "source": [
    "# combine significant proteins and identified metabolites together\n",
    "result = pd.concat([dfer_mean, sigpro_stdrow], axis=0)\n",
    "result=result.iloc[:,:3]\n",
    "result"
   ]
  },
  {
   "cell_type": "code",
   "execution_count": null,
   "id": "2dbf1a6a",
   "metadata": {},
   "outputs": [],
   "source": [
    "kmeans=KMeans(n_clusters=4)\n",
    "kmeans.fit(result[['Con','LPS','IL_4']])\n",
    "\n",
    "result['kmeans']=kmeans.labels_\n",
    "result"
   ]
  },
  {
   "cell_type": "code",
   "execution_count": 111,
   "id": "8b7086ab",
   "metadata": {},
   "outputs": [],
   "source": [
    "result.to_excel(r'D:\\\\project7_SMAD\\\\sig_multi_identified_dropdulpli_final.xlsx')"
   ]
  },
  {
   "cell_type": "code",
   "execution_count": 15,
   "id": "01457551",
   "metadata": {},
   "outputs": [],
   "source": [
    "result2=pd.read_excel(r'D:\\\\project7_SMAD\\\\sig_multi_identified_dropdulpli_final.xlsx',index_col=0)"
   ]
  },
  {
   "cell_type": "code",
   "execution_count": 17,
   "id": "902c761c",
   "metadata": {},
   "outputs": [],
   "source": [
    "result3=result2.iloc[:,:3]"
   ]
  },
  {
   "cell_type": "code",
   "execution_count": null,
   "id": "cc2aa08a",
   "metadata": {},
   "outputs": [],
   "source": [
    "sig_cluster3=result2.loc[result2['kmeans']==3]\n",
    "sig_cluster2=result2.loc[result2['kmeans']==2]\n",
    "sig_cluster1=result2.loc[result2['kmeans']==1]\n",
    "sig_cluster0=result2.loc[result2['kmeans']==0]\n",
    "\n",
    "# Create a dictionary of cluster names and corresponding data\n",
    "cluster_data = {'multiCluster 1': result3.loc[list(sig_cluster0.index)],\n",
    "                'multiCluster 2': result3.loc[list(sig_cluster1.index)],\n",
    "                'multiCluster 3': result3.loc[list(sig_cluster2.index)],\n",
    "                'multiCluster 4': result3.loc[list(sig_cluster3.index)]}\n",
    "x=['Con','LPS','IL_4']\n",
    "# Loop over the dictionary items to plot the data for each cluster\n",
    "for title, data in cluster_data.items():\n",
    "    plt.figure(figsize=(6, 5), edgecolor='#04253a')\n",
    "    plt.rcParams['font.family'] = 'Arial'\n",
    "    num1,num2=[],[]\n",
    "    for index in data.index:\n",
    "        if isinstance(index, float):\n",
    "            plt.plot(x,list(data.loc[index]),color=\"#FFA500\",alpha=0.8,linewidth=2,label='metabolites')\n",
    "            num1.append(index)\n",
    "        if isinstance(index, str):\n",
    "            plt.plot(x,list(data.loc[index]),color=\"#7030A0\",alpha=0.5,linewidth=2.2,label='proteins') \n",
    "            num2.append(index)\n",
    "    print([len(num1),len(num2)])\n",
    "    #plt.title(title, fontsize=24)\n",
    "    #plt.xlabel('Treatment', fontsize=24)\n",
    "    #plt.ylabel('Score', fontsize=24)\n",
    "    plt.xticks(fontsize=26)\n",
    "    plt.yticks(fontsize=26)\n",
    "    plt.ylim(-1.7,1.7)\n",
    "    plt.yticks([-1,  0,  1])\n",
    "    plt.tick_params(axis='x', which='both', length=9)\n",
    "    plt.savefig(r'D:\\\\project7_SMAD\\\\{}.svg'.format(title))\n",
    "    plt.show()"
   ]
  },
  {
   "cell_type": "code",
   "execution_count": 3,
   "id": "d7aede32",
   "metadata": {},
   "outputs": [],
   "source": [
    "# plot the heatmap for multiomic dataset\n",
    "\n",
    "df=pd.read_excel(r'D:\\\\project7_SMAD\\\\sig_multi_identified_dropdulpli_final.xlsx',index_col=0,sheet_name=\"Sheet2\")\n"
   ]
  },
  {
   "cell_type": "code",
   "execution_count": null,
   "id": "5fdca0d9",
   "metadata": {},
   "outputs": [],
   "source": [
    "df_bb=df.T\n",
    "df_heat=df_bb.iloc[:3,:]\n",
    "\n",
    "plt.figure(figsize=(22,5),edgecolor=\"#04253a\")\n",
    "matplotlib.rcParams['font.family'] = \"Arial\"\n",
    "sns.heatmap(df_heat,  vmin=-1.5, vmax=1.5,cmap='viridis',xticklabels=False,cbar_kws={\"shrink\": 1, 'ticks': [-2, -1, 0, 1, 2]})\n",
    "plt.xticks([])\n",
    "plt.yticks()\n",
    "plt.tick_params(axis='y',length=6)\n",
    "plt.yticks(rotation=90)\n",
    "plt.yticks(fontsize=22)\n",
    "plt.savefig(r'D:\\\\project7_SMAD\\\\figure_3_macro_clustering_analysis\\\\Figure3_heatmap.svg',dpi=1000)"
   ]
  },
  {
   "cell_type": "code",
   "execution_count": null,
   "id": "73b93a57",
   "metadata": {},
   "outputs": [],
   "source": [
    "df_bb=df.T\n",
    "df_heat=df_bb.iloc[:3,:]\n",
    "\n",
    "plt.figure(figsize=(22,5),edgecolor=\"#04253a\")\n",
    "matplotlib.rcParams['font.family'] = \"Arial\"\n",
    "sns.heatmap(df_heat,  vmin=-1.5, vmax=1.5,cmap='viridis',xticklabels=False,cbar_kws={\"shrink\": 1, 'ticks': [-2, -1, 0, 1, 2]})\n",
    "plt.xticks([])\n",
    "plt.yticks()\n",
    "plt.tick_params(axis='y',length=6)\n",
    "plt.yticks(rotation=90)\n",
    "plt.yticks(fontsize=22)\n",
    "#plt.savefig(r'D:\\\\project7_SMAD\\\\figure_3_macro_clustering_analysis\\\\Figure3_heatmap.tiff',dpi=600)"
   ]
  },
  {
   "cell_type": "markdown",
   "id": "9b6ba473",
   "metadata": {},
   "source": [
    "# plot typical metabolites and proteins here"
   ]
  },
  {
   "cell_type": "code",
   "execution_count": 119,
   "id": "1cfa12c8",
   "metadata": {},
   "outputs": [],
   "source": [
    "treatment=['Con']*6+['LPS']*6+['IL-4']*6\n",
    "\n",
    "def getdf(name='2/tr|A8XU21|A8XU21_MOUSE/sp|P97369|NCF4_MOUSE',df=dfpro_stdbyrow):    \n",
    "    A=df.iloc[:,:6].loc[name].to_frame()\n",
    "    A.columns=['Value']  \n",
    "    B=df.iloc[:,6:12].loc[name].to_frame()\n",
    "    B.columns=['Value']   \n",
    "    C=df.iloc[:,12:18].loc[name].to_frame()\n",
    "    C.columns=['Value'] \n",
    "    made=pd.concat([A,B,C])\n",
    "    made['treatment'] = treatment\n",
    "    return(made)\n",
    "\n",
    "def plot_fig(listname=['proname'],df_name=dfpro_stdbyrow):\n",
    "    for number in listname:\n",
    "        plt.figure(figsize=(7,7))\n",
    "        dataset=getdf(name=number,df=df_name)\n",
    "        #palette = ['#9B3A4D', '#E2AE79', '#497EB2','#D0DCAA', '#8CBDA7', '#68AC57','#70A0AC']\n",
    "        ax = sns.boxplot(x=\"treatment\", y=\"Value\",width=0.8, data=dataset,palette='viridis')\n",
    "        ax = sns.stripplot(x=\"treatment\", y=\"Value\", data=dataset, color=\"black\",size=12)\n",
    "        ax.set_xlabel(\"\")\n",
    "        ax.set_ylabel(\"Score\", fontsize=36)\n",
    "        ax.tick_params(axis='both', labelsize=35)\n",
    "        ax.set_xticklabels(ax.get_xticklabels(),rotation=0)\n",
    "        plt.title(number)\n",
    "        plt.show()"
   ]
  },
  {
   "cell_type": "code",
   "execution_count": 129,
   "id": "54dc7fd9",
   "metadata": {},
   "outputs": [
    {
     "name": "stdout",
     "output_type": "stream",
     "text": [
      "2/tr|A2AP29|A2AP29_MOUSE/sp|Q6Q899|DDX58_MOUSE\n"
     ]
    }
   ],
   "source": [
    "for item in dfpro_stdbyrow.index:\n",
    "    if 'CMPK2' in item or 'RSAD2' in item or 'DDX58' in item or 'DHX58' in item:\n",
    "        print(item)"
   ]
  },
  {
   "cell_type": "code",
   "execution_count": 134,
   "id": "4d9779ce",
   "metadata": {},
   "outputs": [],
   "source": [
    "for item in dfpro_stdbyrow.index:\n",
    "    if 'MC' in item:\n",
    "        print(item)"
   ]
  },
  {
   "cell_type": "code",
   "execution_count": 120,
   "id": "ab2d51fa",
   "metadata": {},
   "outputs": [],
   "source": [
    "prolist=['1/sp|P56480|ATPB_MOUSE','2/tr|A2AP29|A2AP29_MOUSE/sp|Q6Q899|DDX58_MOUSE']\n",
    "\n"
   ]
  },
  {
   "cell_type": "code",
   "execution_count": null,
   "id": "56ca7c55",
   "metadata": {},
   "outputs": [],
   "source": [
    "plot_fig(listname=prolist,df_name=dfpro_stdbyrow)"
   ]
  }
 ],
 "metadata": {
  "kernelspec": {
   "display_name": "Python 3 (ipykernel)",
   "language": "python",
   "name": "python3"
  },
  "language_info": {
   "codemirror_mode": {
    "name": "ipython",
    "version": 3
   },
   "file_extension": ".py",
   "mimetype": "text/x-python",
   "name": "python",
   "nbconvert_exporter": "python",
   "pygments_lexer": "ipython3",
   "version": "3.9.7"
  }
 },
 "nbformat": 4,
 "nbformat_minor": 5
}
